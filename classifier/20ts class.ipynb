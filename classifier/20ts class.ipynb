{
 "cells": [
  {
   "cell_type": "markdown",
   "metadata": {},
   "source": [
    "### Classifier using twenty timesteps \n",
    "#### rows 0-19, ~260.1 years"
   ]
  },
  {
   "cell_type": "code",
   "execution_count": 1,
   "metadata": {},
   "outputs": [],
   "source": [
    "import numpy as np\n",
    "import pandas as pd\n",
    "\n",
    "from sklearn.metrics import accuracy_score\n",
    "from sklearn.model_selection import train_test_split\n",
    "\n",
    "from sklearn.ensemble import GradientBoostingClassifier"
   ]
  },
  {
   "cell_type": "code",
   "execution_count": 2,
   "metadata": {},
   "outputs": [
    {
     "name": "stdout",
     "output_type": "stream",
     "text": [
      "Index(['run', 'planet', 'initial e', 'final e', 'mean e', 'min e', 'max e',\n",
      "       'sd e', 'initial pericenter', 'final pericenter', 'mean pericenter',\n",
      "       'min pericenter', 'max pericenter', 'sd pericenter', 'initial jacobi',\n",
      "       'final jacobi', 'mean jacobi', 'min jacobi', 'max jacobi', 'sd jacobi',\n",
      "       'initial mhr1', 'final mhr1', 'mean mhr1', 'min mhr1', 'max mhr1',\n",
      "       'sd mhr1', 'initial mhr2', 'final mhr2', 'mean mhr2', 'min mhr2',\n",
      "       'max mhr2', 'sd mhr2', 'initial a1_ratio', 'final a1_ratio',\n",
      "       'mean a1_ratio', 'min a1_ratio', 'max a1_ratio', 'sd a1_ratio',\n",
      "       'initial a2_ratio', 'final a2_ratio', 'mean a2_ratio', 'min a2_ratio',\n",
      "       'max a2_ratio', 'sd a2_ratio', 'initial mass1_ratio',\n",
      "       'final mass1_ratio', 'mean mass1_ratio', 'min mass1_ratio',\n",
      "       'max mass1_ratio', 'sd mass1_ratio', 'initial mass2_ratio',\n",
      "       'final mass2_ratio', 'mean mass2_ratio', 'min mass2_ratio',\n",
      "       'max mass2_ratio', 'sd mass2_ratio', 'end time', 'fate'],\n",
      "      dtype='object')\n"
     ]
    }
   ],
   "source": [
    "planets = pd.read_csv('20ts.csv', skipinitialspace=True)\n",
    "print(planets.columns)"
   ]
  },
  {
   "cell_type": "markdown",
   "metadata": {},
   "source": [
    "###### Classifies as type of instability (ejection, remaining, planet-planet collision, central body collision).\n",
    "\n",
    "> Is currently ~64% accurate"
   ]
  },
  {
   "cell_type": "code",
   "execution_count": null,
   "metadata": {},
   "outputs": [],
   "source": [
    "fates = list(set(planets['fate']))\n",
    "types = {fates[i] : i for i in range(len(fates))}\n",
    "int_dict = {i : fates[i] for i in range(len(fates))}\n",
    "classes = planets['fate'].map(types)"
   ]
  },
  {
   "cell_type": "markdown",
   "metadata": {},
   "source": [
    "###### Classifies as either stable or unstable.\n",
    "> Is currently 84% accurate\n",
    "\n",
    "Second cell is the hard coded version"
   ]
  },
  {
   "cell_type": "code",
   "execution_count": null,
   "metadata": {},
   "outputs": [],
   "source": [
    "fates = np.sort(list(set(planets['fate']))) [::-1]\n",
    "\n",
    "types = {fates[i] : i for i in range(len(fates))}\n",
    "\n",
    "classes = planets['fate'].map(types)\n",
    "\n",
    "for i in range(len(classes)):\n",
    "    if classes[i] == 0:\n",
    "        pass\n",
    "    else:\n",
    "        classes[i] = 1"
   ]
  },
  {
   "cell_type": "code",
   "execution_count": 3,
   "metadata": {},
   "outputs": [],
   "source": [
    "fates = list(set(planets['fate']))\n",
    "\n",
    "types = {fates[i] : i for i in range(len(fates))}\n",
    "\n",
    "classes = []\n",
    "\n",
    "for i in range(len(planets['fate'])):\n",
    "    if planets['fate'][i] == \"remaining\":\n",
    "        classes += [0]\n",
    "    else:\n",
    "        classes += [1]\n",
    "        \n",
    "classes = np.array(classes)"
   ]
  },
  {
   "cell_type": "markdown",
   "metadata": {},
   "source": [
    "###### Training"
   ]
  },
  {
   "cell_type": "code",
   "execution_count": 4,
   "metadata": {},
   "outputs": [
    {
     "name": "stderr",
     "output_type": "stream",
     "text": [
      "/Users/neha/opt/anaconda3/lib/python3.8/site-packages/pandas/core/frame.py:3990: SettingWithCopyWarning: \n",
      "A value is trying to be set on a copy of a slice from a DataFrame\n",
      "\n",
      "See the caveats in the documentation: https://pandas.pydata.org/pandas-docs/stable/user_guide/indexing.html#returning-a-view-versus-a-copy\n",
      "  return super().drop(\n"
     ]
    }
   ],
   "source": [
    "features_train, features_test, classes_train, classes_test = train_test_split(planets, classes, test_size=0.3, random_state=7)\n",
    "\n",
    "ids_train = features_train['planet'].to_numpy()\n",
    "features_train.drop(['run', 'planet', 'fate', 'end time'], axis=1, inplace=True)\n",
    "\n",
    "cols = features_train.columns\n",
    "features_train = features_train.to_numpy()\n",
    "\n",
    "ids_test = features_test['planet'].to_numpy()\n",
    "features_test.drop(['run', 'planet', 'fate', 'end time'], axis=1, inplace=True)\n",
    "features_test = features_test.to_numpy()"
   ]
  },
  {
   "cell_type": "code",
   "execution_count": 5,
   "metadata": {},
   "outputs": [
    {
     "data": {
      "text/plain": [
       "GradientBoostingClassifier(random_state=7)"
      ]
     },
     "execution_count": 5,
     "metadata": {},
     "output_type": "execute_result"
    }
   ],
   "source": [
    "classifier = GradientBoostingClassifier(random_state=7)\n",
    "classifier.fit(features_train, classes_train)"
   ]
  },
  {
   "cell_type": "code",
   "execution_count": 6,
   "metadata": {},
   "outputs": [
    {
     "name": "stdout",
     "output_type": "stream",
     "text": [
      "Classifier is  84.0 % accurate on testing set\n"
     ]
    }
   ],
   "source": [
    "classes_predict = classifier.predict( features_test )\n",
    "print('Classifier is ', accuracy_score(classes_test, classes_predict) * 100, '% accurate on testing set' )"
   ]
  },
  {
   "cell_type": "markdown",
   "metadata": {},
   "source": [
    "###### Feature importance"
   ]
  },
  {
   "cell_type": "code",
   "execution_count": 7,
   "metadata": {},
   "outputs": [
    {
     "name": "stdout",
     "output_type": "stream",
     "text": [
      "sd e 0.24625006780453154\n",
      "initial a2_ratio 0.12023936362423619\n",
      "mean mass2_ratio 0.056320616401938736\n",
      "final mass2_ratio 0.045755641816739995\n",
      "initial jacobi 0.03551885618359411\n",
      "initial mass2_ratio 0.031024565928152135\n",
      "initial mhr1 0.02799911503314224\n",
      "max a2_ratio 0.02783776171784983\n",
      "final mass1_ratio 0.02424963869999756\n",
      "sd jacobi 0.024152216933346134\n",
      "min mass1_ratio 0.02316615730472054\n",
      "max mass1_ratio 0.022041141169481956\n",
      "initial a1_ratio 0.02149561261546019\n",
      "min pericenter 0.02000268315953244\n",
      "sd pericenter 0.018098975728350255\n",
      "mean mass1_ratio 0.017225717790971477\n",
      "final a2_ratio 0.013947489129770483\n",
      "max a1_ratio 0.013437530751096261\n",
      "mean a2_ratio 0.013400136802815979\n",
      "mean mhr2 0.012911443906491635\n",
      "max e 0.012299475019793045\n",
      "mean jacobi 0.012265935633035326\n",
      "sd a2_ratio 0.01139690315969144\n",
      "max mhr2 0.009890769057178022\n",
      "initial mhr2 0.009760645574916169\n",
      "max mass2_ratio 0.009073838739495972\n",
      "mean e 0.008473589533011049\n",
      "final mhr2 0.007578418621527701\n",
      "sd mhr2 0.007126401054682233\n",
      "max jacobi 0.006964044082020915\n",
      "sd mhr1 0.006938413322923603\n",
      "min mhr1 0.006799660269469644\n",
      "min mhr2 0.00643694185777916\n",
      "max mhr1 0.006382222376432568\n",
      "min jacobi 0.006016076032951289\n",
      "mean mhr1 0.005908799747160963\n",
      "mean a1_ratio 0.0055989487160954905\n",
      "initial mass1_ratio 0.005396652045605091\n",
      "min a2_ratio 0.005266514731509962\n",
      "initial e 0.0052130492197640065\n",
      "sd mass1_ratio 0.004973472402921404\n",
      "sd a1_ratio 0.004596480885331518\n",
      "final jacobi 0.004059745178602241\n",
      "min e 0.0037478959047285007\n",
      "final a1_ratio 0.0032629311429890812\n",
      "min mass2_ratio 0.0032021622961014517\n",
      "final e 0.0031600160672805425\n",
      "min a1_ratio 0.0014510768195466703\n",
      "final pericenter 0.0010493200832141123\n",
      "final mhr1 0.0003015203410649267\n",
      "mean pericenter 0.00018137762577838035\n",
      "max pericenter 0.00013835060824648432\n",
      "sd mass2_ratio 1.3619346931254183e-05\n",
      "initial pericenter 0.0\n"
     ]
    }
   ],
   "source": [
    "feats=classifier.feature_importances_\n",
    "inds=np.argsort(feats)[::-1]\n",
    "\n",
    "for i in range(len(inds)):\n",
    "    print(cols[inds[i]], feats[inds[i]])"
   ]
  },
  {
   "cell_type": "code",
   "execution_count": 8,
   "metadata": {},
   "outputs": [
    {
     "data": {
      "image/png": "[encoded data removed]",
      "text/plain": [
       "<Figure size 1080x504 with 1 Axes>"
      ]
     },
     "metadata": {
      "needs_background": "light"
     },
     "output_type": "display_data"
    }
   ],
   "source": [
    "import matplotlib.pyplot as plt\n",
    "import numpy as np\n",
    "import pylab\n",
    "\n",
    "\n",
    "f=plt.figure(figsize=(15,7))\n",
    "\n",
    "for i in range(len(inds)):\n",
    "    plt.bar(cols[inds[i]], feats[inds[i]] * 100)\n",
    "    \n",
    "\n",
    " \n",
    "plt.ylabel('% Importance', size=16)\n",
    "plt.xlabel('Feature', size=16)\n",
    "plt.title('Feature importance', size=20)\n",
    "plt.xticks(rotation = 90)\n",
    "plt.show()"
   ]
  },
  {
   "cell_type": "code",
   "execution_count": 12,
   "metadata": {},
   "outputs": [
    {
     "data": {
      "text/plain": [
       "Text(0.5, 1.0, 'sd e vs initial a2')"
      ]
     },
     "execution_count": 12,
     "metadata": {},
     "output_type": "execute_result"
    },
    {
     "data": {
      "image/png": "[encoded data removed]",
      "text/plain": [
       "<Figure size 1080x504 with 1 Axes>"
      ]
     },
     "metadata": {
      "needs_background": "light"
     },
     "output_type": "display_data"
    }
   ],
   "source": [
    "stable_x = []\n",
    "unstable_x = []\n",
    "misclassified_x = []\n",
    "stable_y = []\n",
    "unstable_y = []\n",
    "misclassified_y = []\n",
    "    \n",
    "    \n",
    "f=plt.figure(figsize=(15,7))\n",
    "\n",
    "for i in range(len(features_test)):\n",
    "    if (classes_test[i] == 0 and classes_predict[i] == 0):\n",
    "        stable_x.append(features_test[i][5])\n",
    "        stable_y.append(features_test[i][36])\n",
    "    elif (classes_test[i] == 1 and classes_predict[i] == 1):\n",
    "        unstable_x.append(features_test[i][5])\n",
    "        unstable_y.append(features_test[i][36])\n",
    "    else:\n",
    "        misclassified_x.append(features_test[i][5])\n",
    "        misclassified_y.append(features_test[i][36])\n",
    "\n",
    "        \n",
    "plt.scatter(stable_x, stable_y, color = 'thistle')\n",
    "plt.scatter(misclassified_x, misclassified_y, color = 'firebrick', zorder = 2)\n",
    "plt.scatter(unstable_x, unstable_y, color = 'lightsteelblue')\n",
    "\n",
    "        \n",
    "plt.ylabel('initial a2 ratio (2)')\n",
    "plt.xlabel('standard deviation e (1)')\n",
    "plt.title('sd e vs initial a2')"
   ]
  }
 ],
 "metadata": {
  "kernelspec": {
   "display_name": "Python 3",
   "language": "python",
   "name": "python3"
  },
  "language_info": {
   "codemirror_mode": {
    "name": "ipython",
    "version": 3
   },
   "file_extension": ".py",
   "mimetype": "text/x-python",
   "name": "python",
   "nbconvert_exporter": "python",
   "pygments_lexer": "ipython3",
   "version": "3.8.3"
  }
 },
 "nbformat": 4,
 "nbformat_minor": 4
}

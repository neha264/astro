{
 "cells": [
  {
   "cell_type": "code",
   "execution_count": 1,
   "metadata": {},
   "outputs": [],
   "source": [
    "import numpy as np\n",
    "import pandas as pd\n",
    "import matplotlib.pyplot as plt\n",
    "import pylab\n",
    "import corner\n",
    "import math\n",
    "import csv\n",
    "from numpy import *\n",
    "\n",
    "import matplotlib\n",
    "from matplotlib import colors\n",
    "from matplotlib.ticker import PercentFormatter\n",
    "from matplotlib.backends.backend_pdf import PdfPages\n",
    "import matplotlib.patches as mpatches\n",
    "from tqdm.notebook import tqdm\n",
    "\n",
    "from sklearn.metrics import accuracy_score\n",
    "from sklearn.model_selection import train_test_split\n",
    "from sklearn.ensemble import GradientBoostingClassifier\n",
    "from sklearn.model_selection import GridSearchCV\n",
    "from sklearn.metrics import classification_report, confusion_matrix \n",
    "from sklearn.model_selection import cross_val_predict\n",
    "\n",
    "from sklearn.metrics import precision_recall_curve\n",
    "from sklearn.metrics import plot_precision_recall_curve\n",
    "import sklearn.metrics as metrics\n",
    "from sklearn.metrics import average_precision_score\n",
    "from sklearn.metrics import precision_recall_fscore_support\n",
    "from sklearn.metrics import roc_auc_score\n",
    "from sklearn.feature_selection import RFE\n",
    "from sklearn.feature_selection import RFECV\n",
    "from sklearn.model_selection import StratifiedKFold\n",
    "from sklearn.ensemble import GradientBoostingClassifier\n",
    "from sklearn.tree import export_graphviz\n",
    "from pydotplus import graph_from_dot_data\n",
    "from IPython.display import Image\n",
    "from fpdf import FPDF\n",
    "from PIL import Image\n",
    "import pydotplus\n",
    "\n",
    "%matplotlib inline\n",
    "import graphviz\n",
    "from sklearn import tree\n",
    "from xgboost import plot_tree\n",
    "from sklearn.tree import DecisionTreeClassifier"
   ]
  },
  {
   "cell_type": "markdown",
   "metadata": {},
   "source": [
    "### 2-3mm"
   ]
  },
  {
   "cell_type": "code",
   "execution_count": 33,
   "metadata": {},
   "outputs": [
    {
     "name": "stdout",
     "output_type": "stream",
     "text": [
      "Index(['run', 'planet', 'cv e', 'cv a', 'cv peri', 'cv i', 'initial e',\n",
      "       'final e', 'mean e', 'min e', 'max e', 'sd e', 'initial i', 'final i',\n",
      "       'mean i', 'min i', 'max i', 'sd i', 'initial mhr1', 'final mhr1',\n",
      "       'mean mhr1', 'min mhr1', 'max mhr1', 'sd mhr1', 'initial mhr2',\n",
      "       'final mhr2', 'mean mhr2', 'min mhr2', 'max mhr2', 'sd mhr2',\n",
      "       'initial log a1_ratio', 'final log a1_ratio', 'mean log a1_ratio',\n",
      "       'min log a1_ratio', 'max log a1_ratio', 'sd log a1_ratio',\n",
      "       'initial log a2_ratio', 'final log a2_ratio', 'mean log a2_ratio',\n",
      "       'min log a2_ratio', 'max log a2_ratio', 'sd log a2_ratio',\n",
      "       'initial log mass1_ratio', 'final log mass1_ratio',\n",
      "       'mean log mass1_ratio', 'min log mass1_ratio', 'max log mass1_ratio',\n",
      "       'sd log mass1_ratio', 'initial log mass2_ratio',\n",
      "       'final log mass2_ratio', 'mean log mass2_ratio', 'min log mass2_ratio',\n",
      "       'max log mass2_ratio', 'sd log mass2_ratio', 'end time', 'fate'],\n",
      "      dtype='object')\n"
     ]
    }
   ],
   "source": [
    "planets = pd.read_csv('2-3 mm notma.csv', skipinitialspace=True)\n",
    "\n",
    "print(planets.columns)"
   ]
  },
  {
   "cell_type": "code",
   "execution_count": 34,
   "metadata": {},
   "outputs": [],
   "source": [
    "fates = list(set(planets['fate']))\n",
    "\n",
    "types = {fates[i] : i for i in range(len(fates))}\n",
    "\n",
    "classes = []\n",
    "\n",
    "for i in range(len(planets['fate'])):\n",
    "    if planets['fate'][i] == \"remaining\":\n",
    "        classes += [0]\n",
    "    else:\n",
    "        classes += [1]\n",
    "        \n",
    "classes = np.array(classes)"
   ]
  },
  {
   "cell_type": "code",
   "execution_count": 35,
   "metadata": {},
   "outputs": [
    {
     "name": "stderr",
     "output_type": "stream",
     "text": [
      "/Users/neha/opt/anaconda3/lib/python3.8/site-packages/pandas/core/frame.py:4308: SettingWithCopyWarning: \n",
      "A value is trying to be set on a copy of a slice from a DataFrame\n",
      "\n",
      "See the caveats in the documentation: https://pandas.pydata.org/pandas-docs/stable/user_guide/indexing.html#returning-a-view-versus-a-copy\n",
      "  return super().drop(\n"
     ]
    }
   ],
   "source": [
    "features_train, features_test, classes_train, classes_test = train_test_split(planets, classes, test_size=0.3, random_state=183)\n",
    "\n",
    "ru = features_test['run'].to_numpy()\n",
    "p = features_test['planet'].to_numpy()\n",
    "et = features_test['end time'].to_numpy()\n",
    "fa = features_test['fate'].to_numpy()\n",
    "\n",
    "ru2 = features_train['run'].to_numpy()\n",
    "p2 = features_train['planet'].to_numpy()\n",
    "et2 = features_train['end time'].to_numpy()\n",
    "fa2 = features_train['fate'].to_numpy()\n",
    "\n",
    "\n",
    "d = ['run', 'planet', 'fate', 'end time', 'final log mass1_ratio',\n",
    "       'mean log mass1_ratio', 'min log mass1_ratio', 'max log mass1_ratio',\n",
    "       'sd log mass1_ratio', 'final log mass2_ratio', \n",
    "       'mean log mass2_ratio', 'min log mass2_ratio',\n",
    "       'max log mass2_ratio', 'sd log mass2_ratio']\n",
    "\n",
    "\n",
    "e = ['e']\n",
    "mhr1 = ['mhr1']\n",
    "mhr2 = ['mhr2']\n",
    "a2 = ['log a2_ratio']\n",
    "\n",
    "a1 = ['log a1_ratio']\n",
    "o = ['i', 'a']\n",
    "\n",
    "for v in mhr1:\n",
    "    d.append('initial ' + str(v))\n",
    "    d.append('final ' + str(v))\n",
    "    d.append('mean ' + str(v))\n",
    "    d.append('min ' + str(v))\n",
    "#     d.append('max ' + str(v))\n",
    "#     d.append('sd ' + str(v))\n",
    "\n",
    "for v in mhr2:\n",
    "    d.append('initial ' + str(v))\n",
    "    d.append('final ' + str(v))\n",
    "    d.append('mean ' + str(v))\n",
    "    d.append('min ' + str(v))\n",
    "    d.append('max ' + str(v))\n",
    "#     d.append('sd ' + str(v))\n",
    "\n",
    "for v in e:\n",
    "    d.append('initial ' + str(v))\n",
    "    d.append('final ' + str(v))\n",
    "    d.append('mean ' + str(v))\n",
    "#     d.append('min ' + str(v))\n",
    "#     d.append('max ' + str(v))\n",
    "#     d.append('sd ' + str(v))\n",
    "    d.append('cv ' + str(v))\n",
    "    \n",
    "for v in a2:\n",
    "    d.append('initial ' + str(v))\n",
    "    d.append('final ' + str(v))\n",
    "    d.append('mean ' + str(v))\n",
    "    d.append('min ' + str(v))\n",
    "    d.append('max ' + str(v))\n",
    "    d.append('sd ' + str(v))\n",
    "\n",
    "for v in a1:\n",
    "    d.append('initial ' + str(v))\n",
    "    d.append('final ' + str(v))\n",
    "#     d.append('mean ' + str(v))\n",
    "#     d.append('min ' + str(v))\n",
    "    d.append('max ' + str(v))\n",
    "#     d.append('sd ' + str(v))\n",
    "\n",
    "for v in o:\n",
    "    if v == 'i':\n",
    "        d.append('initial ' + str(v))\n",
    "        d.append('final ' + str(v))\n",
    "        d.append('mean ' + str(v))\n",
    "        d.append('min ' + str(v))\n",
    "        d.append('max ' + str(v))\n",
    "#         d.append('sd ' + str(v))\n",
    "#         d.append('cv ' + str(v))\n",
    "    else:\n",
    "        d.append('cv ' + str(v))\n",
    "            \n",
    "\n",
    "      \n",
    "ids_train = features_train['planet'].to_numpy()\n",
    "features_train.drop(d, axis=1, inplace=True)\n",
    "\n",
    "cols = features_train.columns\n",
    "features_train = features_train.to_numpy()\n",
    "\n",
    "ids_test = features_test['planet'].to_numpy()\n",
    "features_test.drop(d, axis=1, inplace=True)\n",
    "features_test = features_test.to_numpy()"
   ]
  },
  {
   "cell_type": "code",
   "execution_count": 36,
   "metadata": {},
   "outputs": [
    {
     "name": "stdout",
     "output_type": "stream",
     "text": [
      "classifier is  90.66666666666666 % accurate on testing set\n"
     ]
    }
   ],
   "source": [
    "classifier = GradientBoostingClassifier(learning_rate = 0.07, max_depth = 5, max_features = 'sqrt', n_estimators = 150, random_state = 183) # ne = 120-160ish\n",
    "\n",
    "classifier.fit(features_train, classes_train)\n",
    "\n",
    "score = classifier.decision_function(features_test)\n",
    "classes_predict = classifier.predict(features_test)\n",
    "print('classifier is ', accuracy_score(classes_test, classes_predict) * 100, '% accurate on testing set' )"
   ]
  },
  {
   "cell_type": "code",
   "execution_count": 37,
   "metadata": {},
   "outputs": [
    {
     "name": "stdout",
     "output_type": "stream",
     "text": [
      "initial log mass1_ratio 0.20695751140756075\n",
      "initial log mass2_ratio 0.17686152564573818\n",
      "cv peri 0.08715836353908091\n",
      "sd e 0.08542322792587405\n",
      "sd i 0.08437230611120845\n",
      "sd mhr1 0.06651960428785048\n",
      "max mhr1 0.04671424835311414\n",
      "sd mhr2 0.04494718270267763\n",
      "max e 0.04469002459230496\n",
      "cv i 0.03844551759209378\n",
      "sd log a1_ratio 0.03785006775060415\n",
      "min log a1_ratio 0.029959267684803843\n",
      "min e 0.027091450001418\n",
      "mean log a1_ratio 0.023009702405670594\n"
     ]
    }
   ],
   "source": [
    "feats = classifier.feature_importances_\n",
    "inds = np.argsort(feats)[::-1]\n",
    "\n",
    "for i in range(len(inds)):\n",
    "    print(cols[inds[i]], feats[inds[i]])"
   ]
  },
  {
   "cell_type": "code",
   "execution_count": 38,
   "metadata": {},
   "outputs": [
    {
     "data": {
      "text/plain": [
       "<matplotlib.legend.Legend at 0x7f8865305dc0>"
      ]
     },
     "execution_count": 38,
     "metadata": {},
     "output_type": "execute_result"
    },
    {
     "data": {
      "image/png": "[encoded data removed]",
      "text/plain": [
       "<Figure size 432x288 with 1 Axes>"
      ]
     },
     "metadata": {
      "needs_background": "light"
     },
     "output_type": "display_data"
    }
   ],
   "source": [
    "fig = plt.figure()\n",
    "plt.title('cumulative distribution of probabilities (log(1-p))', fontweight='bold')\n",
    "\n",
    "p = []\n",
    "r = classifier.predict_proba(features_test)\n",
    "\n",
    "for i in range(0,len(r)):\n",
    "    if (classes_test[i] == classes_predict[i]):\n",
    "        if (classes_test[i] == 0):\n",
    "            p.append(np.log(1-r[i][0]))\n",
    "        else:\n",
    "            p.append(np.log(1-r[i][1]))\n",
    "    else:\n",
    "        if (classes_test[i] == 0):\n",
    "            p.append(np.log10(1-r[i][1]))\n",
    "        else:\n",
    "            p.append(np.log10(1-r[i][0]))\n",
    "              \n",
    "\n",
    "                \n",
    "cs = []\n",
    "cu = []\n",
    "ts = []   # misclassified unstable, actually stable\n",
    "tu = []   # misclassified stable, actually unstable\n",
    "\n",
    "\n",
    "# correct\n",
    "inds = []\n",
    "\n",
    "for i in range(0,len(classes_test)):\n",
    "    if (classes_test[i] == classes_predict[i]):   # 0 = stable, 1 = unstable\n",
    "        inds.append(i)\n",
    "\n",
    "for i in range(0,len(r)):\n",
    "    if (classes_test[i] == classes_predict[i]):\n",
    "        if (classes_test[i] == 0):\n",
    "            cs.append(np.log10(1-r[i][0]))\n",
    "        else:\n",
    "            cu.append(np.log10(1-r[i][1]))\n",
    "            \n",
    "            \n",
    "# wrong\n",
    "inds2 = []\n",
    "\n",
    "for i in range(0,len(classes_test)):\n",
    "    if (classes_test[i] != classes_predict[i]):\n",
    "        inds2.append(i)\n",
    "\n",
    "for i in range(0,len(r)):\n",
    "    if (classes_test[i] != classes_predict[i]):\n",
    "        if (classes_test[i] == 0):\n",
    "            ts.append(np.log10(1-r[i][1]))\n",
    "        else:\n",
    "            tu.append(np.log10(1-r[i][0]))\n",
    "                \n",
    "                \n",
    "                \n",
    "n, bins, patches = plt.hist(cs, 25, density=True, histtype='step', cumulative=True, label='correctly classified stable', color='goldenrod')\n",
    "n, bins, patches = plt.hist(cu, 25, density=True, histtype='step', cumulative=True, label='correctly classified unstable', color='lightblue')\n",
    "n, bins, patches = plt.hist(ts, 25, density=True, histtype='step', cumulative=True, label='misclassified unstable, actually stable', color='sienna')\n",
    "n, bins, patches = plt.hist(tu, 25, density=True, histtype='step', cumulative=True, label='misclassified stable, actually unstable', color='mediumpurple')\n",
    "# n, bins, patches = plt.hist(p, 25, density=True, histtype='step', cumulative=True, label='all', color='black', linewidth=1.25)\n",
    "\n",
    "\n",
    "\n",
    "# sigmas, log10(1-0.68) = -0.495, log10(1-0.95) = -1.031, log10(1-0.997) = -2.523\n",
    "plt.axvline(x=-0.495, color='black', linestyle='-.', linewidth=0.7)\n",
    "plt.axvline(x=-1.031, color='black', linestyle='-.', linewidth=0.7)\n",
    "plt.axvline(x=-2.523, color='black', linestyle='-.', linewidth=0.7)\n",
    "\n",
    "\n",
    "plt.legend(bbox_to_anchor=(1.05, 1), loc='upper left', borderaxespad=0.)"
   ]
  },
  {
   "cell_type": "code",
   "execution_count": 39,
   "metadata": {},
   "outputs": [
    {
     "name": "stdout",
     "output_type": "stream",
     "text": [
      "              precision    recall  f1-score   support\n",
      "\n",
      "           0      0.891     0.731     0.803        78\n",
      "           1      0.911     0.968     0.939       222\n",
      "\n",
      "    accuracy                          0.907       300\n",
      "   macro avg      0.901     0.850     0.871       300\n",
      "weighted avg      0.906     0.907     0.903       300\n",
      "\n"
     ]
    }
   ],
   "source": [
    "print(metrics.classification_report(classes_test, classes_predict, digits=3))"
   ]
  },
  {
   "cell_type": "markdown",
   "metadata": {},
   "source": [
    "### 1-3mm & np"
   ]
  },
  {
   "cell_type": "code",
   "execution_count": 20,
   "metadata": {},
   "outputs": [
    {
     "name": "stdout",
     "output_type": "stream",
     "text": [
      "Index(['run', 'planet', 'cv e', 'cv a', 'cv pericenter', 'cv i', 'initial e',\n",
      "       'final e', 'mean e', 'min e',\n",
      "       ...\n",
      "       'max log mratio npi', 'sd log mratio npi', 'initial log mratio npo',\n",
      "       'final log mratio npo', 'mean log mratio npo', 'min log mratio npo',\n",
      "       'max log mratio npo', 'sd log mratio npo', 'end time', 'fate'],\n",
      "      dtype='object', length=122)\n"
     ]
    }
   ],
   "source": [
    "planets = pd.read_csv('1-3mm & np notma.csv', skipinitialspace=True)\n",
    "\n",
    "print(planets.columns)"
   ]
  },
  {
   "cell_type": "code",
   "execution_count": 21,
   "metadata": {},
   "outputs": [],
   "source": [
    "fates = list(set(planets['fate']))\n",
    "\n",
    "types = {fates[i] : i for i in range(len(fates))}\n",
    "\n",
    "classes = []\n",
    "\n",
    "for i in range(len(planets['fate'])):\n",
    "    if planets['fate'][i] == \"remaining\":\n",
    "        classes += [0]\n",
    "    else:\n",
    "        classes += [1]\n",
    "        \n",
    "classes = np.array(classes)"
   ]
  },
  {
   "cell_type": "code",
   "execution_count": 22,
   "metadata": {},
   "outputs": [],
   "source": [
    "features_train, features_test, classes_train, classes_test = train_test_split(planets, classes, test_size=0.3, random_state=183)\n",
    "\n",
    "ru = features_test['run'].to_numpy()\n",
    "p = features_test['planet'].to_numpy()\n",
    "et = features_test['end time'].to_numpy()\n",
    "fa = features_test['fate'].to_numpy()\n",
    "\n",
    "ru2 = features_train['run'].to_numpy()\n",
    "p2 = features_train['planet'].to_numpy()\n",
    "et2 = features_train['end time'].to_numpy()\n",
    "fa2 = features_train['fate'].to_numpy()\n",
    "\n",
    "\n",
    "d = ['run', 'planet', 'cv a', 'initial e', 'final e', 'min e', 'initial i', 'final i', 'mean i', 'min i', \n",
    "     'max i', 'initial pericenter', 'mean pericenter', 'min pericenter', 'max pericenter', 'initial jacobi',\n",
    "     'final jacobi', 'mean jacobi', 'min jacobi', 'sd jacobi', 'initial mhr mm1', 'final mhr mm1', \n",
    "     'mean mhr mm1', 'min mhr mm1', 'initial mhr mm2', 'min mhr mm2', 'final mhr mm3', 'mean mhr mm3', \n",
    "     'min mhr mm3', 'max mhr mm3', 'initial log aratio mm1', 'final log aratio mm1', 'mean log aratio mm1', \n",
    "     'min log aratio mm1', 'max log aratio mm1', 'sd log aratio mm1', 'initial log aratio mm2', \n",
    "     'final log aratio mm2', 'max log aratio mm2', 'sd log aratio mm2', 'initial log aratio mm3', \n",
    "     'mean log aratio mm3', 'min log aratio mm3', 'max log aratio mm3', 'sd log aratio mm3', \n",
    "     'final log mratio mm1', 'mean log mratio mm1', 'min log mratio mm1', 'max log mratio mm1', \n",
    "     'sd log mratio mm1', 'final log mratio mm2', 'mean log mratio mm2', 'min log mratio mm2', \n",
    "     'max log mratio mm2', 'sd log mratio mm2', 'final log mratio mm3', 'mean log mratio mm3', \n",
    "     'min log mratio mm3', 'max log mratio mm3', 'sd log mratio mm3', 'final mhr npi', 'mean mhr npi', \n",
    "     'min mhr npi', 'initial mhr npo', 'final mhr npo', 'mean mhr npo', 'sd mhr npo', \n",
    "     'initial log aratio npi', 'final log aratio npi', 'mean log aratio npi', 'min log aratio npi', \n",
    "     'max log aratio npi', 'sd log aratio npi', 'initial log aratio npo', 'final log aratio npo', \n",
    "     'max log aratio npo', 'final log mratio npi', 'mean log mratio npi', 'min log mratio npi', \n",
    "     'max log mratio npi', 'sd log mratio npi', 'final log mratio npo', 'mean log mratio npo', \n",
    "     'min log mratio npo', 'max log mratio npo', 'sd log mratio npo', 'end time', 'fate']    \n",
    "    \n",
    "      \n",
    "ids_train = features_train['planet'].to_numpy()\n",
    "features_train.drop(d, axis=1, inplace=True)\n",
    "\n",
    "cols = features_train.columns\n",
    "features_train = features_train.to_numpy()\n",
    "\n",
    "ids_test = features_test['planet'].to_numpy()\n",
    "features_test.drop(d, axis=1, inplace=True)\n",
    "features_test = features_test.to_numpy()"
   ]
  },
  {
   "cell_type": "code",
   "execution_count": 23,
   "metadata": {},
   "outputs": [
    {
     "name": "stdout",
     "output_type": "stream",
     "text": [
      "classifier is  92.0 % accurate on testing set\n"
     ]
    }
   ],
   "source": [
    "classifier = GradientBoostingClassifier(learning_rate = 0.07, max_depth = 5, max_features = 'sqrt', n_estimators = 150, random_state = 183) # ne = 120-160ish\n",
    "\n",
    "classifier.fit(features_train, classes_train)\n",
    "\n",
    "score = classifier.decision_function(features_test)\n",
    "classes_predict = classifier.predict(features_test)\n",
    "print('classifier is ', accuracy_score(classes_test, classes_predict) * 100, '% accurate on testing set' )"
   ]
  },
  {
   "cell_type": "code",
   "execution_count": 24,
   "metadata": {},
   "outputs": [
    {
     "name": "stdout",
     "output_type": "stream",
     "text": [
      "initial log mratio mm1 0.1338825765803269\n",
      "max mhr mm1 0.115843190459793\n",
      "initial log mratio mm3 0.06186936937141693\n",
      "initial log mratio npo 0.060278617390842594\n",
      "sd e 0.05847683185957459\n",
      "cv e 0.043445228648918394\n",
      "sd mhr mm1 0.03935730990415049\n",
      "initial log mratio mm2 0.038501041233104966\n",
      "sd pericenter 0.03638747092162255\n",
      "cv i 0.03243498652698387\n",
      "initial log mratio npi 0.02977825197655016\n",
      "max mhr mm2 0.029138284260765947\n",
      "sd mhr mm2 0.027967294315881318\n",
      "sd i 0.024089721663985007\n",
      "mean e 0.021370506850751834\n",
      "final mhr mm2 0.020981330848549414\n",
      "cv pericenter 0.016883884986716224\n",
      "sd mhr mm3 0.01674310662308546\n",
      "final pericenter 0.01630308246938882\n",
      "initial mhr mm3 0.01615085247429777\n",
      "final log aratio mm3 0.015206552579669387\n",
      "min mhr npo 0.014233949222692692\n",
      "max mhr npo 0.013581621430317025\n",
      "mean log aratio mm2 0.013111178690766832\n",
      "min log aratio npo 0.012318434754421126\n",
      "min log aratio mm2 0.011985835018064519\n",
      "sd log aratio npo 0.011886253763457514\n",
      "max e 0.011806373919231164\n",
      "max jacobi 0.011557327528488464\n",
      "initial mhr npi 0.010857013466516753\n",
      "max mhr npi 0.010117050322758246\n",
      "sd mhr npi 0.009209817651679851\n",
      "mean mhr mm2 0.0071274887760662394\n",
      "mean log aratio npo 0.007118163509164013\n"
     ]
    }
   ],
   "source": [
    "feats = classifier.feature_importances_\n",
    "inds = np.argsort(feats)[::-1]\n",
    "\n",
    "for i in range(len(inds)):\n",
    "    print(cols[inds[i]], feats[inds[i]])"
   ]
  },
  {
   "cell_type": "code",
   "execution_count": 26,
   "metadata": {},
   "outputs": [
    {
     "data": {
      "text/plain": [
       "<matplotlib.legend.Legend at 0x7f886588c100>"
      ]
     },
     "execution_count": 26,
     "metadata": {},
     "output_type": "execute_result"
    },
    {
     "data": {
      "image/png": "[encoded data removed]",
      "text/plain": [
       "<Figure size 432x288 with 1 Axes>"
      ]
     },
     "metadata": {
      "needs_background": "light"
     },
     "output_type": "display_data"
    }
   ],
   "source": [
    "fig = plt.figure()\n",
    "plt.title('cumulative distribution of probabilities (log(1-p))', fontweight='bold')\n",
    "\n",
    "p = []\n",
    "r = classifier.predict_proba(features_test)\n",
    "\n",
    "for i in range(0,len(r)):\n",
    "    if (classes_test[i] == classes_predict[i]):\n",
    "        if (classes_test[i] == 0):\n",
    "            p.append(np.log(1-r[i][0]))\n",
    "        else:\n",
    "            p.append(np.log(1-r[i][1]))\n",
    "    else:\n",
    "        if (classes_test[i] == 0):\n",
    "            p.append(np.log10(1-r[i][1]))\n",
    "        else:\n",
    "            p.append(np.log10(1-r[i][0]))\n",
    "              \n",
    "\n",
    "                \n",
    "cs = []\n",
    "cu = []\n",
    "ts = []   # misclassified unstable, actually stable\n",
    "tu = []   # misclassified stable, actually unstable\n",
    "\n",
    "\n",
    "# correct\n",
    "inds = []\n",
    "\n",
    "for i in range(0,len(classes_test)):\n",
    "    if (classes_test[i] == classes_predict[i]):   # 0 = stable, 1 = unstable\n",
    "        inds.append(i)\n",
    "\n",
    "for i in range(0,len(r)):\n",
    "    if (classes_test[i] == classes_predict[i]):\n",
    "        if (classes_test[i] == 0):\n",
    "            cs.append(np.log10(1-r[i][0]))\n",
    "        else:\n",
    "            cu.append(np.log10(1-r[i][1]))\n",
    "            \n",
    "            \n",
    "# wrong\n",
    "inds2 = []\n",
    "\n",
    "for i in range(0,len(classes_test)):\n",
    "    if (classes_test[i] != classes_predict[i]):\n",
    "        inds2.append(i)\n",
    "\n",
    "for i in range(0,len(r)):\n",
    "    if (classes_test[i] != classes_predict[i]):\n",
    "        if (classes_test[i] == 0):\n",
    "            ts.append(np.log10(1-r[i][1]))\n",
    "        else:\n",
    "            tu.append(np.log10(1-r[i][0]))\n",
    "                \n",
    "                \n",
    "                \n",
    "n, bins, patches = plt.hist(cs, 25, density=True, histtype='step', cumulative=True, label='correctly classified stable', color='goldenrod')\n",
    "n, bins, patches = plt.hist(cu, 25, density=True, histtype='step', cumulative=True, label='correctly classified unstable', color='lightblue')\n",
    "n, bins, patches = plt.hist(ts, 25, density=True, histtype='step', cumulative=True, label='misclassified unstable, actually stable', color='sienna')\n",
    "n, bins, patches = plt.hist(tu, 25, density=True, histtype='step', cumulative=True, label='misclassified stable, actually unstable', color='mediumpurple')\n",
    "# n, bins, patches = plt.hist(p, 25, density=True, histtype='step', cumulative=True, label='all', color='black', linewidth=1.25)\n",
    "\n",
    "\n",
    "\n",
    "# sigmas, log10(1-0.68) = -0.495, log10(1-0.95) = -1.031, log10(1-0.997) = -2.523\n",
    "plt.axvline(x=-0.495, color='black', linestyle='-.', linewidth=0.7)\n",
    "plt.axvline(x=-1.031, color='black', linestyle='-.', linewidth=0.7)\n",
    "plt.axvline(x=-2.523, color='black', linestyle='-.', linewidth=0.7)\n",
    "\n",
    "\n",
    "plt.legend(bbox_to_anchor=(1.05, 1), loc='upper left', borderaxespad=0.)"
   ]
  },
  {
   "cell_type": "code",
   "execution_count": 27,
   "metadata": {},
   "outputs": [
    {
     "name": "stdout",
     "output_type": "stream",
     "text": [
      "              precision    recall  f1-score   support\n",
      "\n",
      "           0      0.886     0.795     0.838        78\n",
      "           1      0.930     0.964     0.947       222\n",
      "\n",
      "    accuracy                          0.920       300\n",
      "   macro avg      0.908     0.879     0.892       300\n",
      "weighted avg      0.919     0.920     0.919       300\n",
      "\n"
     ]
    }
   ],
   "source": [
    "print(metrics.classification_report(classes_test, classes_predict, digits=3))"
   ]
  },
  {
   "cell_type": "markdown",
   "metadata": {},
   "source": [
    "### standard mm -- ignore"
   ]
  },
  {
   "cell_type": "code",
   "execution_count": 18,
   "metadata": {},
   "outputs": [
    {
     "name": "stdout",
     "output_type": "stream",
     "text": [
      "Index(['run', 'planet', 'cv e', 'cv a', 'cv peri', 'cv i', 'initial e',\n",
      "       'final e', 'mean e', 'min e', 'max e', 'sd e', 'initial i', 'final i',\n",
      "       'mean i', 'min i', 'max i', 'sd i', 'initial pericenter',\n",
      "       'final pericenter', 'mean pericenter', 'min pericenter',\n",
      "       'max pericenter', 'sd pericenter', 'initial jacobi', 'final jacobi',\n",
      "       'mean jacobi', 'min jacobi', 'max jacobi', 'sd jacobi', 'initial mhr1',\n",
      "       'final mhr1', 'mean mhr1', 'min mhr1', 'max mhr1', 'sd mhr1',\n",
      "       'initial mhr2', 'final mhr2', 'mean mhr2', 'min mhr2', 'max mhr2',\n",
      "       'sd mhr2', 'initial log a1_ratio', 'final log a1_ratio',\n",
      "       'mean log a1_ratio', 'min log a1_ratio', 'max log a1_ratio',\n",
      "       'sd log a1_ratio', 'initial log a2_ratio', 'final log a2_ratio',\n",
      "       'mean log a2_ratio', 'min log a2_ratio', 'max log a2_ratio',\n",
      "       'sd log a2_ratio', 'initial log mass1_ratio', 'final log mass1_ratio',\n",
      "       'mean log mass1_ratio', 'min log mass1_ratio', 'max log mass1_ratio',\n",
      "       'sd log mass1_ratio', 'initial log mass2_ratio',\n",
      "       'final log mass2_ratio', 'mean log mass2_ratio', 'min log mass2_ratio',\n",
      "       'max log mass2_ratio', 'sd log mass2_ratio', 'end time', 'fate'],\n",
      "      dtype='object')\n"
     ]
    }
   ],
   "source": [
    "planets2 = pd.read_csv('10 mm revised mass.csv', skipinitialspace=True)\n",
    "\n",
    "print(planets2.columns)"
   ]
  },
  {
   "cell_type": "code",
   "execution_count": 19,
   "metadata": {},
   "outputs": [],
   "source": [
    "fates2 = list(set(planets['fate']))\n",
    "\n",
    "types2 = {fates2[i] : i for i in range(len(fates2))}\n",
    "\n",
    "classes2 = []\n",
    "\n",
    "for i in range(len(planets2['fate'])):\n",
    "    if planets2['fate'][i] == \"remaining\":\n",
    "        classes2 += [0]\n",
    "    else:\n",
    "        classes2 += [1]\n",
    "        \n",
    "classes2 = np.array(classes2)"
   ]
  },
  {
   "cell_type": "code",
   "execution_count": 20,
   "metadata": {},
   "outputs": [
    {
     "name": "stderr",
     "output_type": "stream",
     "text": [
      "/Users/neha/opt/anaconda3/lib/python3.8/site-packages/pandas/core/frame.py:4308: SettingWithCopyWarning: \n",
      "A value is trying to be set on a copy of a slice from a DataFrame\n",
      "\n",
      "See the caveats in the documentation: https://pandas.pydata.org/pandas-docs/stable/user_guide/indexing.html#returning-a-view-versus-a-copy\n",
      "  return super().drop(\n"
     ]
    }
   ],
   "source": [
    "features_train2, features_test2, classes_train2, classes_test2 = train_test_split(planets2, classes2, test_size=0.3, random_state=1)\n",
    "\n",
    "ru2 = features_test2['run'].to_numpy()\n",
    "p2 = features_test2['planet'].to_numpy()\n",
    "e2 = features_test2['end time'].to_numpy()\n",
    "fa2 = features_test2['fate'].to_numpy()\n",
    "\n",
    "d2 = ['run', 'planet', 'cv a', 'cv i', 'initial e',\n",
    "       'final e', 'mean e', 'min e', 'initial i', 'final i',\n",
    "       'mean i', 'min i', 'max i', 'initial pericenter',\n",
    "       'final pericenter', 'mean pericenter', 'min pericenter',\n",
    "       'max pericenter', 'sd pericenter', 'initial jacobi', 'final jacobi',\n",
    "       'mean jacobi', 'min jacobi', 'max jacobi', 'sd jacobi', 'initial mhr1',\n",
    "       'final mhr1', 'mean mhr1', 'min mhr1', 'max mhr1', 'sd mhr1',\n",
    "       'initial mhr2', 'final mhr2', 'mean mhr2', 'min mhr2', 'max mhr2',\n",
    "       'initial log a1_ratio', 'final log a1_ratio',\n",
    "       'mean log a1_ratio', 'min log a1_ratio', 'max log a1_ratio',\n",
    "       'sd log a1_ratio', 'initial log a2_ratio', 'final log a2_ratio',\n",
    "       'mean log a2_ratio', 'max log a2_ratio',\n",
    "       'sd log a2_ratio', 'final log mass1_ratio',\n",
    "       'mean log mass1_ratio', 'min log mass1_ratio', 'max log mass1_ratio',\n",
    "       'sd log mass1_ratio',\n",
    "       'final log mass2_ratio', 'mean log mass2_ratio', 'min log mass2_ratio',\n",
    "       'max log mass2_ratio', 'sd log mass2_ratio', 'end time', 'fate']\n",
    "\n",
    "      \n",
    "ids_train2 = features_train2['planet'].to_numpy()\n",
    "features_train2.drop(d2, axis=1, inplace=True)\n",
    "\n",
    "cols2 = features_train2.columns\n",
    "features_train2 = features_train2.to_numpy()\n",
    "\n",
    "ids_test2 = features_test2['planet'].to_numpy()\n",
    "features_test2.drop(d2, axis=1, inplace=True)\n",
    "features_test2 = features_test2.to_numpy()"
   ]
  },
  {
   "cell_type": "code",
   "execution_count": 21,
   "metadata": {},
   "outputs": [
    {
     "name": "stdout",
     "output_type": "stream",
     "text": [
      "classifier is  83.0 % accurate on testing set\n"
     ]
    }
   ],
   "source": [
    "classifier2 = GradientBoostingClassifier(random_state=1)\n",
    "\n",
    "classifier2.fit(features_train2, classes_train2)\n",
    "\n",
    "score2 = classifier2.decision_function(features_test2)\n",
    "classes_predict2 = classifier2.predict(features_test2)\n",
    "print('classifier is ', accuracy_score(classes_test2, classes_predict2) * 100, '% accurate on testing set' )"
   ]
  },
  {
   "cell_type": "code",
   "execution_count": 22,
   "metadata": {},
   "outputs": [
    {
     "name": "stdout",
     "output_type": "stream",
     "text": [
      "initial log mass2_ratio 0.3357369064982945\n",
      "initial log mass1_ratio 0.2591799581763779\n",
      "max e 0.09152912869949717\n",
      "cv peri 0.08146968937140515\n",
      "sd e 0.06497641339656354\n",
      "cv e 0.04975489883078684\n",
      "sd i 0.0489230914983331\n",
      "sd mhr2 0.04239655675831781\n",
      "min log a2_ratio 0.02603335677042388\n"
     ]
    }
   ],
   "source": [
    "feats2 = classifier2.feature_importances_\n",
    "inds2 = np.argsort(feats2)[::-1]\n",
    "\n",
    "for i in range(len(inds2)):\n",
    "    print(cols2[inds2[i]], feats2[inds2[i]])"
   ]
  },
  {
   "cell_type": "code",
   "execution_count": 26,
   "metadata": {},
   "outputs": [
    {
     "data": {
      "text/plain": [
       "<matplotlib.legend.Legend at 0x7f87a0a4d250>"
      ]
     },
     "execution_count": 26,
     "metadata": {},
     "output_type": "execute_result"
    },
    {
     "data": {
      "image/png": "[encoded data removed]",
      "text/plain": [
       "<Figure size 432x288 with 1 Axes>"
      ]
     },
     "metadata": {
      "needs_background": "light"
     },
     "output_type": "display_data"
    }
   ],
   "source": [
    "fig = plt.figure()\n",
    "plt.title('cumulative distribution of probabilities (log(1-p))', fontweight='bold')\n",
    "\n",
    "p = []\n",
    "r2 = classifier2.predict_proba(features_test2)\n",
    "\n",
    "for i in range(0,len(r2)):\n",
    "    if (classes_test2[i] == classes_predict2[i]):\n",
    "        if (classes_test2[i] == 0):\n",
    "            p.append(np.log(1-r2[i][0]))\n",
    "        else:\n",
    "            p.append(np.log(1-r2[i][1]))\n",
    "    else:\n",
    "        if (classes_test2[i] == 0):\n",
    "            p.append(np.log10(1-r2[i][1]))\n",
    "        else:\n",
    "            p.append(np.log10(1-r2[i][0]))\n",
    "              \n",
    "\n",
    "                \n",
    "cs = []\n",
    "cu = []\n",
    "ts = []   # misclassified unstable, actually stable\n",
    "tu = []   # misclassified stable, actually unstable\n",
    "\n",
    "\n",
    "# correct\n",
    "inds = []\n",
    "\n",
    "for i in range(0,len(classes_test2)):\n",
    "    if (classes_test2[i] == classes_predict2[i]):   # 0 = stable, 1 = unstable\n",
    "        inds.append(i)\n",
    "\n",
    "for i in range(0,len(r2)):\n",
    "    if (classes_test2[i] == classes_predict2[i]):\n",
    "        if (classes_test2[i] == 0):\n",
    "            cs.append(np.log10(1-r2[i][0]))\n",
    "        else:\n",
    "            cu.append(np.log10(1-r2[i][1]))\n",
    "            \n",
    "            \n",
    "# wrong\n",
    "inds2 = []\n",
    "\n",
    "for i in range(0,len(classes_test2)):\n",
    "    if (classes_test2[i] != classes_predict2[i]):\n",
    "        inds2.append(i)\n",
    "\n",
    "for i in range(0,len(r2)):\n",
    "    if (classes_test2[i] != classes_predict2[i]):\n",
    "        if (classes_test2[i] == 0):\n",
    "            ts.append(np.log10(1-r2[i][1]))\n",
    "        else:\n",
    "            tu.append(np.log10(1-r2[i][0]))\n",
    "                \n",
    "                \n",
    "                \n",
    "n, bins, patches = plt.hist(cs, 25, density=True, histtype='step', cumulative=True, label='correctly classified stable', color='goldenrod')\n",
    "n, bins, patches = plt.hist(cu, 25, density=True, histtype='step', cumulative=True, label='correctly classified unstable', color='lightblue')\n",
    "n, bins, patches = plt.hist(ts, 25, density=True, histtype='step', cumulative=True, label='misclassified unstable, actually stable', color='sienna')\n",
    "n, bins, patches = plt.hist(tu, 25, density=True, histtype='step', cumulative=True, label='misclassified stable, actually unstable', color='mediumpurple')\n",
    "# n, bins, patches = plt.hist(p, 25, density=True, histtype='step', cumulative=True, label='all', color='black', linewidth=1.25)\n",
    "\n",
    "\n",
    "\n",
    "# sigmas, log10(1-0.68) = -0.495, log10(1-0.95) = -1.031, log10(1-0.997) = -2.523\n",
    "plt.axvline(x=-0.495, color='black', linestyle='-.', linewidth=0.7)\n",
    "plt.axvline(x=-1.031, color='black', linestyle='-.', linewidth=0.7)\n",
    "\n",
    "\n",
    "plt.legend(bbox_to_anchor=(1.05, 1), loc='upper left', borderaxespad=0.)"
   ]
  },
  {
   "cell_type": "code",
   "execution_count": 27,
   "metadata": {},
   "outputs": [
    {
     "name": "stdout",
     "output_type": "stream",
     "text": [
      "              precision    recall  f1-score   support\n",
      "\n",
      "           0      0.714     0.617     0.662        81\n",
      "           1      0.865     0.909     0.886       219\n",
      "\n",
      "    accuracy                          0.830       300\n",
      "   macro avg      0.790     0.763     0.774       300\n",
      "weighted avg      0.824     0.830     0.826       300\n",
      "\n"
     ]
    }
   ],
   "source": [
    "print(metrics.classification_report(classes_test2, classes_predict2, digits=3))"
   ]
  }
 ],
 "metadata": {
  "kernelspec": {
   "display_name": "Python 3",
   "language": "python",
   "name": "python3"
  },
  "language_info": {
   "codemirror_mode": {
    "name": "ipython",
    "version": 3
   },
   "file_extension": ".py",
   "mimetype": "text/x-python",
   "name": "python",
   "nbconvert_exporter": "python",
   "pygments_lexer": "ipython3",
   "version": "3.8.3"
  }
 },
 "nbformat": 4,
 "nbformat_minor": 4
}

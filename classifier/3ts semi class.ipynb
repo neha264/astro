{
 "cells": [
  {
   "cell_type": "markdown",
   "metadata": {},
   "source": [
    "### Classifier using three timesteps - planet neighbors determined by semi-major axis values\n",
    "#### rows 0-2, ~27.4 years"
   ]
  },
  {
   "cell_type": "code",
   "execution_count": 1,
   "metadata": {},
   "outputs": [],
   "source": [
    "import numpy as np\n",
    "import pandas as pd\n",
    "\n",
    "from sklearn.metrics import accuracy_score\n",
    "from sklearn.model_selection import train_test_split\n",
    "\n",
    "from sklearn.ensemble import GradientBoostingClassifier"
   ]
  },
  {
   "cell_type": "code",
   "execution_count": 2,
   "metadata": {},
   "outputs": [
    {
     "name": "stdout",
     "output_type": "stream",
     "text": [
      "Index(['run', 'planet', 'initiale', 'final e', 'mean e', 'min e', 'max e',\n",
      "       'sd e', 'initialpericenter', 'final pericenter', 'mean pericenter',\n",
      "       'min pericenter', 'max pericenter', 'sd pericenter', 'initialjacobi',\n",
      "       'final jacobi', 'mean jacobi', 'min jacobi', 'max jacobi', 'sd jacobi',\n",
      "       'initialmhr1', 'final mhr1', 'mean mhr1', 'min mhr1', 'max mhr1',\n",
      "       'sd mhr1', 'initialmhr2', 'final mhr2', 'mean mhr2', 'min mhr2',\n",
      "       'max mhr2', 'sd mhr2', 'initiala1_ratio', 'final a1_ratio',\n",
      "       'mean a1_ratio', 'min a1_ratio', 'max a1_ratio', 'sd a1_ratio',\n",
      "       'initiala2_ratio', 'final a2_ratio', 'mean a2_ratio', 'min a2_ratio',\n",
      "       'max a2_ratio', 'sd a2_ratio', 'initialmass1_ratio',\n",
      "       'final mass1_ratio', 'mean mass1_ratio', 'min mass1_ratio',\n",
      "       'max mass1_ratio', 'sd mass1_ratio', 'initialmass2_ratio',\n",
      "       'final mass2_ratio', 'mean mass2_ratio', 'min mass2_ratio',\n",
      "       'max mass2_ratio', 'sd mass2_ratio', 'end time', 'fate'],\n",
      "      dtype='object')\n"
     ]
    }
   ],
   "source": [
    "planets = pd.read_csv('3ts semi.csv', skipinitialspace=True)\n",
    "print(planets.columns)"
   ]
  },
  {
   "cell_type": "markdown",
   "metadata": {},
   "source": [
    "###### Classifies as type of instability (ejection, remaining, planet-planet collision, central body collision)."
   ]
  },
  {
   "cell_type": "code",
   "execution_count": null,
   "metadata": {},
   "outputs": [],
   "source": [
    "fates = list(set(planets['fate']))\n",
    "types = {fates[i] : i for i in range(len(fates))}\n",
    "int_dict = {i : fates[i] for i in range(len(fates))}\n",
    "classes = planets['fate'].map(types)"
   ]
  },
  {
   "cell_type": "markdown",
   "metadata": {},
   "source": [
    "###### Classifies as either stable or unstable.\n",
    "> Is currently ~82.5% accurate\n",
    "\n",
    "Second cell is the hard coded version"
   ]
  },
  {
   "cell_type": "code",
   "execution_count": null,
   "metadata": {},
   "outputs": [],
   "source": [
    "fates = np.sort(list(set(planets['fate']))) [::-1]\n",
    "\n",
    "types = {fates[i] : i for i in range(len(fates))}\n",
    "\n",
    "classes = planets['fate'].map(types)\n",
    "\n",
    "for i in range(len(classes)):\n",
    "    if classes[i] == 0:\n",
    "        pass\n",
    "    else:\n",
    "        classes[i] = 1"
   ]
  },
  {
   "cell_type": "code",
   "execution_count": 3,
   "metadata": {},
   "outputs": [],
   "source": [
    "fates = list(set(planets['fate']))\n",
    "\n",
    "types = {fates[i] : i for i in range(len(fates))}\n",
    "\n",
    "classes = []\n",
    "\n",
    "for i in range(len(planets['fate'])):\n",
    "    if planets['fate'][i] == \"remaining\":\n",
    "        classes += [0]\n",
    "    else:\n",
    "        classes += [1]\n",
    "        \n",
    "classes = np.array(classes)"
   ]
  },
  {
   "cell_type": "markdown",
   "metadata": {},
   "source": [
    "###### Training"
   ]
  },
  {
   "cell_type": "code",
   "execution_count": 4,
   "metadata": {},
   "outputs": [
    {
     "name": "stderr",
     "output_type": "stream",
     "text": [
      "/Users/neha/opt/anaconda3/lib/python3.8/site-packages/pandas/core/frame.py:3990: SettingWithCopyWarning: \n",
      "A value is trying to be set on a copy of a slice from a DataFrame\n",
      "\n",
      "See the caveats in the documentation: https://pandas.pydata.org/pandas-docs/stable/user_guide/indexing.html#returning-a-view-versus-a-copy\n",
      "  return super().drop(\n"
     ]
    }
   ],
   "source": [
    "features_train, features_test, classes_train, classes_test = train_test_split(planets, classes, test_size=0.3, random_state=7)\n",
    "\n",
    "ids_train = features_train['planet'].to_numpy()\n",
    "features_train.drop(['run', 'planet', 'fate', 'end time'], axis=1, inplace=True)\n",
    "\n",
    "cols = features_train.columns\n",
    "features_train = features_train.to_numpy()\n",
    "\n",
    "ids_test = features_test['planet'].to_numpy()\n",
    "features_test.drop(['run', 'planet', 'fate', 'end time'], axis=1, inplace=True)\n",
    "features_test = features_test.to_numpy()"
   ]
  },
  {
   "cell_type": "code",
   "execution_count": 5,
   "metadata": {},
   "outputs": [
    {
     "data": {
      "text/plain": [
       "GradientBoostingClassifier(random_state=7)"
      ]
     },
     "execution_count": 5,
     "metadata": {},
     "output_type": "execute_result"
    }
   ],
   "source": [
    "classifier = GradientBoostingClassifier(random_state=7)\n",
    "classifier.fit(features_train, classes_train)"
   ]
  },
  {
   "cell_type": "code",
   "execution_count": 6,
   "metadata": {},
   "outputs": [
    {
     "name": "stdout",
     "output_type": "stream",
     "text": [
      "Classifier is  82.33333333333334 % accurate on testing set\n"
     ]
    }
   ],
   "source": [
    "classes_predict = classifier.predict( features_test )\n",
    "print('Classifier is ', accuracy_score(classes_test, classes_predict) * 100, '% accurate on testing set' )"
   ]
  },
  {
   "cell_type": "markdown",
   "metadata": {},
   "source": [
    "###### Feature importance"
   ]
  },
  {
   "cell_type": "code",
   "execution_count": 7,
   "metadata": {},
   "outputs": [
    {
     "name": "stdout",
     "output_type": "stream",
     "text": [
      "min mass1_ratio 0.12780153191118057\n",
      "sd e 0.120124215634875\n",
      "min mass2_ratio 0.07153991897006703\n",
      "initialjacobi 0.059298717842325266\n",
      "sd pericenter 0.049791776404937614\n",
      "min jacobi 0.0491432786813691\n",
      "mean mass2_ratio 0.04770694664865672\n",
      "min a2_ratio 0.03573452508517058\n",
      "initiala1_ratio 0.030266477926683313\n",
      "mean a2_ratio 0.030244776707351675\n",
      "max e 0.02393549880570311\n",
      "mean mass1_ratio 0.022872393185831376\n",
      "initiala2_ratio 0.021251574997633246\n",
      "min a1_ratio 0.020577658378923766\n",
      "final mass1_ratio 0.017596685759586592\n",
      "sd a1_ratio 0.015836550673166593\n",
      "mean mhr2 0.015394629792064749\n",
      "max mass2_ratio 0.014966388797222063\n",
      "final a1_ratio 0.013964666040499358\n",
      "max a1_ratio 0.013677302134050873\n",
      "final mass2_ratio 0.012763754280123241\n",
      "sd mhr2 0.01175793907992453\n",
      "min pericenter 0.011629756240814148\n",
      "max mass1_ratio 0.010789838465395237\n",
      "mean a1_ratio 0.010646592862878546\n",
      "max mhr1 0.010310342983338968\n",
      "sd mass1_ratio 0.009367625684461556\n",
      "sd a2_ratio 0.007943792925523333\n",
      "min e 0.007867089990681598\n",
      "final e 0.007685882947479194\n",
      "max mhr2 0.006969386011308516\n",
      "sd mass2_ratio 0.006956991131336607\n",
      "min mhr2 0.0063102648228137125\n",
      "min mhr1 0.0061897489327712605\n",
      "mean mhr1 0.005969161734746165\n",
      "sd mhr1 0.00593326355729188\n",
      "max a2_ratio 0.005613018646230809\n",
      "initialmass1_ratio 0.005504093003728655\n",
      "initiale 0.005116798892964422\n",
      "mean jacobi 0.004520892885678029\n",
      "initialmhr2 0.004145910886972939\n",
      "sd jacobi 0.004030115809728669\n",
      "initialmhr1 0.00390017359239637\n",
      "final a2_ratio 0.0035123358572516084\n",
      "final pericenter 0.0034594968705002845\n",
      "mean e 0.003251545197801871\n",
      "final mhr1 0.0028122518669585236\n",
      "max pericenter 0.0026950357580895344\n",
      "final mhr2 0.0026291218878373252\n",
      "initialmass2_ratio 0.0025233545915673973\n",
      "initialpericenter 0.002185056004415359\n",
      "final jacobi 0.0017990367434582457\n",
      "max jacobi 0.0013086252478566455\n",
      "mean pericenter 0.0001761902283764336\n"
     ]
    }
   ],
   "source": [
    "feats=classifier.feature_importances_\n",
    "inds=np.argsort(feats)[::-1]\n",
    "\n",
    "for i in range(len(inds)):\n",
    "    print(cols[inds[i]], feats[inds[i]])"
   ]
  },
  {
   "cell_type": "code",
   "execution_count": 8,
   "metadata": {},
   "outputs": [
    {
     "data": {
      "image/png": "[encoded data removed]",
      "text/plain": [
       "<Figure size 1080x504 with 1 Axes>"
      ]
     },
     "metadata": {
      "needs_background": "light"
     },
     "output_type": "display_data"
    }
   ],
   "source": [
    "import matplotlib.pyplot as plt\n",
    "import numpy as np\n",
    "import pylab\n",
    "\n",
    "\n",
    "f=plt.figure(figsize=(15,7))\n",
    "\n",
    "for i in range(len(inds)):\n",
    "    plt.bar(cols[inds[i]], feats[inds[i]] * 100)\n",
    "    \n",
    "\n",
    " \n",
    "plt.ylabel('% Importance', size=16)\n",
    "plt.xlabel('Feature', size=16)\n",
    "plt.title('Feature importance', size=20)\n",
    "plt.xticks(rotation = 90)\n",
    "plt.show()"
   ]
  },
  {
   "cell_type": "code",
   "execution_count": 9,
   "metadata": {},
   "outputs": [
    {
     "data": {
      "text/plain": [
       "Text(0.5, 1.0, 'min mass 1 vs sd e')"
      ]
     },
     "execution_count": 9,
     "metadata": {},
     "output_type": "execute_result"
    },
    {
     "data": {
      "image/png": "[encoded data removed]",
      "text/plain": [
       "<Figure size 1080x504 with 1 Axes>"
      ]
     },
     "metadata": {
      "needs_background": "light"
     },
     "output_type": "display_data"
    }
   ],
   "source": [
    "stable_x = []\n",
    "unstable_x = []\n",
    "misclassified_x = []\n",
    "stable_y = []\n",
    "unstable_y = []\n",
    "misclassified_y = []\n",
    "    \n",
    "    \n",
    "f=plt.figure(figsize=(15,7))\n",
    "\n",
    "for i in range(len(features_test)):\n",
    "    if (classes_test[i] == 0 and classes_predict[i] == 0):\n",
    "        stable_y.append(features_test[i][45])\n",
    "        stable_x.append(features_test[i][36])\n",
    "    elif (classes_test[i] == 1 and classes_predict[i] == 1):\n",
    "        unstable_y.append(features_test[i][45])\n",
    "        unstable_x.append(features_test[i][36])\n",
    "    else:\n",
    "        misclassified_y.append(features_test[i][45])\n",
    "        misclassified_x.append(features_test[i][36])\n",
    "\n",
    "        \n",
    "plt.scatter(stable_x, stable_y, color = 'thistle')\n",
    "plt.scatter(misclassified_x, misclassified_y, color = 'firebrick', zorder = 2)\n",
    "plt.scatter(unstable_x, unstable_y, color = 'lightsteelblue')\n",
    "\n",
    "        \n",
    "plt.xlabel('min mass 1 ratio (1)')\n",
    "plt.ylabel('standard deviation e (2)')\n",
    "plt.title('min mass 1 vs sd e')"
   ]
  }
 ],
 "metadata": {
  "kernelspec": {
   "display_name": "Python 3",
   "language": "python",
   "name": "python3"
  },
  "language_info": {
   "codemirror_mode": {
    "name": "ipython",
    "version": 3
   },
   "file_extension": ".py",
   "mimetype": "text/x-python",
   "name": "python",
   "nbconvert_exporter": "python",
   "pygments_lexer": "ipython3",
   "version": "3.8.3"
  }
 },
 "nbformat": 4,
 "nbformat_minor": 4
}

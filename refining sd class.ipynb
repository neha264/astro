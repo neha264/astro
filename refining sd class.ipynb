{
 "cells": [
  {
   "cell_type": "markdown",
   "metadata": {},
   "source": [
    "### refining simplified data classifier\n",
    "#### using 3 timesteps"
   ]
  },
  {
   "cell_type": "code",
   "execution_count": 1,
   "metadata": {},
   "outputs": [],
   "source": [
    "import numpy as np\n",
    "import pandas as pd\n",
    "\n",
    "from sklearn.metrics import accuracy_score\n",
    "from sklearn.model_selection import train_test_split\n",
    "\n",
    "from sklearn.ensemble import GradientBoostingClassifier\n",
    "from sklearn.model_selection import GridSearchCV\n",
    "from sklearn.metrics import classification_report, confusion_matrix "
   ]
  },
  {
   "cell_type": "code",
   "execution_count": 2,
   "metadata": {},
   "outputs": [
    {
     "name": "stdout",
     "output_type": "stream",
     "text": [
      "Index(['run', 'planet', 'initial e', 'final e', 'mean e', 'min e', 'max e',\n",
      "       'sd e', 'initial pericenter', 'final pericenter', 'mean pericenter',\n",
      "       'min pericenter', 'max pericenter', 'sd pericenter', 'initial jacobi',\n",
      "       'final jacobi', 'mean jacobi', 'min jacobi', 'max jacobi', 'sd jacobi',\n",
      "       'initial mhr1', 'final mhr1', 'mean mhr1', 'min mhr1', 'max mhr1',\n",
      "       'sd mhr1', 'initial mhr2', 'final mhr2', 'mean mhr2', 'min mhr2',\n",
      "       'max mhr2', 'sd mhr2', 'initial a1_ratio', 'final a1_ratio',\n",
      "       'mean a1_ratio', 'min a1_ratio', 'max a1_ratio', 'sd a1_ratio',\n",
      "       'initial a2_ratio', 'final a2_ratio', 'mean a2_ratio', 'min a2_ratio',\n",
      "       'max a2_ratio', 'sd a2_ratio', 'initial mass1_ratio',\n",
      "       'final mass1_ratio', 'mean mass1_ratio', 'min mass1_ratio',\n",
      "       'max mass1_ratio', 'sd mass1_ratio', 'initial mass2_ratio',\n",
      "       'final mass2_ratio', 'mean mass2_ratio', 'min mass2_ratio',\n",
      "       'max mass2_ratio', 'sd mass2_ratio', 'end time', 'fate'],\n",
      "      dtype='object')\n"
     ]
    }
   ],
   "source": [
    "planets = pd.read_csv('3ts.csv', skipinitialspace=True)\n",
    "print(planets.columns)"
   ]
  },
  {
   "cell_type": "markdown",
   "metadata": {},
   "source": [
    "###### started at ~84% accurate"
   ]
  },
  {
   "cell_type": "code",
   "execution_count": 3,
   "metadata": {},
   "outputs": [],
   "source": [
    "fates = list(set(planets['fate']))\n",
    "\n",
    "types = {fates[i] : i for i in range(len(fates))}\n",
    "\n",
    "classes = []\n",
    "\n",
    "for i in range(len(planets['fate'])):\n",
    "    if planets['fate'][i] == \"remaining\":\n",
    "        classes += [0]\n",
    "    else:\n",
    "        classes += [1]\n",
    "        \n",
    "classes = np.array(classes)"
   ]
  },
  {
   "cell_type": "markdown",
   "metadata": {},
   "source": [
    "###### Training"
   ]
  },
  {
   "cell_type": "code",
   "execution_count": 126,
   "metadata": {},
   "outputs": [],
   "source": [
    "features_train, features_test, classes_train, classes_test = train_test_split(planets, classes, test_size=0.3, random_state=7)\n",
    "\n",
    "ru = features_test['run'].to_numpy()\n",
    "p = features_test['planet'].to_numpy()\n",
    "e = features_test['end time'].to_numpy()\n",
    "fa = features_test['fate'].to_numpy()\n",
    "\n",
    "# for graphs\n",
    "me = features_test['min e'].to_numpy()\n",
    "fa2 = features_test['final a2_ratio'].to_numpy()\n",
    "mm2 = features_test['min mass2_ratio'].to_numpy()\n",
    "\n",
    "d = ['run', 'planet', 'fate', 'end time']\n",
    "\n",
    "var = ['e','mhr1','mhr2','a1_ratio','a2_ratio','mass1_ratio','mass2_ratio','pericenter','jacobi',]\n",
    "\n",
    "for v in var:\n",
    "#     d.append('initial ' + str(v))\n",
    "    d.append('final ' + str(v))\n",
    "#     d.append('mean ' + str(v))     # getting rid of mean and sd have similar accuracy results\n",
    "    d.append('min ' + str(v))\n",
    "#     d.append('max ' + str(v))\n",
    "    d.append('sd ' + str(v))\n",
    "    \n",
    "\n",
    "ids_train = features_train['planet'].to_numpy()\n",
    "features_train.drop(d, axis=1, inplace=True)\n",
    "\n",
    "cols = features_train.columns\n",
    "features_train = features_train.to_numpy()\n",
    "\n",
    "ids_test = features_test['planet'].to_numpy()\n",
    "features_test.drop(d, axis=1, inplace=True)\n",
    "features_test = features_test.to_numpy()"
   ]
  },
  {
   "cell_type": "code",
   "execution_count": 9,
   "metadata": {},
   "outputs": [
    {
     "data": {
      "text/plain": [
       "GradientBoostingClassifier(random_state=7)"
      ]
     },
     "execution_count": 9,
     "metadata": {},
     "output_type": "execute_result"
    }
   ],
   "source": [
    "classifier = GradientBoostingClassifier(random_state=7)\n",
    "classifier.fit(features_train, classes_train)"
   ]
  },
  {
   "cell_type": "code",
   "execution_count": 48,
   "metadata": {},
   "outputs": [
    {
     "name": "stdout",
     "output_type": "stream",
     "text": [
      "Classifier is  82.66666666666667 % accurate on testing set\n"
     ]
    }
   ],
   "source": [
    "classes_predict = classifier.predict( features_test )\n",
    "print('Classifier is ', accuracy_score(classes_test, classes_predict) * 100, '% accurate on testing set' )"
   ]
  },
  {
   "cell_type": "markdown",
   "metadata": {},
   "source": [
    "###### refine hyperparameters (grid search)"
   ]
  },
  {
   "cell_type": "code",
   "execution_count": 5,
   "metadata": {},
   "outputs": [
    {
     "name": "stdout",
     "output_type": "stream",
     "text": [
      "Fitting 5 folds for each of 675 candidates, totalling 3375 fits\n"
     ]
    },
    {
     "name": "stderr",
     "output_type": "stream",
     "text": [
      "[Parallel(n_jobs=-1)]: Using backend LokyBackend with 4 concurrent workers.\n",
      "[Parallel(n_jobs=-1)]: Done  42 tasks      | elapsed:   12.1s\n",
      "[Parallel(n_jobs=-1)]: Done 192 tasks      | elapsed:   29.5s\n",
      "[Parallel(n_jobs=-1)]: Done 442 tasks      | elapsed:  1.3min\n",
      "[Parallel(n_jobs=-1)]: Done 792 tasks      | elapsed:  3.0min\n",
      "[Parallel(n_jobs=-1)]: Done 1242 tasks      | elapsed:  4.6min\n",
      "[Parallel(n_jobs=-1)]: Done 1792 tasks      | elapsed:  6.6min\n",
      "[Parallel(n_jobs=-1)]: Done 2442 tasks      | elapsed:  9.1min\n",
      "[Parallel(n_jobs=-1)]: Done 3192 tasks      | elapsed: 12.2min\n",
      "[Parallel(n_jobs=-1)]: Done 3375 out of 3375 | elapsed: 12.9min finished\n"
     ]
    },
    {
     "name": "stdout",
     "output_type": "stream",
     "text": [
      "{'learning_rate': 0.05, 'max_depth': 4, 'max_features': 'auto', 'n_estimators': 75}\n",
      "              precision    recall  f1-score   support\n",
      "\n",
      "           0       0.96      0.85      0.90       232\n",
      "           1       0.93      0.98      0.96       468\n",
      "\n",
      "    accuracy                           0.94       700\n",
      "   macro avg       0.94      0.92      0.93       700\n",
      "weighted avg       0.94      0.94      0.94       700\n",
      "\n"
     ]
    }
   ],
   "source": [
    "param_grid = {'learning_rate': [0.05, 0.07, 0.1, 0.12, 0.15],\n",
    "              'max_depth': [4, 5, 6, 7, 8],\n",
    "              'n_estimators': [50, 55, 60, 65, 70, 75, 80, 85, 90],\n",
    "              'max_features': ['auto','sqrt','log2']}  \n",
    "  \n",
    "grid = GridSearchCV(GradientBoostingClassifier(), param_grid, refit = True, verbose = 1, n_jobs=-1) \n",
    "  \n",
    "# fitting the model for grid search \n",
    "grid.fit(features_train, classes_train)\n",
    "\n",
    "# print best parameter after tuning \n",
    "print(grid.best_params_) \n",
    "grid_predictions = grid.predict(features_train)\n",
    "  \n",
    "# print classification report \n",
    "print(classification_report(classes_train, grid_predictions)) "
   ]
  },
  {
   "cell_type": "code",
   "execution_count": 5,
   "metadata": {},
   "outputs": [
    {
     "data": {
      "text/plain": [
       "GradientBoostingClassifier(learning_rate=0.05, max_depth=4, max_features='auto',\n",
       "                           n_estimators=75, random_state=7)"
      ]
     },
     "execution_count": 5,
     "metadata": {},
     "output_type": "execute_result"
    }
   ],
   "source": [
    "classifier = GradientBoostingClassifier(learning_rate = 0.05, max_depth = 4, max_features = 'auto', n_estimators = 75, random_state=7)\n",
    "classifier.fit(features_train, classes_train)"
   ]
  },
  {
   "cell_type": "code",
   "execution_count": 6,
   "metadata": {},
   "outputs": [
    {
     "name": "stdout",
     "output_type": "stream",
     "text": [
      "Classifier is  86.0 % accurate on testing set\n"
     ]
    }
   ],
   "source": [
    "classes_predict = classifier.predict(features_test)\n",
    "print('Classifier is ', accuracy_score(classes_test, classes_predict) * 100, '% accurate on testing set' )"
   ]
  },
  {
   "cell_type": "markdown",
   "metadata": {},
   "source": [
    "\n",
    "\n",
    "###### feature importances"
   ]
  },
  {
   "cell_type": "code",
   "execution_count": 7,
   "metadata": {},
   "outputs": [
    {
     "name": "stdout",
     "output_type": "stream",
     "text": [
      "initial a2_ratio 0.2115211115842252\n",
      "max mass2_ratio 0.12816747778762438\n",
      "max e 0.11018980776445347\n",
      "initial mass2_ratio 0.0876543694728483\n",
      "initial jacobi 0.06600169373034305\n",
      "mean mass2_ratio 0.06052005286022682\n",
      "initial e 0.05457568530026466\n",
      "max mass1_ratio 0.03672307237807971\n",
      "initial mass1_ratio 0.034883230751649334\n",
      "initial a1_ratio 0.02517826216947946\n",
      "mean mass1_ratio 0.023597712547924112\n",
      "mean a2_ratio 0.021255565916284743\n",
      "max a1_ratio 0.020333982557750315\n",
      "max mhr2 0.019483564693945302\n",
      "max a2_ratio 0.01726241953206795\n",
      "mean e 0.013052774085238385\n",
      "mean a1_ratio 0.01208670139370233\n",
      "max mhr1 0.008397600697260924\n",
      "mean mhr1 0.008252130030106436\n",
      "initial mhr2 0.008036462739317591\n",
      "mean pericenter 0.007631800276239317\n",
      "mean jacobi 0.005880582441533343\n",
      "initial mhr1 0.004916474207212721\n",
      "max pericenter 0.00461834522299314\n",
      "max jacobi 0.004126550400733059\n",
      "initial pericenter 0.0028904500629309405\n",
      "mean mhr2 0.0027621193955649818\n"
     ]
    }
   ],
   "source": [
    "feats=classifier.feature_importances_\n",
    "inds=np.argsort(feats)[::-1]\n",
    "\n",
    "for i in range(len(inds)):\n",
    "    print(cols[inds[i]], feats[inds[i]])"
   ]
  },
  {
   "cell_type": "code",
   "execution_count": 8,
   "metadata": {},
   "outputs": [
    {
     "data": {
      "image/png": "[encoded data removed]",
      "text/plain": [
       "<Figure size 1080x504 with 1 Axes>"
      ]
     },
     "metadata": {
      "needs_background": "light"
     },
     "output_type": "display_data"
    }
   ],
   "source": [
    "import matplotlib.pyplot as plt\n",
    "import numpy as np\n",
    "import pylab\n",
    "\n",
    "\n",
    "f=plt.figure(figsize=(15,7))\n",
    "\n",
    "for i in range(len(inds)):\n",
    "    plt.bar(cols[inds[i]], feats[inds[i]] * 100)\n",
    "    \n",
    "\n",
    " \n",
    "plt.ylabel('% Importance', size=16)\n",
    "plt.xlabel('Feature', size=16)\n",
    "plt.title('Feature importance', size=20)\n",
    "plt.xticks(rotation = 90)\n",
    "plt.show()"
   ]
  },
  {
   "cell_type": "markdown",
   "metadata": {},
   "source": [
    "###### playing around with important features - correctly classified vs misclassified planets"
   ]
  },
  {
   "cell_type": "markdown",
   "metadata": {},
   "source": [
    "1. Maybe revisit the data generation step to try to find the two dynamically closest planets instead of the inner and outer planets in your data set? \n",
    "2. Begin to explore the misclassified objects:\n",
    "    - What are the instability times for misclassified planets?\n",
    "    - Does the evolution of misclassified planets look different (e.g., does something like a vs. time or e vs. time give us any insight?)\n",
    "    - (For instance, I might guess that most of the misclassified planets are truly unstable but classified as stable and have long instability times)\n",
    "3. Look at the probabilities of class membership (how sure are we that planets are stable or unstable)\n",
    "    - You can use the classifier method predict_proba (https://scikit-learn.org/stable/modules/generated/sklearn.ensemble.GradientBoostingClassifier.html#sklearn.ensemble.GradientBoostingClassifier.predict_proba)\n",
    "    - Do the misclassified objects have high or low probabilities?\n",
    "    - How many of the correctly classified objects have high probability? (more than 90%? 95%? 99.9%?)\n",
    "    - What is probability as a function of instability time for the unstable planets?"
   ]
  },
  {
   "cell_type": "code",
   "execution_count": null,
   "metadata": {},
   "outputs": [],
   "source": [
    "stable_x = []\n",
    "unstable_x = []\n",
    "misclassified_x = []\n",
    "stable_y = []\n",
    "unstable_y = []\n",
    "misclassified_y = []\n",
    "    \n",
    "    \n",
    "f=plt.figure(figsize=(15,7))\n",
    "\n",
    "for i in range(len(features_test)):\n",
    "    if (classes_test[i] == 0 and classes_predict[i] == 0):\n",
    "        stable_x.append(features_test[i][18])\n",
    "        stable_y.append(features_test[i][26])\n",
    "    elif (classes_test[i] == 1 and classes_predict[i] == 1):\n",
    "        unstable_x.append(features_test[i][18])\n",
    "        unstable_y.append(features_test[i][26])\n",
    "    else:\n",
    "        misclassified_x.append(features_test[i][18])\n",
    "        misclassified_y.append(features_test[i][26])\n",
    "\n",
    "        \n",
    "plt.scatter(stable_x, stable_y, color = 'thistle')\n",
    "plt.scatter(misclassified_x, misclassified_y, color = 'firebrick', zorder = 2)\n",
    "plt.scatter(unstable_x, unstable_y, color = 'lightsteelblue')\n",
    "\n",
    "        \n",
    "plt.ylabel('max mass2 ratio (2)')\n",
    "plt.xlabel('initial a2 ratio (1)')\n",
    "plt.title('initial a2 vs mass2')"
   ]
  },
  {
   "cell_type": "code",
   "execution_count": 119,
   "metadata": {},
   "outputs": [
    {
     "data": {
      "text/plain": [
       "Text(0.5, 1.0, 'initial a2 vs mass2')"
      ]
     },
     "execution_count": 119,
     "metadata": {},
     "output_type": "execute_result"
    },
    {
     "data": {
      "image/png": "[encoded data removed]",
      "text/plain": [
       "<Figure size 1080x504 with 1 Axes>"
      ]
     },
     "metadata": {
      "needs_background": "light"
     },
     "output_type": "display_data"
    }
   ],
   "source": [
    "f=plt.figure(figsize=(15,7))\n",
    "\n",
    "for i in range(0,len(features_test)):\n",
    "    if (classes_test[i] != classes_predict[i]):\n",
    "        if (classes_test[i] == 0):    # is actually stable\n",
    "            plt.scatter(features_test[i][18], features_test[i][26], color = 'mediumpurple', zorder = 3)\n",
    "        else:                         # is actually unstable\n",
    "            plt.scatter(features_test[i][18], features_test[i][26], color = 'cornflowerblue', zorder = 3)\n",
    "    else:                             # correct\n",
    "        plt.scatter(features_test[i][18], features_test[i][26], color = 'lightgray', alpha=0.5)\n",
    "        \n",
    "plt.xlabel('initial a2 ratio (1)')\n",
    "plt.ylabel('max mass2 ratio (2)')\n",
    "plt.title('initial a2 vs mass2')"
   ]
  },
  {
   "cell_type": "code",
   "execution_count": 139,
   "metadata": {},
   "outputs": [
    {
     "data": {
      "text/plain": [
       "Text(0.5, 1.0, 'initial vs final a2')"
      ]
     },
     "execution_count": 139,
     "metadata": {},
     "output_type": "execute_result"
    },
    {
     "data": {
      "image/png": "[encoded data removed]",
      "text/plain": [
       "<Figure size 1080x504 with 1 Axes>"
      ]
     },
     "metadata": {
      "needs_background": "light"
     },
     "output_type": "display_data"
    }
   ],
   "source": [
    "f=plt.figure(figsize=(15,7))\n",
    "\n",
    "x = []\n",
    "y = []\n",
    "\n",
    "for i in range(0,len(features_test)):\n",
    "    x.append(features_test[i][18])\n",
    "    y.append(fa2[i])\n",
    "    \n",
    "    if (classes_test[i] != classes_predict[i]):\n",
    "        if (classes_test[i] == 0):    # is actually stable\n",
    "            plt.scatter(features_test[i][18], fa2[i], color = 'mediumpurple', zorder = 5)\n",
    "        else:  # is actually unstable\n",
    "            plt.scatter(features_test[i][18], fa2[i], color = 'cornflowerblue', zorder = 5)\n",
    "    else:\n",
    "        plt.scatter(features_test[i][18], fa2[i], color = 'lightgray', alpha=0.7)\n",
    "        \n",
    "        \n",
    "plt.plot(np.unique(x), np.poly1d(np.polyfit(x, y, 1))(np.unique(x)), color='black', alpha = 0.5)\n",
    "\n",
    "\n",
    "plt.xlabel('initial a2 (1)')\n",
    "plt.ylabel('final a2')\n",
    "plt.title('initial vs final a2')"
   ]
  },
  {
   "cell_type": "code",
   "execution_count": 142,
   "metadata": {},
   "outputs": [
    {
     "data": {
      "text/plain": [
       "Text(0.5, 1.0, 'min vs max mass2')"
      ]
     },
     "execution_count": 142,
     "metadata": {},
     "output_type": "execute_result"
    },
    {
     "data": {
      "image/png": "[encoded data removed]",
      "text/plain": [
       "<Figure size 1080x504 with 1 Axes>"
      ]
     },
     "metadata": {
      "needs_background": "light"
     },
     "output_type": "display_data"
    }
   ],
   "source": [
    "f=plt.figure(figsize=(15,7))\n",
    "\n",
    "x = []\n",
    "y = []\n",
    "\n",
    "for i in range(0,len(features_test)):\n",
    "    x.append(features_test[i][26])\n",
    "    y.append(mm2[i])\n",
    "    \n",
    "    if (classes_test[i] != classes_predict[i]):\n",
    "        if (classes_test[i] == 0):    # is actually stable\n",
    "            plt.scatter(features_test[i][26], mm2[i], color = 'mediumpurple', zorder = 5)\n",
    "        else:                         # is actually unstable\n",
    "            plt.scatter(features_test[i][26], mm2[i], color = 'cornflowerblue', zorder = 5)\n",
    "    else:\n",
    "        plt.scatter(features_test[i][26], mm2[i], color = 'lightgray', alpha=0.7)\n",
    "\n",
    "        \n",
    "# plt.plot(np.unique(x), np.poly1d(np.polyfit(x, y, 1))(np.unique(x)), color='black', alpha = 0.5)\n",
    "\n",
    "        \n",
    "plt.xlabel('max mass2 ratio (2)')\n",
    "plt.ylabel('min mass2 ratio')\n",
    "plt.title('min vs max mass2')"
   ]
  },
  {
   "cell_type": "code",
   "execution_count": 144,
   "metadata": {},
   "outputs": [
    {
     "data": {
      "text/plain": [
       "Text(0.5, 1.0, 'min vs max e')"
      ]
     },
     "execution_count": 144,
     "metadata": {},
     "output_type": "execute_result"
    },
    {
     "data": {
      "image/png": "[encoded data removed]",
      "text/plain": [
       "<Figure size 1080x504 with 1 Axes>"
      ]
     },
     "metadata": {
      "needs_background": "light"
     },
     "output_type": "display_data"
    }
   ],
   "source": [
    "f=plt.figure(figsize=(15,7))\n",
    "\n",
    "x = []\n",
    "y = []\n",
    "\n",
    "for i in range(0,len(features_test)):\n",
    "    x.append(features_test[i][1])\n",
    "    y.append(me[i])\n",
    "    \n",
    "    if (classes_test[i] != classes_predict[i]):\n",
    "        if (classes_test[i] == 0):    # is actually stable\n",
    "            plt.scatter(features_test[i][1], me[i], color = 'mediumpurple', zorder = 5)\n",
    "        else:  # is actually unstable\n",
    "            plt.scatter(features_test[i][1], me[i], color = 'cornflowerblue', zorder = 5)\n",
    "    else:\n",
    "        plt.scatter(features_test[i][1], me[i], color = 'lightgray', alpha=0.7)\n",
    "       \n",
    "\n",
    "plt.plot(np.unique(x), np.poly1d(np.polyfit(x, y, 1))(np.unique(x)), color='black', alpha = 0.5)\n",
    "\n",
    "        \n",
    "# plt.ylim(-0.25, 1)        \n",
    "plt.xlabel('max e (3)')\n",
    "plt.ylabel('min e')\n",
    "plt.title('min vs max e')"
   ]
  },
  {
   "cell_type": "markdown",
   "metadata": {},
   "source": [
    "###### probability - stable/unstable"
   ]
  },
  {
   "cell_type": "code",
   "execution_count": 151,
   "metadata": {
    "scrolled": true
   },
   "outputs": [
    {
     "name": "stdout",
     "output_type": "stream",
     "text": [
      "Misclassified objects - unstable/stable probabilities: \n",
      "\n",
      "Stable: 0.4073492093527856. Unstable: 0.5926507906472144\n",
      "Stable: 0.6973643123176625. Unstable: 0.30263568768233745\n",
      "Stable: 0.282228968658355. Unstable: 0.717771031341645\n",
      "Stable: 0.22987919591977923. Unstable: 0.7701208040802208\n",
      "Stable: 0.08381515181597143. Unstable: 0.9161848481840286\n",
      "Stable: 0.06120588444795738. Unstable: 0.9387941155520426\n",
      "Stable: 0.10893113536410104. Unstable: 0.891068864635899\n",
      "Stable: 0.6017241571501935. Unstable: 0.3982758428498065\n",
      "Stable: 0.3268899893719128. Unstable: 0.6731100106280872\n",
      "Stable: 0.7992941012575148. Unstable: 0.20070589874248518\n",
      "Stable: 0.7582993918377426. Unstable: 0.24170060816225733\n",
      "Stable: 0.7614745761976213. Unstable: 0.23852542380237873\n",
      "Stable: 0.10868679976287943. Unstable: 0.8913132002371206\n",
      "Stable: 0.12995045951169726. Unstable: 0.8700495404883027\n",
      "Stable: 0.08953576128622842. Unstable: 0.9104642387137716\n",
      "Stable: 0.9320779529520534. Unstable: 0.06792204704794658\n",
      "Stable: 0.5583899426670356. Unstable: 0.4416100573329644\n",
      "Stable: 0.35839504977706194. Unstable: 0.6416049502229381\n",
      "Stable: 0.6091673568855704. Unstable: 0.39083264311442956\n",
      "Stable: 0.07448639398183765. Unstable: 0.9255136060181623\n",
      "Stable: 0.1053548513185254. Unstable: 0.8946451486814746\n",
      "Stable: 0.06468085920278244. Unstable: 0.9353191407972176\n",
      "Stable: 0.8572454089053773. Unstable: 0.14275459109462277\n",
      "Stable: 0.8180046675735939. Unstable: 0.18199533242640606\n",
      "Stable: 0.03241540658674735. Unstable: 0.9675845934132526\n",
      "Stable: 0.1511222140305144. Unstable: 0.8488777859694856\n",
      "Stable: 0.28747691623468086. Unstable: 0.7125230837653191\n",
      "Stable: 0.4204355642234865. Unstable: 0.5795644357765135\n",
      "Stable: 0.3799440945577611. Unstable: 0.6200559054422389\n",
      "Stable: 0.5314442609081468. Unstable: 0.4685557390918532\n",
      "Stable: 0.33717347006876097. Unstable: 0.662826529931239\n",
      "Stable: 0.1347203483026188. Unstable: 0.8652796516973812\n",
      "Stable: 0.6720940068033787. Unstable: 0.3279059931966213\n",
      "Stable: 0.8519929926692635. Unstable: 0.14800700733073643\n",
      "Stable: 0.5096614527256527. Unstable: 0.49033854727434734\n",
      "Stable: 0.27352227886440716. Unstable: 0.7264777211355928\n",
      "Stable: 0.7359851231053638. Unstable: 0.2640148768946362\n",
      "Stable: 0.16077874013071058. Unstable: 0.8392212598692894\n",
      "Stable: 0.21410567835903704. Unstable: 0.785894321640963\n",
      "Stable: 0.38664981748812643. Unstable: 0.6133501825118736\n",
      "Stable: 0.11835173814698152. Unstable: 0.8816482618530185\n",
      "Stable: 0.10856668297557148. Unstable: 0.8914333170244285\n",
      "\n",
      "Average probability for misclassified objects: 23.196268942345498\n"
     ]
    }
   ],
   "source": [
    "# certainity/probability for misclassified ones, average percentage\n",
    "\n",
    "r = classifier.predict_proba(features_test)   # col 0 = stable, 1 = unstable\n",
    "m = []\n",
    "\n",
    "print('Misclassified objects - unstable/stable probabilities: \\n')\n",
    "for i in range(0,len(r)):\n",
    "    if (classes_test[i] != classes_predict[i]):\n",
    "        print('Stable: ' + str(r[i][0]) + '. Unstable: ' + str(r[i][1]))\n",
    "        if (classes_test[i] == 0):\n",
    "            # print('Predicted: unstable. Actual: stable \\n')\n",
    "            m.append(r[i][0])\n",
    "        else:\n",
    "            # print('Predicted: stable. Actual: unstable \\n')\n",
    "            m.append(r[i][1])\n",
    "            \n",
    "print('\\nAverage probability for misclassified objects: ' + str(np.mean(m)))"
   ]
  },
  {
   "cell_type": "code",
   "execution_count": 177,
   "metadata": {
    "scrolled": true
   },
   "outputs": [
    {
     "name": "stdout",
     "output_type": "stream",
     "text": [
      "Misclassified planets: \n",
      "\n",
      "Probability - 59.26507906472144\n",
      "Predicted unstable, actually stable\n",
      "Instability Time: 10000000.0\n",
      "\n",
      "Probability - 69.73643123176625\n",
      "Predicted stable, actually unstable\n",
      "Instability Time: 118928.0515615\n",
      "\n",
      "Probability - 71.7771031341645\n",
      "Predicted unstable, actually stable\n",
      "Instability Time: 10000000.0\n",
      "\n",
      "Probability - 77.01208040802207\n",
      "Predicted unstable, actually stable\n",
      "Instability Time: 10000000.0\n",
      "\n",
      "Probability - 91.61848481840286\n",
      "Predicted unstable, actually stable\n",
      "Instability Time: 10000000.0\n",
      "\n",
      "Probability - 93.87941155520426\n",
      "Predicted unstable, actually stable\n",
      "Instability Time: 10000000.0\n",
      "\n",
      "Probability - 89.1068864635899\n",
      "Predicted unstable, actually stable\n",
      "Instability Time: 10000000.0\n",
      "\n",
      "Probability - 60.17241571501935\n",
      "Predicted stable, actually unstable\n",
      "Instability Time: 19753.175330000002\n",
      "\n",
      "Probability - 67.31100106280871\n",
      "Predicted unstable, actually stable\n",
      "Instability Time: 10000000.0\n",
      "\n",
      "Probability - 79.92941012575147\n",
      "Predicted stable, actually unstable\n",
      "Instability Time: 1111616.2498675\n",
      "\n",
      "Probability - 75.82993918377426\n",
      "Predicted stable, actually unstable\n",
      "Instability Time: 281288.7792286\n",
      "\n",
      "Probability - 76.14745761976212\n",
      "Predicted stable, actually unstable\n",
      "Instability Time: 13403.0186852\n",
      "\n",
      "Probability - 89.13132002371206\n",
      "Predicted unstable, actually stable\n",
      "Instability Time: 10000000.0\n",
      "\n",
      "Probability - 87.00495404883027\n",
      "Predicted unstable, actually stable\n",
      "Instability Time: 10000000.0\n",
      "\n",
      "Probability - 91.04642387137716\n",
      "Predicted unstable, actually stable\n",
      "Instability Time: 10000000.0\n",
      "\n",
      "Probability - 93.20779529520534\n",
      "Predicted stable, actually unstable\n",
      "Instability Time: 204499.41283299998\n",
      "\n",
      "Probability - 55.83899426670356\n",
      "Predicted stable, actually unstable\n",
      "Instability Time: 1966.7448967999999\n",
      "\n",
      "Probability - 64.1604950222938\n",
      "Predicted unstable, actually stable\n",
      "Instability Time: 10000000.0\n",
      "\n",
      "Probability - 60.91673568855705\n",
      "Predicted stable, actually unstable\n",
      "Instability Time: 142485.0743752\n",
      "\n",
      "Probability - 92.55136060181624\n",
      "Predicted unstable, actually stable\n",
      "Instability Time: 10000000.0\n",
      "\n",
      "Probability - 89.46451486814746\n",
      "Predicted unstable, actually stable\n",
      "Instability Time: 10000000.0\n",
      "\n",
      "Probability - 93.53191407972176\n",
      "Predicted unstable, actually stable\n",
      "Instability Time: 10000000.0\n",
      "\n",
      "Probability - 85.72454089053772\n",
      "Predicted stable, actually unstable\n",
      "Instability Time: 6955.434272699999\n",
      "\n",
      "Probability - 81.80046675735939\n",
      "Predicted stable, actually unstable\n",
      "Instability Time: 7939.8398494\n",
      "\n",
      "Probability - 96.75845934132526\n",
      "Predicted unstable, actually stable\n",
      "Instability Time: 10000000.0\n",
      "\n",
      "Probability - 84.88777859694856\n",
      "Predicted unstable, actually stable\n",
      "Instability Time: 10000000.0\n",
      "\n",
      "Probability - 71.25230837653191\n",
      "Predicted unstable, actually stable\n",
      "Instability Time: 10000000.0\n",
      "\n",
      "Probability - 57.95644357765135\n",
      "Predicted unstable, actually stable\n",
      "Instability Time: 10000000.0\n",
      "\n",
      "Probability - 62.005590544223885\n",
      "Predicted unstable, actually stable\n",
      "Instability Time: 10000000.0\n",
      "\n",
      "Probability - 53.144426090814676\n",
      "Predicted stable, actually unstable\n",
      "Instability Time: 24275.2557449\n",
      "\n",
      "Probability - 66.2826529931239\n",
      "Predicted unstable, actually stable\n",
      "Instability Time: 10000000.0\n",
      "\n",
      "Probability - 86.52796516973812\n",
      "Predicted unstable, actually stable\n",
      "Instability Time: 10000000.0\n",
      "\n",
      "Probability - 67.20940068033786\n",
      "Predicted stable, actually unstable\n",
      "Instability Time: 20751.3440968\n",
      "\n",
      "Probability - 85.19929926692636\n",
      "Predicted stable, actually unstable\n",
      "Instability Time: 438311.001274\n",
      "\n",
      "Probability - 50.966145272565264\n",
      "Predicted stable, actually unstable\n",
      "Instability Time: 3946.0293407999998\n",
      "\n",
      "Probability - 72.64777211355928\n",
      "Predicted unstable, actually stable\n",
      "Instability Time: 10000000.0\n",
      "\n",
      "Probability - 73.59851231053638\n",
      "Predicted stable, actually unstable\n",
      "Instability Time: 2709.3700401\n",
      "\n",
      "Probability - 83.92212598692895\n",
      "Predicted unstable, actually stable\n",
      "Instability Time: 10000000.0\n",
      "\n",
      "Probability - 78.5894321640963\n",
      "Predicted unstable, actually stable\n",
      "Instability Time: 10000000.0\n",
      "\n",
      "Probability - 61.33501825118736\n",
      "Predicted unstable, actually stable\n",
      "Instability Time: 10000000.0\n",
      "\n",
      "Probability - 88.16482618530185\n",
      "Predicted unstable, actually stable\n",
      "Instability Time: 10000000.0\n",
      "\n",
      "Probability - 89.14333170244285\n",
      "Predicted unstable, actually stable\n",
      "Instability Time: 10000000.0\n",
      "\n",
      "\n",
      "Average probability for misclassified planets: 76.80373105765452\n",
      "\n",
      "Average probability for planets predicted stable, actually unstable: 71.29479802637448\n",
      "\n",
      "Average probability for planets predicted unstable, actually stable: 79.86424940836565\n",
      "\n",
      "Number of misclassified planets predicted unstable, actually stable: 27\n",
      "Number of misclassified planets predicted stable, actually unstable: 15\n"
     ]
    }
   ],
   "source": [
    "# certainity/probability for misclassified ones, average percentage\n",
    "\n",
    "r = classifier.predict_proba(features_test)   # col 0 = stable, 1 = unstable\n",
    "m = []\n",
    "acs = []\n",
    "acu = []\n",
    "\n",
    "cu = 0    # count actually unstable//actually stable\n",
    "cs = 0\n",
    "\n",
    "print('Misclassified planets: \\n')\n",
    "\n",
    "for i in range(0,len(r)):\n",
    "    if (classes_test[i] != classes_predict[i]):\n",
    "#         print('Run ' + str(ru[i]) + ', Planet ' + str(p[i]))\n",
    "        if (classes_predict[i] == 0):\n",
    "            print('Probability - ' + str(r[i][0] * 100) + '\\nPredicted stable, actually unstable')\n",
    "            m.append(r[i][0] * 100)\n",
    "            acu.append(r[i][0] * 100)\n",
    "            cu += 1\n",
    "        else:\n",
    "            print('Probability - ' + str(r[i][1] * 100) + '\\nPredicted unstable, actually stable')\n",
    "            m.append(r[i][1] * 100)\n",
    "            acs.append(r[i][1] * 100)\n",
    "            cs += 1\n",
    "            \n",
    "        print('Instability Time: ' + str(e[i]) + '\\n')\n",
    "        \n",
    "print('\\nAverage probability for misclassified planets: ' + str(np.mean(m)))\n",
    "print('\\nAverage probability for planets predicted stable, actually unstable: ' + str(np.mean(acu)))\n",
    "print('\\nAverage probability for planets predicted unstable, actually stable: ' + str(np.mean(acs)))\n",
    "\n",
    "print('\\nNumber of misclassified planets predicted unstable, actually stable: ' + str(cs))\n",
    "print('Number of misclassified planets predicted stable, actually unstable: ' + str(cu))"
   ]
  },
  {
   "cell_type": "code",
   "execution_count": 159,
   "metadata": {},
   "outputs": [
    {
     "name": "stdout",
     "output_type": "stream",
     "text": [
      "Probabilities for correctly classified planets: \n",
      "\n",
      "92.10448376108775 - unstable\n",
      "65.28733482597637 - stable\n",
      "68.92584117780076 - stable\n",
      "61.17174577256223 - stable\n",
      "92.56029752462798 - unstable\n",
      "90.13958581777348 - unstable\n",
      "92.83086259099646 - unstable\n",
      "95.68390223662522 - unstable\n",
      "82.9791115875801 - unstable\n",
      "78.95513988875886 - unstable\n",
      "94.37793866520933 - unstable\n",
      "83.04684393121013 - stable\n",
      "88.38045081498112 - unstable\n",
      "95.3882499091582 - unstable\n",
      "75.85310313648137 - unstable\n",
      "52.615048171546384 - stable\n",
      "95.67232920487068 - unstable\n",
      "96.03211196099451 - unstable\n",
      "81.55527997762519 - unstable\n",
      "91.69458157076468 - unstable\n",
      "90.04488929362937 - stable\n",
      "95.22874417889284 - unstable\n",
      "95.39256093589961 - unstable\n",
      "59.33637595500275 - stable\n",
      "91.62401241613682 - unstable\n",
      "85.9018704210639 - stable\n",
      "79.08729316166941 - unstable\n",
      "82.1636550893308 - unstable\n",
      "80.76127957772259 - stable\n",
      "92.91738405042081 - unstable\n",
      "91.94293839066091 - unstable\n",
      "91.18324523674883 - stable\n",
      "95.57368034903523 - unstable\n",
      "96.08729461667025 - unstable\n",
      "95.3776756221589 - stable\n",
      "92.52194119985585 - unstable\n",
      "96.50003042625835 - unstable\n",
      "88.18764031248935 - stable\n",
      "93.34268500304577 - unstable\n",
      "72.86863114849899 - unstable\n",
      "82.06535947721696 - unstable\n",
      "90.9449649644852 - unstable\n",
      "89.28684558704173 - stable\n",
      "91.05618224972473 - unstable\n",
      "95.69531936599489 - stable\n",
      "95.74329680012217 - unstable\n",
      "85.7594804523315 - stable\n",
      "68.77443139449633 - unstable\n",
      "69.32741588876816 - unstable\n",
      "79.93842049232298 - unstable\n",
      "96.74929446051998 - unstable\n",
      "86.9841312453031 - unstable\n",
      "82.92959224863216 - stable\n",
      "88.95847647187803 - unstable\n",
      "51.46333764468941 - unstable\n",
      "72.41323582705887 - unstable\n",
      "81.24420762186617 - unstable\n",
      "91.65638953346156 - unstable\n",
      "95.13817875975761 - unstable\n",
      "93.1707436443321 - unstable\n",
      "52.57882084860669 - unstable\n",
      "95.39379963624458 - stable\n",
      "93.42845559664589 - unstable\n",
      "68.942269653073 - stable\n",
      "91.01850319377799 - unstable\n",
      "82.54367485680332 - unstable\n",
      "91.57293033702527 - unstable\n",
      "87.56972493849386 - unstable\n",
      "90.96206319582495 - unstable\n",
      "91.16265864321268 - unstable\n",
      "95.0886815031115 - stable\n",
      "95.82487113571612 - unstable\n",
      "75.7481891021736 - unstable\n",
      "90.24762143855925 - unstable\n",
      "74.21156011506342 - stable\n",
      "93.42812339411215 - unstable\n",
      "86.32947638892617 - unstable\n",
      "85.09967912630138 - stable\n",
      "96.168200200306 - unstable\n",
      "92.92800175388855 - unstable\n",
      "70.42845950995384 - unstable\n",
      "59.89926750793748 - stable\n",
      "75.91457499399345 - unstable\n",
      "85.55808666448544 - unstable\n",
      "95.71003176307283 - stable\n",
      "79.2328923510336 - unstable\n",
      "65.61578450067097 - stable\n",
      "62.132511150632055 - stable\n",
      "91.04134481528294 - unstable\n",
      "89.34864821659157 - unstable\n",
      "73.58715557543456 - unstable\n",
      "91.85021031820682 - unstable\n",
      "93.91153936495262 - stable\n",
      "92.79807251220234 - unstable\n",
      "87.08611158567518 - unstable\n",
      "90.5063079170104 - unstable\n",
      "93.62081873215462 - unstable\n",
      "94.24247146874785 - stable\n",
      "93.23596425298182 - stable\n",
      "94.14290673664276 - stable\n",
      "86.71813233835981 - stable\n",
      "79.75891852895245 - stable\n",
      "89.31872802254846 - unstable\n",
      "60.81550886428306 - stable\n",
      "68.49740944667623 - unstable\n",
      "51.7881312864986 - stable\n",
      "90.66429967492085 - unstable\n",
      "87.76442877414571 - unstable\n",
      "91.56594025862961 - unstable\n",
      "82.11881952354683 - unstable\n",
      "91.25460077188302 - unstable\n",
      "67.8227039532888 - unstable\n",
      "95.33019147389237 - unstable\n",
      "90.72069993682364 - unstable\n",
      "91.39790493675532 - stable\n",
      "89.77464451117034 - unstable\n",
      "92.48418445527945 - unstable\n",
      "94.61603467771312 - unstable\n",
      "68.64923967090992 - unstable\n",
      "85.74628006861033 - unstable\n",
      "96.72631442065139 - unstable\n",
      "94.4539921367571 - unstable\n",
      "91.85107354253702 - unstable\n",
      "75.84519217584929 - unstable\n",
      "96.5877420259312 - unstable\n",
      "95.82479355535007 - unstable\n",
      "94.63123988501829 - unstable\n",
      "86.34411215872016 - unstable\n",
      "78.17829401227955 - stable\n",
      "90.53573749471472 - unstable\n",
      "91.65141363229901 - stable\n",
      "83.17252685445442 - stable\n",
      "86.70782918310903 - stable\n",
      "91.16837528169319 - unstable\n",
      "74.14688559534801 - stable\n",
      "84.23025107297047 - unstable\n",
      "93.36953870152553 - unstable\n",
      "82.55965599561318 - unstable\n",
      "75.79520073981556 - unstable\n",
      "84.72923536981803 - unstable\n",
      "90.79617972332572 - unstable\n",
      "64.86391851365387 - unstable\n",
      "95.01458130412422 - stable\n",
      "91.05252938128234 - unstable\n",
      "84.84912327039027 - unstable\n",
      "91.24832794836817 - unstable\n",
      "56.45142365546233 - unstable\n",
      "95.68187557578035 - unstable\n",
      "78.54825749228573 - unstable\n",
      "95.30258521607917 - stable\n",
      "92.7024199405299 - unstable\n",
      "89.01274584901705 - unstable\n",
      "67.01237755543004 - stable\n",
      "83.68421171385761 - stable\n",
      "93.27243270795974 - unstable\n",
      "80.83831917723839 - unstable\n",
      "75.74665708913041 - unstable\n",
      "67.19040783624529 - unstable\n",
      "82.00226415127597 - unstable\n",
      "78.29911272303242 - stable\n",
      "87.3355104634172 - unstable\n",
      "83.79256652961102 - unstable\n",
      "96.68879812873803 - unstable\n",
      "56.13481902004075 - unstable\n",
      "89.7724526894795 - unstable\n",
      "92.38127910474702 - unstable\n",
      "95.46771994299522 - unstable\n",
      "80.25084640462849 - unstable\n",
      "92.69379832075045 - unstable\n",
      "80.3121022041518 - unstable\n",
      "96.42239650045484 - unstable\n",
      "92.21139695018567 - unstable\n",
      "96.20740885800141 - unstable\n",
      "90.32132013742769 - unstable\n",
      "95.6821426580618 - unstable\n",
      "87.89032833865336 - unstable\n",
      "78.80145407129383 - unstable\n",
      "88.0914488521997 - unstable\n",
      "54.12919817982971 - stable\n",
      "83.03823588345067 - unstable\n",
      "60.591285433532384 - unstable\n",
      "93.71746837986265 - unstable\n",
      "95.74220568020175 - unstable\n",
      "96.65523233774584 - unstable\n",
      "90.64900087259764 - stable\n",
      "82.26061371711508 - unstable\n",
      "84.9660546550394 - unstable\n",
      "83.26366316273067 - unstable\n",
      "92.9272999051093 - unstable\n",
      "53.753365584672395 - stable\n",
      "93.3911478334506 - stable\n",
      "69.948616708267 - unstable\n",
      "95.35624523056818 - stable\n",
      "91.4155451984264 - unstable\n",
      "70.48842709363474 - stable\n",
      "96.28114394903639 - unstable\n",
      "93.99959986307586 - unstable\n",
      "51.70777314416553 - stable\n",
      "94.14396098333435 - unstable\n",
      "79.4375833501818 - unstable\n",
      "90.35317271722191 - unstable\n",
      "92.36802783473567 - stable\n",
      "95.79569072743617 - stable\n",
      "83.94748624637852 - unstable\n",
      "94.38637673718361 - unstable\n",
      "95.24014488183477 - unstable\n",
      "93.40360256273563 - unstable\n",
      "71.63669207474588 - stable\n",
      "56.724353432967554 - stable\n",
      "58.954798658076754 - stable\n",
      "86.17688304673592 - unstable\n",
      "91.82062628961629 - unstable\n",
      "95.96766606388456 - unstable\n",
      "94.43700555613208 - unstable\n",
      "57.31363816783484 - unstable\n",
      "67.48913631159225 - unstable\n",
      "85.35927555242033 - stable\n",
      "56.619546735387296 - stable\n",
      "82.73214918403656 - stable\n",
      "96.63119622004703 - unstable\n",
      "90.49969650607478 - unstable\n",
      "92.74580109789424 - stable\n",
      "91.43539524072332 - unstable\n",
      "90.83846412173317 - unstable\n",
      "92.78446966290964 - unstable\n",
      "88.11127157169656 - stable\n",
      "79.44920480114597 - stable\n",
      "79.8381294992462 - stable\n",
      "90.25314920354 - unstable\n",
      "83.00148418980172 - unstable\n",
      "79.08729316166941 - unstable\n",
      "89.65166040335278 - unstable\n",
      "77.32265485007973 - stable\n",
      "88.2419086857945 - unstable\n",
      "86.4721625364484 - unstable\n",
      "96.6206024338974 - unstable\n",
      "89.85288842255595 - unstable\n",
      "95.77241285694677 - unstable\n",
      "93.39729272162329 - unstable\n",
      "92.48393498280475 - unstable\n",
      "68.17168910472013 - unstable\n",
      "94.76626372529758 - unstable\n",
      "94.47321744219722 - unstable\n",
      "95.54391067382788 - unstable\n",
      "93.73108644642828 - unstable\n",
      "92.4260162406414 - unstable\n",
      "87.58078854139382 - unstable\n",
      "91.92445012059972 - unstable\n",
      "73.48478527822186 - unstable\n",
      "83.94640416808997 - unstable\n",
      "95.2916836567497 - stable\n",
      "86.20828551930842 - unstable\n",
      "65.33348704895977 - unstable\n",
      "86.802426126537 - unstable\n",
      "72.98262083119572 - unstable\n",
      "90.765601246933 - unstable\n",
      "94.71123242254032 - unstable\n",
      "93.73095750055401 - stable\n",
      "\n",
      "Average probability for correctly classified objects: 85.13568799704332\n",
      "\n",
      "Average probability for planets correctly classified as stable: 79.89305005442877\n",
      "\n",
      "Average probability for planets correctly classified as unstable: 86.93784478981705\n"
     ]
    }
   ],
   "source": [
    "# certainity/probability for correctly classified planets, average percentage\n",
    "\n",
    "r = classifier.predict_proba(features_test) \n",
    "m = []\n",
    "s = []\n",
    "u = []\n",
    "\n",
    "print('Probabilities for correctly classified planets: \\n')\n",
    "for i in range(0,len(r)):\n",
    "    if (classes_test[i] == classes_predict[i]):\n",
    "        if (classes_test[i] == 0):\n",
    "            print(str(r[i][0] * 100) + ' - stable')\n",
    "            m.append(r[i][0] * 100)\n",
    "            s.append(r[i][0] * 100)\n",
    "        else:\n",
    "            print(str(r[i][1] * 100) + ' - unstable')\n",
    "            m.append(r[i][1] * 100)\n",
    "            u.append(r[i][1] * 100)\n",
    "            \n",
    "print('\\nAverage probability for correctly classified objects: ' + str(np.mean(m)))\n",
    "print('\\nAverage probability for planets correctly classified as stable: ' + str(np.mean(s)))\n",
    "print('\\nAverage probability for planets correctly classified as unstable: ' + str(np.mean(u)))"
   ]
  },
  {
   "cell_type": "code",
   "execution_count": 170,
   "metadata": {},
   "outputs": [
    {
     "name": "stdout",
     "output_type": "stream",
     "text": [
      "Sample size: 300\n",
      "\n",
      "Number of correctly classified planets: 258\n",
      "\n",
      "Correctly classified planets with probability >90%: 129\n",
      "\n",
      "Correctly classified planets with probability >95%: 43\n",
      "\n",
      "Correctly classified planets with probability >99%: 0\n"
     ]
    }
   ],
   "source": [
    "# distribution of probabilities\n",
    "\n",
    "r = classifier.predict_proba(features_test) \n",
    "n = 0\n",
    "n90 = 0\n",
    "n95 = 0\n",
    "n99 = 0\n",
    "\n",
    "for i in range(0,len(r)):\n",
    "    if (classes_test[i] == classes_predict[i]):\n",
    "        n += 1\n",
    "        if (classes_test[i] == 0):\n",
    "            if ((r[i][0] * 100) > 90):\n",
    "                n90 += 1\n",
    "                if ((r[i][0] * 100) > 95):\n",
    "                    n95 += 1\n",
    "                    if ((r[i][0] * 100) > 99):\n",
    "                        n99 += 1\n",
    "            \n",
    "        else:\n",
    "            if ((r[i][1] * 100) > 90):\n",
    "                n90 += 1\n",
    "                if ((r[i][1] * 100) > 95):\n",
    "                    n95 += 1\n",
    "                    if ((r[i][1] * 100) > 99):\n",
    "                        n99 += 1\n",
    "\n",
    "print('Sample size: ' + str(len(r)))\n",
    "print('\\nNumber of correctly classified planets: ' + str(n))\n",
    "print('\\nCorrectly classified planets with probability >90%: ' + str(n90))\n",
    "print('\\nCorrectly classified planets with probability >95%: ' + str(n95))\n",
    "print('\\nCorrectly classified planets with probability >99%: ' + str(n99))"
   ]
  },
  {
   "cell_type": "code",
   "execution_count": 163,
   "metadata": {},
   "outputs": [
    {
     "data": {
      "image/png": "[encoded data removed]",
      "text/plain": [
       "<Figure size 432x288 with 2 Axes>"
      ]
     },
     "metadata": {
      "needs_background": "light"
     },
     "output_type": "display_data"
    }
   ],
   "source": [
    "# histogram\n",
    "\n",
    "from matplotlib import colors\n",
    "from matplotlib.ticker import PercentFormatter\n",
    "\n",
    "fig, (ax1, ax2) = plt.subplots(1, 2)\n",
    "\n",
    "c = []\n",
    "w = []\n",
    "\n",
    "\n",
    "# correct\n",
    "inds = []\n",
    "\n",
    "for i in range(0,len(classes_test)):\n",
    "    if (classes_test[i] == classes_predict[i]):   # 0 = stable, 1 = unstable\n",
    "        inds.append(i)\n",
    "\n",
    "r = classifier.predict_proba(features_test)\n",
    "\n",
    "for i in range(0,len(r)):\n",
    "    if (classes_test[i] == classes_predict[i]):\n",
    "        if (classes_test[i] == 0):\n",
    "            c.append(r[i][0]*100)\n",
    "        else:\n",
    "            c.append(r[i][1]*100)\n",
    "            \n",
    "            \n",
    "# wrong\n",
    "inds2 = []\n",
    "\n",
    "r2 = classifier.predict_proba(features_test)   # col 1 = stable\n",
    "\n",
    "for i in range(0,len(classes_test)):\n",
    "    if (classes_test[i] != classes_predict[i]):   # 0 = stable, 1 = unstable\n",
    "        inds2.append(i)\n",
    "\n",
    "for i in range(0,len(r2)):\n",
    "    if (classes_test[i] != classes_predict[i]):\n",
    "        if (classes_test[i] == 0):\n",
    "            w.append(r2[i][1]*100)\n",
    "        else:\n",
    "            w.append(r2[i][0]*100)\n",
    "            \n",
    "            \n",
    "plt.subplot(1, 2, 1)\n",
    "N, bins, patches = plt.hist(c, bins = 8)\n",
    "fracs = N / N.max()\n",
    "norm = colors.Normalize(fracs.min(), fracs.max())\n",
    "\n",
    "for thisfrac, thispatch in zip(fracs, patches):\n",
    "    color = plt.cm.viridis(norm(thisfrac))\n",
    "    thispatch.set_facecolor(color)\n",
    "\n",
    "plt.xlabel('Probabilities distribution for \\ncorrectly classified planets (%)')\n",
    "plt.ylabel('Frequency')\n",
    "# plt.ylim(0,200)\n",
    "# plt.xlim(50,100)\n",
    "\n",
    "\n",
    "plt.subplot(1, 2, 2)\n",
    "N, bins, patches = plt.hist(w, bins = 5)\n",
    "fracs = N / N.max()\n",
    "norm = colors.Normalize(fracs.min(), fracs.max())\n",
    "\n",
    "for thisfrac, thispatch in zip(fracs, patches):\n",
    "    color = plt.cm.viridis(norm(thisfrac))\n",
    "    thispatch.set_facecolor(color)\n",
    "\n",
    "plt.xlabel('Probability distribution for \\nmisclassified planets (%)') \n",
    "# plt.ylim(0,200)\n",
    "# plt.xlim(50,100)\n",
    "\n",
    "plt.subplots_adjust(wspace=0.4)\n",
    "plt.show()"
   ]
  },
  {
   "cell_type": "code",
   "execution_count": 145,
   "metadata": {},
   "outputs": [
    {
     "data": {
      "text/plain": [
       "Text(0.5, 1.0, 'Unstable planets - probability vs instability time')"
      ]
     },
     "execution_count": 145,
     "metadata": {},
     "output_type": "execute_result"
    },
    {
     "data": {
      "image/png": "[encoded data removed]",
      "text/plain": [
       "<Figure size 1080x504 with 1 Axes>"
      ]
     },
     "metadata": {
      "needs_background": "light"
     },
     "output_type": "display_data"
    }
   ],
   "source": [
    "prob = []\n",
    "inst = []\n",
    "\n",
    "\n",
    "f=plt.figure(figsize=(15,7))\n",
    "\n",
    "for i in range(0,len(r)):\n",
    "    if (classes_test[i] == 1):\n",
    "        prob.append(r[i][1] * 100)\n",
    "        inst.append(np.log10(e[i]))\n",
    "        \n",
    "        if (classes_predict[i] == 1):\n",
    "            plt.scatter(np.log10(e[i]), r[i][1] * 100, color = 'seagreen', alpha = 0.8)\n",
    "        elif (classes_predict[i] == 0):\n",
    "            plt.scatter(np.log10(e[i]), r[i][1] * 100, color = 'firebrick', alpha = 0.8)\n",
    "\n",
    "            \n",
    "plt.plot(np.unique(inst), np.poly1d(np.polyfit(inst, prob, 1))(np.unique(inst)), color='black')\n",
    "            \n",
    "\n",
    "plt.ylabel('Accuracy')\n",
    "plt.xlabel('Log10(Instability Time)')\n",
    "plt.title('Unstable planets - probability vs instability time')"
   ]
  },
  {
   "cell_type": "code",
   "execution_count": 96,
   "metadata": {},
   "outputs": [
    {
     "data": {
      "text/plain": [
       "Text(0.5, 1.0, 'Unstable planets - probability vs instability time')"
      ]
     },
     "execution_count": 96,
     "metadata": {},
     "output_type": "execute_result"
    },
    {
     "data": {
      "image/png": "[encoded data removed]",
      "text/plain": [
       "<Figure size 1080x504 with 1 Axes>"
      ]
     },
     "metadata": {
      "needs_background": "light"
     },
     "output_type": "display_data"
    }
   ],
   "source": [
    "prob = []\n",
    "inst = []\n",
    "\n",
    "    \n",
    "f=plt.figure(figsize=(15,7))\n",
    "\n",
    "for i in range(0,len(classes_test)):\n",
    "    if (classes_test[i] == 1):\n",
    "        prob.append(r[i][1] * 100)\n",
    "        inst.append(e[i])\n",
    "            \n",
    "            \n",
    "plt.scatter(prob, inst, marker = 'o')\n",
    "\n",
    "plt.xlabel('Accuracy')\n",
    "plt.ylabel('Instability Time')\n",
    "plt.title('Unstable planets - probability vs instability time')"
   ]
  }
 ],
 "metadata": {
  "kernelspec": {
   "display_name": "Python 3",
   "language": "python",
   "name": "python3"
  },
  "language_info": {
   "codemirror_mode": {
    "name": "ipython",
    "version": 3
   },
   "file_extension": ".py",
   "mimetype": "text/x-python",
   "name": "python",
   "nbconvert_exporter": "python",
   "pygments_lexer": "ipython3",
   "version": "3.8.3"
  }
 },
 "nbformat": 4,
 "nbformat_minor": 4
}

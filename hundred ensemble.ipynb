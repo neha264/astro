{
 "cells": [
  {
   "cell_type": "markdown",
   "metadata": {},
   "source": [
    "###### Tasks:\n",
    "\n",
    "1. Parse info.out files to determine what happened to which planets and when. Chart as a function of time\n",
    "2. Reading in an ensemble of planetary systems data. Initial and final times, initial vs final semi-major axis distribution (only need to parse first and last lines of file- would throw out planets that die)\n",
    "    1. what type of graph/chart?"
   ]
  },
  {
   "cell_type": "code",
   "execution_count": null,
   "metadata": {},
   "outputs": [],
   "source": [
    "import matplotlib.pyplot as plt\n",
    "import pandas as pd\n",
    "import numpy as np\n",
    "import pylab\n",
    "\n",
    "data = dict()\n",
    "planets = []\n",
    "cols = ['Time','mass','a','e','i','omega','Omega','M','dist_jac','dist_cen','x','y','z','u','v','w']\n",
    "\n",
    "for run in range (1,101):\n",
    "    data[run] = dict()\n",
    "    for sample in range(1,11):\n",
    "        planet = pd.read_csv(r'/Users/neha/Documents/lanl/hundred all/run'+str(run)+'/PL'+str(sample)+'.el', skiprows=2, delimiter=r\"\\s+\", names=cols) \n",
    "        data[run][sample] = dict()\n",
    "        data[run][sample]['Time'] = [planet['Time'][0], planet['Time'][len(planet['Time']) - 1]]\n",
    "        data[run][sample]['a'] = [planet['a'][0], planet['a'][len(planet['a']) - 1]]"
   ]
  },
  {
   "cell_type": "code",
   "execution_count": null,
   "metadata": {},
   "outputs": [],
   "source": [
    "runs = {}\n",
    "labels = [\"ejected from system\", \"solar collision\", \"planet-planet collision\", \"surviving planets\"]\n",
    "fates = [0, 0, 0, 0] \n",
    "\n",
    "for run in range (1,101):\n",
    "    numPlanets = 10\n",
    "    runs[run] = {}\n",
    "    runs[run]['x'] = [0]\n",
    "    runs[run]['y'] = [numPlanets]\n",
    "    \n",
    "    with open('/Users/neha/Documents/lanl/hundred all/run'+str(run)+'/info.out', 'r') as file:\n",
    "        lines = file.readlines()\n",
    "        for line in lines:\n",
    "            if \"PL\" in line:\n",
    "                cols = line.split()\n",
    "                if \"ejected\" in line:\n",
    "                    runs[run]['x'].append(float(cols[3]))\n",
    "                    numPlanets -= 1\n",
    "                    runs[run]['y'].append(numPlanets)\n",
    "                    fates[0] += 1\n",
    "                elif \"collided with the central body\" in line:\n",
    "                    runs[run]['x'].append(float(cols[7]))\n",
    "                    numPlanets -= 1\n",
    "                    runs[run]['y'].append(numPlanets)\n",
    "                    fates[1] += 1\n",
    "                elif \"was hit by\" in line:\n",
    "                    runs[run]['x'].append(float(cols[6]))\n",
    "                    numPlanets -= 1\n",
    "                    runs[run]['y'].append(numPlanets)\n",
    "                    fates[2] += 1\n",
    "                else:\n",
    "                    print(cols)\n",
    "        fates[3] += numPlanets"
   ]
  },
  {
   "cell_type": "code",
   "execution_count": null,
   "metadata": {
    "scrolled": true
   },
   "outputs": [],
   "source": [
    "import numpy as np\n",
    "\n",
    "for i in range(1, 101):\n",
    "    run = runs[i]\n",
    "    f=plt.figure(figsize=(7,4))\n",
    "    \n",
    "    plt.xlabel('Time')\n",
    "    plt.ylabel('Planets left')\n",
    "    plt.title('Run ' + str(i))\n",
    "    plt.ylim(0,10)\n",
    "    \n",
    "    plt.plot(run['x'], run['y'], color = 'teal')\n",
    "    \n",
    "    plt.show()\n",
    "    # plt.savefig('run' + str(i) + '.png')\n",
    "    # plt.close"
   ]
  },
  {
   "cell_type": "code",
   "execution_count": null,
   "metadata": {},
   "outputs": [],
   "source": [
    "plt.figure()\n",
    "plt.pie(fates, labels=labels, autopct='%1.1f%%')\n",
    "plt.show()"
   ]
  },
  {
   "cell_type": "code",
   "execution_count": null,
   "metadata": {},
   "outputs": [],
   "source": []
  }
 ],
 "metadata": {
  "kernelspec": {
   "display_name": "Python 3",
   "language": "python",
   "name": "python3"
  },
  "language_info": {
   "codemirror_mode": {
    "name": "ipython",
    "version": 3
   },
   "file_extension": ".py",
   "mimetype": "text/x-python",
   "name": "python",
   "nbconvert_exporter": "python",
   "pygments_lexer": "ipython3",
   "version": "3.8.3"
  }
 },
 "nbformat": 4,
 "nbformat_minor": 4
}

{
 "cells": [
  {
   "cell_type": "markdown",
   "metadata": {},
   "source": [
    "### refining 3 timestep classifier\n",
    "#### rows 0-2, ~27.4 years"
   ]
  },
  {
   "cell_type": "code",
   "execution_count": 150,
   "metadata": {},
   "outputs": [],
   "source": [
    "import numpy as np\n",
    "import pandas as pd\n",
    "\n",
    "from sklearn.metrics import accuracy_score\n",
    "from sklearn.model_selection import train_test_split\n",
    "\n",
    "from sklearn.ensemble import GradientBoostingClassifier\n",
    "from sklearn.model_selection import GridSearchCV\n",
    "from sklearn.metrics import classification_report, confusion_matrix "
   ]
  },
  {
   "cell_type": "code",
   "execution_count": 151,
   "metadata": {},
   "outputs": [
    {
     "name": "stdout",
     "output_type": "stream",
     "text": [
      "Index(['run', 'planet', 'initial e', 'final e', 'mean e', 'min e', 'max e',\n",
      "       'sd e', 'initial pericenter', 'final pericenter', 'mean pericenter',\n",
      "       'min pericenter', 'max pericenter', 'sd pericenter', 'initial jacobi',\n",
      "       'final jacobi', 'mean jacobi', 'min jacobi', 'max jacobi', 'sd jacobi',\n",
      "       'initial mhr1', 'final mhr1', 'mean mhr1', 'min mhr1', 'max mhr1',\n",
      "       'sd mhr1', 'initial mhr2', 'final mhr2', 'mean mhr2', 'min mhr2',\n",
      "       'max mhr2', 'sd mhr2', 'initial a1_ratio', 'final a1_ratio',\n",
      "       'mean a1_ratio', 'min a1_ratio', 'max a1_ratio', 'sd a1_ratio',\n",
      "       'initial a2_ratio', 'final a2_ratio', 'mean a2_ratio', 'min a2_ratio',\n",
      "       'max a2_ratio', 'sd a2_ratio', 'initial mass1_ratio',\n",
      "       'final mass1_ratio', 'mean mass1_ratio', 'min mass1_ratio',\n",
      "       'max mass1_ratio', 'sd mass1_ratio', 'initial mass2_ratio',\n",
      "       'final mass2_ratio', 'mean mass2_ratio', 'min mass2_ratio',\n",
      "       'max mass2_ratio', 'sd mass2_ratio', 'end time', 'fate'],\n",
      "      dtype='object')\n"
     ]
    }
   ],
   "source": [
    "planets = pd.read_csv('3ts.csv', skipinitialspace=True)\n",
    "print(planets.columns)"
   ]
  },
  {
   "cell_type": "markdown",
   "metadata": {},
   "source": [
    "###### started at ~84% accurate"
   ]
  },
  {
   "cell_type": "code",
   "execution_count": 152,
   "metadata": {},
   "outputs": [],
   "source": [
    "fates = list(set(planets['fate']))\n",
    "\n",
    "types = {fates[i] : i for i in range(len(fates))}\n",
    "\n",
    "classes = []\n",
    "\n",
    "for i in range(len(planets['fate'])):\n",
    "    if planets['fate'][i] == \"remaining\":\n",
    "        classes += [0]\n",
    "    else:\n",
    "        classes += [1]\n",
    "        \n",
    "classes = np.array(classes)"
   ]
  },
  {
   "cell_type": "markdown",
   "metadata": {},
   "source": [
    "###### Training"
   ]
  },
  {
   "cell_type": "code",
   "execution_count": 153,
   "metadata": {},
   "outputs": [],
   "source": [
    "features_train, features_test, classes_train, classes_test = train_test_split(planets, classes, test_size=0.3, random_state=7)\n",
    "\n",
    "r = features_test['run'].to_numpy()\n",
    "p = features_test['planet'].to_numpy()\n",
    "e = features_test['end time'].to_numpy()\n",
    "f = features_test['fate'].to_numpy()"
   ]
  },
  {
   "cell_type": "code",
   "execution_count": 154,
   "metadata": {},
   "outputs": [
    {
     "name": "stderr",
     "output_type": "stream",
     "text": [
      "/Users/neha/opt/anaconda3/lib/python3.8/site-packages/pandas/core/frame.py:3990: SettingWithCopyWarning: \n",
      "A value is trying to be set on a copy of a slice from a DataFrame\n",
      "\n",
      "See the caveats in the documentation: https://pandas.pydata.org/pandas-docs/stable/user_guide/indexing.html#returning-a-view-versus-a-copy\n",
      "  return super().drop(\n"
     ]
    }
   ],
   "source": [
    "ids_train = features_train['planet'].to_numpy()\n",
    "features_train.drop(['run', 'planet', 'fate', 'end time'], axis=1, inplace=True)\n",
    "\n",
    "cols = features_train.columns\n",
    "features_train = features_train.to_numpy()\n",
    "\n",
    "ids_test = features_test['planet'].to_numpy()\n",
    "features_test.drop(['run', 'planet', 'fate', 'end time'], axis=1, inplace=True)\n",
    "features_test = features_test.to_numpy()"
   ]
  },
  {
   "cell_type": "code",
   "execution_count": 13,
   "metadata": {},
   "outputs": [
    {
     "data": {
      "text/plain": [
       "GradientBoostingClassifier(random_state=7)"
      ]
     },
     "execution_count": 13,
     "metadata": {},
     "output_type": "execute_result"
    }
   ],
   "source": [
    "classifier = GradientBoostingClassifier(random_state=7)\n",
    "classifier.fit(features_train, classes_train)"
   ]
  },
  {
   "cell_type": "code",
   "execution_count": 48,
   "metadata": {},
   "outputs": [
    {
     "name": "stdout",
     "output_type": "stream",
     "text": [
      "Classifier is  82.66666666666667 % accurate on testing set\n"
     ]
    }
   ],
   "source": [
    "classes_predict = classifier.predict( features_test )\n",
    "print('Classifier is ', accuracy_score(classes_test, classes_predict) * 100, '% accurate on testing set' )"
   ]
  },
  {
   "cell_type": "markdown",
   "metadata": {},
   "source": [
    "###### Refining"
   ]
  },
  {
   "cell_type": "code",
   "execution_count": 26,
   "metadata": {},
   "outputs": [
    {
     "name": "stdout",
     "output_type": "stream",
     "text": [
      "Fitting 5 folds for each of 1080 candidates, totalling 5400 fits\n"
     ]
    },
    {
     "name": "stderr",
     "output_type": "stream",
     "text": [
      "[Parallel(n_jobs=-1)]: Using backend LokyBackend with 4 concurrent workers.\n",
      "[Parallel(n_jobs=-1)]: Done  42 tasks      | elapsed:   15.7s\n",
      "[Parallel(n_jobs=-1)]: Done 192 tasks      | elapsed:   57.7s\n",
      "[Parallel(n_jobs=-1)]: Done 442 tasks      | elapsed:  2.1min\n",
      "[Parallel(n_jobs=-1)]: Done 792 tasks      | elapsed:  3.5min\n",
      "[Parallel(n_jobs=-1)]: Done 1242 tasks      | elapsed:  5.3min\n",
      "[Parallel(n_jobs=-1)]: Done 1792 tasks      | elapsed:  7.3min\n",
      "[Parallel(n_jobs=-1)]: Done 2442 tasks      | elapsed:  9.6min\n",
      "[Parallel(n_jobs=-1)]: Done 3192 tasks      | elapsed: 12.6min\n",
      "[Parallel(n_jobs=-1)]: Done 4042 tasks      | elapsed: 16.6min\n",
      "[Parallel(n_jobs=-1)]: Done 4992 tasks      | elapsed: 20.9min\n"
     ]
    },
    {
     "name": "stdout",
     "output_type": "stream",
     "text": [
      "{'learning_rate': 0.12, 'max_depth': 4, 'max_features': 'log2', 'n_estimators': 55}\n",
      "              precision    recall  f1-score   support\n",
      "\n",
      "           0       0.99      0.94      0.96       232\n",
      "           1       0.97      0.99      0.98       468\n",
      "\n",
      "    accuracy                           0.98       700\n",
      "   macro avg       0.98      0.97      0.97       700\n",
      "weighted avg       0.98      0.98      0.98       700\n",
      "\n"
     ]
    },
    {
     "name": "stderr",
     "output_type": "stream",
     "text": [
      "[Parallel(n_jobs=-1)]: Done 5400 out of 5400 | elapsed: 23.2min finished\n"
     ]
    }
   ],
   "source": [
    "param_grid = {'learning_rate': [0.02, 0.05, 0.07, 0.1, 0.12, 0.15, 0.17, 0.2],\n",
    "              'max_depth': [4, 5, 6, 7, 8],\n",
    "              'n_estimators': [50, 55, 60, 65, 70, 75, 80, 85, 90],\n",
    "              'max_features': ['auto','sqrt','log2']}  \n",
    "  \n",
    "grid = GridSearchCV(GradientBoostingClassifier(), param_grid, refit = True, verbose = 1, n_jobs=-1) \n",
    "  \n",
    "# fitting the model for grid search \n",
    "grid.fit(features_train, classes_train)\n",
    "\n",
    "# print best parameter after tuning \n",
    "print(grid.best_params_) \n",
    "grid_predictions = grid.predict(features_train)\n",
    "  \n",
    "# print classification report \n",
    "print(classification_report(classes_train, grid_predictions)) "
   ]
  },
  {
   "cell_type": "code",
   "execution_count": 155,
   "metadata": {},
   "outputs": [
    {
     "data": {
      "text/plain": [
       "GradientBoostingClassifier(learning_rate=0.12, max_depth=4, max_features='log2',\n",
       "                           n_estimators=55, random_state=7)"
      ]
     },
     "execution_count": 155,
     "metadata": {},
     "output_type": "execute_result"
    }
   ],
   "source": [
    "classifier = GradientBoostingClassifier(learning_rate = 0.12, max_depth = 4, max_features = 'log2', n_estimators = 55, random_state=7)\n",
    "classifier.fit(features_train, classes_train)"
   ]
  },
  {
   "cell_type": "code",
   "execution_count": 156,
   "metadata": {},
   "outputs": [
    {
     "name": "stdout",
     "output_type": "stream",
     "text": [
      "Classifier is  85.66666666666667 % accurate on testing set\n"
     ]
    }
   ],
   "source": [
    "classes_predict = classifier.predict(features_test)\n",
    "print('Classifier is ', accuracy_score(classes_test, classes_predict) * 100, '% accurate on testing set' )"
   ]
  },
  {
   "cell_type": "markdown",
   "metadata": {},
   "source": [
    "\n",
    "\n",
    "###### Feature importance (from old file)"
   ]
  },
  {
   "cell_type": "code",
   "execution_count": 157,
   "metadata": {},
   "outputs": [
    {
     "name": "stdout",
     "output_type": "stream",
     "text": [
      "sd e 0.08414368799066567\n",
      "final mass2_ratio 0.07859322325128444\n",
      "min a2_ratio 0.058907420290903095\n",
      "sd pericenter 0.05653298393085778\n",
      "initial a2_ratio 0.045898772925340225\n",
      "min mass2_ratio 0.04225506174331996\n",
      "min jacobi 0.04080173118178843\n",
      "max mass2_ratio 0.04066378004512099\n",
      "min mass1_ratio 0.0379397327988478\n",
      "mean mass2_ratio 0.03108060273787851\n",
      "initial mass2_ratio 0.02691383110154153\n",
      "mean jacobi 0.02334197438934633\n",
      "initial jacobi 0.019932259330454217\n",
      "min pericenter 0.019343353452184117\n",
      "final a2_ratio 0.01933756086745089\n",
      "mean a2_ratio 0.018895185611692823\n",
      "initial mass1_ratio 0.01757758674887191\n",
      "final mass1_ratio 0.01654721515999024\n",
      "max mhr2 0.016175020416015075\n",
      "initial a1_ratio 0.015710287210858043\n",
      "max mass1_ratio 0.0156312504775486\n",
      "max e 0.015019670753576386\n",
      "max a1_ratio 0.014812733221378249\n",
      "sd a2_ratio 0.014390789605224772\n",
      "mean pericenter 0.014238627943675732\n",
      "mean mass1_ratio 0.014098424855828738\n",
      "final e 0.013855967147327255\n",
      "mean e 0.012610726340057785\n",
      "min mhr1 0.012499411939623275\n",
      "initial e 0.01122713412234105\n",
      "sd mhr2 0.010469848252543261\n",
      "sd mhr1 0.010422275918016406\n",
      "min mhr2 0.010378858320180075\n",
      "final pericenter 0.010007080997777851\n",
      "sd a1_ratio 0.008894188432607985\n",
      "mean mhr2 0.008800555669866669\n",
      "mean a1_ratio 0.007785534933940265\n",
      "max mhr1 0.00764781276539726\n",
      "sd jacobi 0.007529730315554128\n",
      "initial mhr1 0.007445962038235933\n",
      "final jacobi 0.007356315991973569\n",
      "initial mhr2 0.007216369368379599\n",
      "final mhr2 0.006713028527605466\n",
      "final a1_ratio 0.006181929143495565\n",
      "initial pericenter 0.006016733448342906\n",
      "max jacobi 0.005593136141838782\n",
      "mean mhr1 0.005101617568766995\n",
      "min e 0.004478220496825351\n",
      "max pericenter 0.004402640283631378\n",
      "max a2_ratio 0.0032144610808161975\n",
      "final mhr1 0.0032038527956512694\n",
      "min a1_ratio 0.0018837889957647096\n",
      "sd mass1_ratio 0.00028005092179448314\n",
      "sd mass2_ratio 0.0\n"
     ]
    }
   ],
   "source": [
    "feats=classifier.feature_importances_\n",
    "inds=np.argsort(feats)[::-1]\n",
    "\n",
    "for i in range(len(inds)):\n",
    "    print(cols[inds[i]], feats[inds[i]])"
   ]
  },
  {
   "cell_type": "code",
   "execution_count": 158,
   "metadata": {},
   "outputs": [
    {
     "data": {
      "image/png": "[encoded data removed]",
      "text/plain": [
       "<Figure size 1080x504 with 1 Axes>"
      ]
     },
     "metadata": {
      "needs_background": "light"
     },
     "output_type": "display_data"
    }
   ],
   "source": [
    "import matplotlib.pyplot as plt\n",
    "import numpy as np\n",
    "import pylab\n",
    "\n",
    "\n",
    "f=plt.figure(figsize=(15,7))\n",
    "\n",
    "for i in range(len(inds)):\n",
    "    plt.bar(cols[inds[i]], feats[inds[i]] * 100)\n",
    "    \n",
    "\n",
    " \n",
    "plt.ylabel('% Importance', size=16)\n",
    "plt.xlabel('Feature', size=16)\n",
    "plt.title('Feature importance', size=20)\n",
    "plt.xticks(rotation = 90)\n",
    "plt.show()"
   ]
  },
  {
   "cell_type": "code",
   "execution_count": 172,
   "metadata": {},
   "outputs": [
    {
     "name": "stdout",
     "output_type": "stream",
     "text": [
      "Stable probability: 0.34369397324302964. Unstable probability: 0.6563060267569704\n",
      "Stable probability: 0.27298773749875604. Unstable probability: 0.727012262501244\n",
      "Stable probability: 0.45241255904061906. Unstable probability: 0.5475874409593809\n",
      "Stable probability: 0.6730382348665391. Unstable probability: 0.3269617651334608\n",
      "Stable probability: 0.18052074863823597. Unstable probability: 0.819479251361764\n",
      "Stable probability: 0.2577164806008634. Unstable probability: 0.7422835193991366\n",
      "Stable probability: 0.07114942430124194. Unstable probability: 0.9288505756987581\n",
      "Stable probability: 0.05499385547576596. Unstable probability: 0.945006144524234\n",
      "Stable probability: 0.12826410173295. Unstable probability: 0.87173589826705\n",
      "Stable probability: 0.5914455555242883. Unstable probability: 0.4085544444757117\n",
      "Stable probability: 0.7557522612118498. Unstable probability: 0.2442477387881502\n",
      "Stable probability: 0.7123504185308693. Unstable probability: 0.28764958146913067\n",
      "Stable probability: 0.8495803253095586. Unstable probability: 0.15041967469044143\n",
      "Stable probability: 0.0460852312384914. Unstable probability: 0.9539147687615086\n",
      "Stable probability: 0.3769110603355509. Unstable probability: 0.6230889396644491\n",
      "Stable probability: 0.11711262743143247. Unstable probability: 0.8828873725685675\n",
      "Stable probability: 0.7823064717320315. Unstable probability: 0.21769352826796848\n",
      "Stable probability: 0.0874886461760288. Unstable probability: 0.9125113538239712\n",
      "Stable probability: 0.6738016981916195. Unstable probability: 0.32619830180838044\n",
      "Stable probability: 0.5128668705104382. Unstable probability: 0.48713312948956183\n",
      "Stable probability: 0.7731917154577874. Unstable probability: 0.22680828454221263\n",
      "Stable probability: 0.5690605642778525. Unstable probability: 0.43093943572214755\n",
      "Stable probability: 0.634707327426045. Unstable probability: 0.36529267257395504\n",
      "Stable probability: 0.06273878715290637. Unstable probability: 0.9372612128470936\n",
      "Stable probability: 0.02312708069374103. Unstable probability: 0.976872919306259\n",
      "Stable probability: 0.09772448667620537. Unstable probability: 0.9022755133237946\n",
      "Stable probability: 0.765142626022864. Unstable probability: 0.23485737397713596\n",
      "Stable probability: 0.7195639442824231. Unstable probability: 0.28043605571757696\n",
      "Stable probability: 0.7494102710738801. Unstable probability: 0.2505897289261199\n",
      "Stable probability: 0.016220919534853828. Unstable probability: 0.9837790804651462\n",
      "Stable probability: 0.08914223597974835. Unstable probability: 0.9108577640202516\n",
      "Stable probability: 0.12666971192221899. Unstable probability: 0.873330288077781\n",
      "Stable probability: 0.23447940751721463. Unstable probability: 0.7655205924827854\n",
      "Stable probability: 0.5497893834757115. Unstable probability: 0.45021061652428856\n",
      "Stable probability: 0.050006492679229186. Unstable probability: 0.9499935073207708\n",
      "Stable probability: 0.8491246624693879. Unstable probability: 0.1508753375306121\n",
      "Stable probability: 0.38046620248092167. Unstable probability: 0.6195337975190783\n",
      "Stable probability: 0.12004001403229336. Unstable probability: 0.8799599859677066\n",
      "Stable probability: 0.6448445305073152. Unstable probability: 0.3551554694926848\n",
      "Stable probability: 0.10730060029532928. Unstable probability: 0.8926993997046707\n",
      "Stable probability: 0.03871622077957981. Unstable probability: 0.9612837792204202\n",
      "Stable probability: 0.04226834598100737. Unstable probability: 0.9577316540189926\n",
      "Stable probability: 0.1685537449593676. Unstable probability: 0.8314462550406324\n",
      "\n",
      "Average probability for misclassified objects: 78.74229340575091\n"
     ]
    }
   ],
   "source": [
    "# certainity/probability for misclassified ones, average percentage\n",
    "\n",
    "inds = []\n",
    "\n",
    "for i in range(0,len(classes_test)):\n",
    "    if (classes_test[i] != classes_predict[i]):   # 0 = stable, 1 = unstable\n",
    "        inds.append(i)\n",
    "\n",
    "r = classifier.predict_proba(features_test)   # col 1 = stable\n",
    "m = 0    # average percentage of certainty for misclassified ones\n",
    "\n",
    "\n",
    "for i in range(0,len(r)):\n",
    "    if (classes_test[i] != classes_predict[i]):\n",
    "        print('Stable probability: ' + str(r[i][0]) + '. Unstable probability: ' + str(r[i][1]))\n",
    "        if (classes_test[i] == 0):\n",
    "            # print('Predicted: unstable. Actual: stable \\n')\n",
    "            m += r[i][1]\n",
    "        else:\n",
    "            # print('Predicted: stable. Actual: unstable \\n')\n",
    "            m += r[i][0]\n",
    "            \n",
    "m = m/len(inds)\n",
    "print('\\nAverage probability for misclassified objects: ' + str(m * 100))"
   ]
  },
  {
   "cell_type": "code",
   "execution_count": 148,
   "metadata": {},
   "outputs": [
    {
     "name": "stdout",
     "output_type": "stream",
     "text": [
      "Run 28, Planet 2\n",
      "Predicted: unstable. Actual: stable\n",
      "Instability Time: 10000000.0\n",
      "\n",
      "Run 88, Planet 6\n",
      "Predicted: unstable. Actual: stable\n",
      "Instability Time: 10000000.0\n",
      "\n",
      "Run 88, Planet 10\n",
      "Predicted: unstable. Actual: stable\n",
      "Instability Time: 10000000.0\n",
      "\n",
      "Run 72, Planet 6\n",
      "Predicted: stable. Actual: unstable\n",
      "Instability Time: 46493.800406300004\n",
      "\n",
      "Run 98, Planet 10\n",
      "Predicted: unstable. Actual: stable\n",
      "Instability Time: 10000000.0\n",
      "\n",
      "Run 29, Planet 10\n",
      "Predicted: unstable. Actual: stable\n",
      "Instability Time: 10000000.0\n",
      "\n",
      "Run 32, Planet 10\n",
      "Predicted: unstable. Actual: stable\n",
      "Instability Time: 10000000.0\n",
      "\n",
      "Run 91, Planet 7\n",
      "Predicted: unstable. Actual: stable\n",
      "Instability Time: 10000000.0\n",
      "\n",
      "Run 95, Planet 2\n",
      "Predicted: unstable. Actual: stable\n",
      "Instability Time: 10000000.0\n",
      "\n",
      "Run 100, Planet 8\n",
      "Predicted: stable. Actual: unstable\n",
      "Instability Time: 142341.85477489998\n",
      "\n",
      "Run 31, Planet 9\n",
      "Predicted: stable. Actual: unstable\n",
      "Instability Time: 1111616.2498675\n",
      "\n",
      "Run 59, Planet 8\n",
      "Predicted: stable. Actual: unstable\n",
      "Instability Time: 281288.7792286\n",
      "\n",
      "Run 35, Planet 8\n",
      "Predicted: stable. Actual: unstable\n",
      "Instability Time: 13403.0186852\n",
      "\n",
      "Run 21, Planet 5\n",
      "Predicted: unstable. Actual: stable\n",
      "Instability Time: 10000000.0\n",
      "\n",
      "Run 47, Planet 6\n",
      "Predicted: unstable. Actual: stable\n",
      "Instability Time: 10000000.0\n",
      "\n",
      "Run 36, Planet 8\n",
      "Predicted: unstable. Actual: stable\n",
      "Instability Time: 10000000.0\n",
      "\n",
      "Run 24, Planet 8\n",
      "Predicted: stable. Actual: unstable\n",
      "Instability Time: 1618605.1300231002\n",
      "\n",
      "Run 78, Planet 10\n",
      "Predicted: unstable. Actual: stable\n",
      "Instability Time: 10000000.0\n",
      "\n",
      "Run 47, Planet 8\n",
      "Predicted: stable. Actual: unstable\n",
      "Instability Time: 204499.41283299998\n",
      "\n",
      "Run 66, Planet 8\n",
      "Predicted: stable. Actual: unstable\n",
      "Instability Time: 2686831.2923125997\n",
      "\n",
      "Run 100, Planet 9\n",
      "Predicted: stable. Actual: unstable\n",
      "Instability Time: 315026.32821929996\n",
      "\n",
      "Run 80, Planet 5\n",
      "Predicted: stable. Actual: unstable\n",
      "Instability Time: 8.536\n",
      "\n",
      "Run 49, Planet 3\n",
      "Predicted: stable. Actual: unstable\n",
      "Instability Time: 392364.7841167\n",
      "\n",
      "Run 75, Planet 10\n",
      "Predicted: unstable. Actual: stable\n",
      "Instability Time: 10000000.0\n",
      "\n",
      "Run 35, Planet 5\n",
      "Predicted: unstable. Actual: stable\n",
      "Instability Time: 10000000.0\n",
      "\n",
      "Run 49, Planet 10\n",
      "Predicted: unstable. Actual: stable\n",
      "Instability Time: 10000000.0\n",
      "\n",
      "Run 52, Planet 9\n",
      "Predicted: stable. Actual: unstable\n",
      "Instability Time: 112036.80504519999\n",
      "\n",
      "Run 29, Planet 4\n",
      "Predicted: stable. Actual: unstable\n",
      "Instability Time: 6955.434272699999\n",
      "\n",
      "Run 29, Planet 6\n",
      "Predicted: stable. Actual: unstable\n",
      "Instability Time: 7939.8398494\n",
      "\n",
      "Run 23, Planet 3\n",
      "Predicted: unstable. Actual: stable\n",
      "Instability Time: 10000000.0\n",
      "\n",
      "Run 77, Planet 2\n",
      "Predicted: unstable. Actual: stable\n",
      "Instability Time: 10000000.0\n",
      "\n",
      "Run 87, Planet 10\n",
      "Predicted: unstable. Actual: stable\n",
      "Instability Time: 10000000.0\n",
      "\n",
      "Run 23, Planet 1\n",
      "Predicted: unstable. Actual: stable\n",
      "Instability Time: 10000000.0\n",
      "\n",
      "Run 2, Planet 6\n",
      "Predicted: stable. Actual: unstable\n",
      "Instability Time: 2925130.1406802996\n",
      "\n",
      "Run 94, Planet 5\n",
      "Predicted: unstable. Actual: stable\n",
      "Instability Time: 10000000.0\n",
      "\n",
      "Run 62, Planet 7\n",
      "Predicted: stable. Actual: unstable\n",
      "Instability Time: 438311.001274\n",
      "\n",
      "Run 30, Planet 7\n",
      "Predicted: unstable. Actual: stable\n",
      "Instability Time: 10000000.0\n",
      "\n",
      "Run 82, Planet 10\n",
      "Predicted: unstable. Actual: stable\n",
      "Instability Time: 10000000.0\n",
      "\n",
      "Run 32, Planet 9\n",
      "Predicted: stable. Actual: unstable\n",
      "Instability Time: 2709.3700401\n",
      "\n",
      "Run 3, Planet 3\n",
      "Predicted: unstable. Actual: stable\n",
      "Instability Time: 10000000.0\n",
      "\n",
      "Run 51, Planet 1\n",
      "Predicted: unstable. Actual: stable\n",
      "Instability Time: 10000000.0\n",
      "\n",
      "Run 9, Planet 2\n",
      "Predicted: unstable. Actual: stable\n",
      "Instability Time: 10000000.0\n",
      "\n",
      "Run 94, Planet 6\n",
      "Predicted: unstable. Actual: stable\n",
      "Instability Time: 10000000.0\n",
      "\n",
      "Number of misclassified planets that are really stable: 26\n",
      "Number of misclassified planets that are really unstable: 17\n"
     ]
    }
   ],
   "source": [
    "acu = 0    # actually unstable//actually stable\n",
    "acs = 0\n",
    "\n",
    "for i in range(0,len(classes_test)):\n",
    "    if (classes_test[i] != classes_predict[i]):\n",
    "        print('Run ' + str(r[i]) + ', Planet ' + str(p[i]))\n",
    "        \n",
    "        if classes_test[i] == 0 and classes_predict[i] == 1:\n",
    "            print('Predicted: unstable. Actual: stable')\n",
    "            acs+=1\n",
    "        else:\n",
    "            print('Predicted: stable. Actual: unstable')\n",
    "            acu+=1\n",
    "        print('Instability Time: ' + str(e[i]) + '\\n')\n",
    "\n",
    "    \n",
    "print('Number of misclassified planets that are really stable: ' + str(acs))\n",
    "print('Number of misclassified planets that are really unstable: ' + str(acu))\n",
    "\n",
    "# think run 80, planet 5 shouldnt be accounted for since i think that was the one with the faulty data i had to delete"
   ]
  },
  {
   "cell_type": "code",
   "execution_count": 159,
   "metadata": {},
   "outputs": [
    {
     "data": {
      "text/plain": [
       "(-0.5, 3.0)"
      ]
     },
     "execution_count": 159,
     "metadata": {},
     "output_type": "execute_result"
    },
    {
     "data": {
      "image/png": "[encoded data removed]",
      "text/plain": [
       "<Figure size 1080x504 with 1 Axes>"
      ]
     },
     "metadata": {
      "needs_background": "light"
     },
     "output_type": "display_data"
    }
   ],
   "source": [
    "stable_x = []\n",
    "unstable_x = []\n",
    "misclassified_x = []\n",
    "stable_y = []\n",
    "unstable_y = []\n",
    "misclassified_y = []\n",
    "    \n",
    "    \n",
    "f=plt.figure(figsize=(15,7))\n",
    "\n",
    "for i in range(len(features_test)):\n",
    "    if (classes_test[i] == 0 and classes_predict[i] == 0):\n",
    "        stable_x.append(features_test[i][5])\n",
    "        stable_y.append(features_test[i][39])\n",
    "    elif (classes_test[i] == 1 and classes_predict[i] == 1):\n",
    "        unstable_x.append(features_test[i][5])\n",
    "        unstable_y.append(features_test[i][39])\n",
    "    else:\n",
    "        misclassified_x.append(features_test[i][5])\n",
    "        misclassified_y.append(features_test[i][39])\n",
    "\n",
    "        \n",
    "plt.scatter(stable_x, stable_y, color = 'thistle')\n",
    "plt.scatter(misclassified_x, misclassified_y, color = 'firebrick', zorder = 2)\n",
    "plt.scatter(unstable_x, unstable_y, color = 'lightsteelblue')\n",
    "\n",
    "        \n",
    "plt.ylabel('min a2 ratio (2)')\n",
    "plt.xlabel('standard deviation e (1)')\n",
    "plt.title('sd e vs min a2')\n",
    "plt.ylim(-0.5, 3)"
   ]
  },
  {
   "cell_type": "code",
   "execution_count": null,
   "metadata": {},
   "outputs": [],
   "source": []
  }
 ],
 "metadata": {
  "kernelspec": {
   "display_name": "Python 3",
   "language": "python",
   "name": "python3"
  },
  "language_info": {
   "codemirror_mode": {
    "name": "ipython",
    "version": 3
   },
   "file_extension": ".py",
   "mimetype": "text/x-python",
   "name": "python",
   "nbconvert_exporter": "python",
   "pygments_lexer": "ipython3",
   "version": "3.8.3"
  }
 },
 "nbformat": 4,
 "nbformat_minor": 4
}

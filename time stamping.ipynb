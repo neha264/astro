{
 "cells": [
  {
   "cell_type": "markdown",
   "metadata": {},
   "source": [
    "features:\n",
    "\n",
    "log mass1_ratio, log mass2_ratio, max e, sd e, cv peri"
   ]
  },
  {
   "cell_type": "code",
   "execution_count": 3,
   "metadata": {},
   "outputs": [],
   "source": [
    "import numpy as np\n",
    "import pandas as pd\n",
    "import matplotlib.pyplot as plt\n",
    "import pylab\n",
    "import corner\n",
    "import math\n",
    "import csv\n",
    "from numpy import *\n",
    "\n",
    "import matplotlib\n",
    "from matplotlib import colors\n",
    "from matplotlib.ticker import PercentFormatter\n",
    "from matplotlib.backends.backend_pdf import PdfPages\n",
    "import matplotlib.patches as mpatches\n",
    "from tqdm.notebook import tqdm\n",
    "\n",
    "from sklearn.metrics import accuracy_score\n",
    "from sklearn.model_selection import train_test_split\n",
    "from sklearn.ensemble import GradientBoostingClassifier\n",
    "from sklearn.model_selection import GridSearchCV\n",
    "from sklearn.metrics import classification_report, confusion_matrix \n",
    "from sklearn.model_selection import cross_val_predict\n",
    "\n",
    "from sklearn.metrics import precision_recall_curve\n",
    "from sklearn.metrics import plot_precision_recall_curve\n",
    "import sklearn.metrics as metrics\n",
    "from sklearn.metrics import average_precision_score\n",
    "from sklearn.metrics import precision_recall_fscore_support\n",
    "from sklearn.metrics import roc_auc_score\n",
    "from sklearn.feature_selection import RFE\n",
    "from sklearn.feature_selection import RFECV\n",
    "from sklearn.model_selection import StratifiedKFold\n",
    "from sklearn.ensemble import GradientBoostingClassifier\n",
    "from sklearn.tree import export_graphviz\n",
    "from pydotplus import graph_from_dot_data\n",
    "from IPython.display import Image\n",
    "from fpdf import FPDF\n",
    "from PIL import Image\n",
    "import pydotplus\n",
    "\n",
    "%matplotlib inline\n",
    "import graphviz\n",
    "from sklearn import tree\n",
    "from xgboost import plot_tree\n",
    "from sklearn.tree import DecisionTreeClassifier"
   ]
  },
  {
   "cell_type": "code",
   "execution_count": 97,
   "metadata": {},
   "outputs": [],
   "source": [
    "data = dict()\n",
    "\n",
    "for rn in range(1,101):\n",
    "    data[rn] = dict()\n",
    "    for planetnum in range(1,11):\n",
    "        data[rn][planetnum] = dict()\n",
    "        pl = genfromtxt(r'/Users/neha/Documents/lanl/classifier/s. mordasini data/run'+str(rn)+'/PL'+str(planetnum)+'.el',skip_header=2,max_rows=10)\n",
    "        \n",
    "        for time in range(len(pl)):\n",
    "            data[rn][planetnum][time] = dict()\n",
    "            try:\n",
    "                data[rn][planetnum][time]['mass'] = pl[time][1]\n",
    "                data[rn][planetnum][time]['a'] = pl[time][2]\n",
    "                data[rn][planetnum][time]['e'] = pl[time][3]\n",
    "            except:\n",
    "                data[rn][planetnum][time]['mass'] = pl[1]\n",
    "                data[rn][planetnum][time]['a'] = pl[2]\n",
    "                data[rn][planetnum][time]['e'] = pl[3]"
   ]
  },
  {
   "cell_type": "markdown",
   "metadata": {},
   "source": [
    "### the wrong way"
   ]
  },
  {
   "cell_type": "code",
   "execution_count": 103,
   "metadata": {},
   "outputs": [],
   "source": [
    "sys = dict()\n",
    "te = dict()\n",
    "\n",
    "\n",
    "for rn2 in range(1,101):\n",
    "    sys[rn2] = dict()\n",
    "    te[rn2] = dict()\n",
    "    \n",
    "    am = []\n",
    "    ps = []\n",
    "                \n",
    "    for p in range(1,11):\n",
    "        ps.append(p)\n",
    "        am.append(data[rn2][p][0]['mass'])                \n",
    "                \n",
    "    lm = ps[am.index(np.max(am))]\n",
    "                \n",
    "    am.remove(np.max(am))\n",
    "    ps.remove(lm)\n",
    "        \n",
    "    lm2 = ps[am.index(np.max(am))]\n",
    "    am.remove(np.max(am))\n",
    "    ps.remove(lm2)\n",
    "    \n",
    "    lm3 = ps[am.index(np.max(am))]\n",
    "    am.remove(np.max(am))\n",
    "    ps.remove(lm3)\n",
    "    \n",
    "    lm4 = ps[am.index(np.max(am))]\n",
    "    am.remove(np.max(am))\n",
    "    \n",
    "    \n",
    "    for planet in range (1,11):\n",
    "        sys[rn2][planet] = dict() \n",
    "        te[rn2][planet] = dict()\n",
    "        \n",
    "        te[rn2][planet]['a'] = []\n",
    "        te[rn2][planet]['e'] = []\n",
    "        te[rn2][planet]['pericenter'] = []\n",
    "        sys[rn2][planet]['log mass1_ratio'] = []\n",
    "        sys[rn2][planet]['log mass2_ratio'] = []\n",
    "        sys[rn2][planet]['sd e'] = []\n",
    "        sys[rn2][planet]['max e'] = []\n",
    "        sys[rn2][planet]['cv pericenter'] = []\n",
    "\n",
    "    \n",
    "        for timestep in range(len(data[rn2][planet])):\n",
    "            te[rn2][planet]['a'].append(float(data[rn2][planet][timestep]['a']))\n",
    "            te[rn2][planet]['e'].append(float(np.log10(data[rn2][planet][timestep]['e'])))\n",
    "\n",
    "            massPL = float(data[rn2][planet][timestep]['mass'])\n",
    "            aPL = float(data[rn2][planet][timestep]['a'])\n",
    "            ePL = float(data[rn2][planet][timestep]['e'])\n",
    "                \n",
    "            try:    \n",
    "                if (planet == lm2):\n",
    "                    m1 = float(data[rn2][lm3][0]['mass'])\n",
    "                    a1 = float(data[rn2][lm3][timestep]['a'])\n",
    "\n",
    "                    m2 = float(data[rn2][lm4][0]['mass'])\n",
    "                    a2 = float(data[rn2][lm4][timestep]['a'])\n",
    "\n",
    "                elif (planet == lm3):\n",
    "                    m1 = float(data[rn2][lm2][0]['mass'])\n",
    "                    a1 = float(data[rn2][lm2][timestep]['a'])\n",
    "\n",
    "                    m2 = float(data[rn2][lm4][0]['mass'])\n",
    "                    a2 = float(data[rn2][lm4][timestep]['a'])\n",
    "\n",
    "                else:\n",
    "                    m1 = float(data[rn2][lm2][0]['mass'])\n",
    "                    a1 = float(data[rn2][lm2][timestep]['a'])\n",
    "\n",
    "                    m2 = float(data[rn2][lm3][0]['mass'])\n",
    "                    a2 = float(data[rn2][lm3][timestep]['a'])\n",
    "                    \n",
    "                sys[rn2][planet]['log mass1_ratio'].append(float(np.log10(massPL/m1)))\n",
    "                sys[rn2][planet]['log mass2_ratio'].append(float(np.log10(massPL/m2)))\n",
    "                te[rn2][planet]['pericenter'].append(aPL*(1-ePL))\n",
    "                sys[rn2][planet]['cv pericenter'].append(np.std(te[rn2][planet]['pericenter'][0:len(data[rn2][planet])])/np.mean(te[rn2][planet]['pericenter'][0:len(data[rn2][planet])]))\n",
    "                sys[rn2][planet]['sd e'].append(np.std(te[rn2][planet]['e']))\n",
    "                sys[rn2][planet]['max e'].append(np.max(te[rn2][planet]['e']))\n",
    "                \n",
    "                \n",
    "            except:\n",
    "                pass\n",
    "            \n",
    "            \n",
    "            \n",
    "                \n",
    "for rn2 in range(1,101):\n",
    "    for planet in range(1,11):\n",
    "        sys[rn2][planet]['fate'] = 'remaining'\n",
    "    \n",
    "    with open('/Users/neha/Documents/lanl/classifier/s. mordasini data/run'+str(rn2)+'/info.out', 'r') as file:\n",
    "        lines = file.readlines()\n",
    "        for line in lines:\n",
    "            if \"PL\" in line:\n",
    "                cols = line.split()\n",
    "                plnt = int(cols[0].split('L')[-1])\n",
    "                plnt2 = cols[4].split('L')[-1]\n",
    "                \n",
    "                if \"ejected\" in line:\n",
    "                    sys[rn2][plnt]['fate'] = \"ejected\"\n",
    "                elif \"collided with the central body\" in line:\n",
    "                    sys[rn2][plnt]['fate'] = \"central body collision\"\n",
    "                elif \"was hit by\" in line:\n",
    "                    sys[rn2][int(plnt2)]['fate'] = \"planet-planet collision\""
   ]
  },
  {
   "cell_type": "code",
   "execution_count": 128,
   "metadata": {},
   "outputs": [
    {
     "data": {
      "application/vnd.jupyter.widget-view+json": {
       "model_id": "5bb9947795cd48cfb7fac5e91982c258",
       "version_major": 2,
       "version_minor": 0
      },
      "text/plain": [
       "HBox(children=(FloatProgress(value=0.0), HTML(value='')))"
      ]
     },
     "metadata": {},
     "output_type": "display_data"
    },
    {
     "name": "stderr",
     "output_type": "stream",
     "text": [
      "<ipython-input-128-82390f785130>:15: RuntimeWarning: More than 20 figures have been opened. Figures created through the pyplot interface (`matplotlib.pyplot.figure`) are retained until explicitly closed and may consume too much memory. (To control this warning, see the rcParam `figure.max_open_warning`).\n",
      "  fig, axs = plt.subplots(5, 1, figsize=(7,17), sharex=True)\n"
     ]
    },
    {
     "data": {
      "text/plain": [
       "<Figure size 504x1224 with 0 Axes>"
      ]
     },
     "metadata": {},
     "output_type": "display_data"
    },
    {
     "data": {
      "text/plain": [
       "<Figure size 504x1224 with 0 Axes>"
      ]
     },
     "metadata": {},
     "output_type": "display_data"
    },
    {
     "data": {
      "text/plain": [
       "<Figure size 504x1224 with 0 Axes>"
      ]
     },
     "metadata": {},
     "output_type": "display_data"
    },
    {
     "data": {
      "text/plain": [
       "<Figure size 504x1224 with 0 Axes>"
      ]
     },
     "metadata": {},
     "output_type": "display_data"
    },
    {
     "data": {
      "text/plain": [
       "<Figure size 504x1224 with 0 Axes>"
      ]
     },
     "metadata": {},
     "output_type": "display_data"
    },
    {
     "data": {
      "text/plain": [
       "<Figure size 504x1224 with 0 Axes>"
      ]
     },
     "metadata": {},
     "output_type": "display_data"
    },
    {
     "data": {
      "text/plain": [
       "<Figure size 504x1224 with 0 Axes>"
      ]
     },
     "metadata": {},
     "output_type": "display_data"
    },
    {
     "data": {
      "text/plain": [
       "<Figure size 504x1224 with 0 Axes>"
      ]
     },
     "metadata": {},
     "output_type": "display_data"
    },
    {
     "data": {
      "text/plain": [
       "<Figure size 504x1224 with 0 Axes>"
      ]
     },
     "metadata": {},
     "output_type": "display_data"
    },
    {
     "data": {
      "text/plain": [
       "<Figure size 504x1224 with 0 Axes>"
      ]
     },
     "metadata": {},
     "output_type": "display_data"
    },
    {
     "data": {
      "text/plain": [
       "<Figure size 504x1224 with 0 Axes>"
      ]
     },
     "metadata": {},
     "output_type": "display_data"
    },
    {
     "data": {
      "text/plain": [
       "<Figure size 504x1224 with 0 Axes>"
      ]
     },
     "metadata": {},
     "output_type": "display_data"
    },
    {
     "data": {
      "text/plain": [
       "<Figure size 504x1224 with 0 Axes>"
      ]
     },
     "metadata": {},
     "output_type": "display_data"
    },
    {
     "data": {
      "text/plain": [
       "<Figure size 504x1224 with 0 Axes>"
      ]
     },
     "metadata": {},
     "output_type": "display_data"
    },
    {
     "data": {
      "text/plain": [
       "<Figure size 504x1224 with 0 Axes>"
      ]
     },
     "metadata": {},
     "output_type": "display_data"
    },
    {
     "data": {
      "text/plain": [
       "<Figure size 504x1224 with 0 Axes>"
      ]
     },
     "metadata": {},
     "output_type": "display_data"
    },
    {
     "data": {
      "text/plain": [
       "<Figure size 504x1224 with 0 Axes>"
      ]
     },
     "metadata": {},
     "output_type": "display_data"
    },
    {
     "data": {
      "text/plain": [
       "<Figure size 504x1224 with 0 Axes>"
      ]
     },
     "metadata": {},
     "output_type": "display_data"
    },
    {
     "data": {
      "text/plain": [
       "<Figure size 504x1224 with 0 Axes>"
      ]
     },
     "metadata": {},
     "output_type": "display_data"
    },
    {
     "data": {
      "text/plain": [
       "<Figure size 504x1224 with 0 Axes>"
      ]
     },
     "metadata": {},
     "output_type": "display_data"
    },
    {
     "data": {
      "text/plain": [
       "<Figure size 504x1224 with 0 Axes>"
      ]
     },
     "metadata": {},
     "output_type": "display_data"
    },
    {
     "data": {
      "text/plain": [
       "<Figure size 504x1224 with 0 Axes>"
      ]
     },
     "metadata": {},
     "output_type": "display_data"
    },
    {
     "data": {
      "text/plain": [
       "<Figure size 504x1224 with 0 Axes>"
      ]
     },
     "metadata": {},
     "output_type": "display_data"
    },
    {
     "data": {
      "text/plain": [
       "<Figure size 504x1224 with 0 Axes>"
      ]
     },
     "metadata": {},
     "output_type": "display_data"
    },
    {
     "data": {
      "text/plain": [
       "<Figure size 504x1224 with 0 Axes>"
      ]
     },
     "metadata": {},
     "output_type": "display_data"
    },
    {
     "data": {
      "text/plain": [
       "<Figure size 504x1224 with 0 Axes>"
      ]
     },
     "metadata": {},
     "output_type": "display_data"
    },
    {
     "data": {
      "text/plain": [
       "<Figure size 504x1224 with 0 Axes>"
      ]
     },
     "metadata": {},
     "output_type": "display_data"
    },
    {
     "data": {
      "text/plain": [
       "<Figure size 504x1224 with 0 Axes>"
      ]
     },
     "metadata": {},
     "output_type": "display_data"
    },
    {
     "data": {
      "text/plain": [
       "<Figure size 504x1224 with 0 Axes>"
      ]
     },
     "metadata": {},
     "output_type": "display_data"
    },
    {
     "data": {
      "text/plain": [
       "<Figure size 504x1224 with 0 Axes>"
      ]
     },
     "metadata": {},
     "output_type": "display_data"
    },
    {
     "data": {
      "text/plain": [
       "<Figure size 504x1224 with 0 Axes>"
      ]
     },
     "metadata": {},
     "output_type": "display_data"
    },
    {
     "data": {
      "text/plain": [
       "<Figure size 504x1224 with 0 Axes>"
      ]
     },
     "metadata": {},
     "output_type": "display_data"
    },
    {
     "data": {
      "text/plain": [
       "<Figure size 504x1224 with 0 Axes>"
      ]
     },
     "metadata": {},
     "output_type": "display_data"
    },
    {
     "data": {
      "text/plain": [
       "<Figure size 504x1224 with 0 Axes>"
      ]
     },
     "metadata": {},
     "output_type": "display_data"
    },
    {
     "data": {
      "text/plain": [
       "<Figure size 504x1224 with 0 Axes>"
      ]
     },
     "metadata": {},
     "output_type": "display_data"
    },
    {
     "data": {
      "text/plain": [
       "<Figure size 504x1224 with 0 Axes>"
      ]
     },
     "metadata": {},
     "output_type": "display_data"
    },
    {
     "data": {
      "text/plain": [
       "<Figure size 504x1224 with 0 Axes>"
      ]
     },
     "metadata": {},
     "output_type": "display_data"
    },
    {
     "data": {
      "text/plain": [
       "<Figure size 504x1224 with 0 Axes>"
      ]
     },
     "metadata": {},
     "output_type": "display_data"
    },
    {
     "data": {
      "text/plain": [
       "<Figure size 504x1224 with 0 Axes>"
      ]
     },
     "metadata": {},
     "output_type": "display_data"
    },
    {
     "data": {
      "text/plain": [
       "<Figure size 504x1224 with 0 Axes>"
      ]
     },
     "metadata": {},
     "output_type": "display_data"
    },
    {
     "data": {
      "text/plain": [
       "<Figure size 504x1224 with 0 Axes>"
      ]
     },
     "metadata": {},
     "output_type": "display_data"
    },
    {
     "data": {
      "text/plain": [
       "<Figure size 504x1224 with 0 Axes>"
      ]
     },
     "metadata": {},
     "output_type": "display_data"
    },
    {
     "data": {
      "text/plain": [
       "<Figure size 504x1224 with 0 Axes>"
      ]
     },
     "metadata": {},
     "output_type": "display_data"
    },
    {
     "data": {
      "text/plain": [
       "<Figure size 504x1224 with 0 Axes>"
      ]
     },
     "metadata": {},
     "output_type": "display_data"
    },
    {
     "data": {
      "text/plain": [
       "<Figure size 504x1224 with 0 Axes>"
      ]
     },
     "metadata": {},
     "output_type": "display_data"
    },
    {
     "data": {
      "text/plain": [
       "<Figure size 504x1224 with 0 Axes>"
      ]
     },
     "metadata": {},
     "output_type": "display_data"
    },
    {
     "data": {
      "text/plain": [
       "<Figure size 504x1224 with 0 Axes>"
      ]
     },
     "metadata": {},
     "output_type": "display_data"
    },
    {
     "data": {
      "text/plain": [
       "<Figure size 504x1224 with 0 Axes>"
      ]
     },
     "metadata": {},
     "output_type": "display_data"
    },
    {
     "data": {
      "text/plain": [
       "<Figure size 504x1224 with 0 Axes>"
      ]
     },
     "metadata": {},
     "output_type": "display_data"
    },
    {
     "data": {
      "text/plain": [
       "<Figure size 504x1224 with 0 Axes>"
      ]
     },
     "metadata": {},
     "output_type": "display_data"
    },
    {
     "data": {
      "text/plain": [
       "<Figure size 504x1224 with 0 Axes>"
      ]
     },
     "metadata": {},
     "output_type": "display_data"
    },
    {
     "data": {
      "text/plain": [
       "<Figure size 504x1224 with 0 Axes>"
      ]
     },
     "metadata": {},
     "output_type": "display_data"
    },
    {
     "data": {
      "text/plain": [
       "<Figure size 504x1224 with 0 Axes>"
      ]
     },
     "metadata": {},
     "output_type": "display_data"
    },
    {
     "data": {
      "text/plain": [
       "<Figure size 504x1224 with 0 Axes>"
      ]
     },
     "metadata": {},
     "output_type": "display_data"
    },
    {
     "data": {
      "text/plain": [
       "<Figure size 504x1224 with 0 Axes>"
      ]
     },
     "metadata": {},
     "output_type": "display_data"
    },
    {
     "data": {
      "text/plain": [
       "<Figure size 504x1224 with 0 Axes>"
      ]
     },
     "metadata": {},
     "output_type": "display_data"
    },
    {
     "data": {
      "text/plain": [
       "<Figure size 504x1224 with 0 Axes>"
      ]
     },
     "metadata": {},
     "output_type": "display_data"
    },
    {
     "data": {
      "text/plain": [
       "<Figure size 504x1224 with 0 Axes>"
      ]
     },
     "metadata": {},
     "output_type": "display_data"
    },
    {
     "data": {
      "text/plain": [
       "<Figure size 504x1224 with 0 Axes>"
      ]
     },
     "metadata": {},
     "output_type": "display_data"
    },
    {
     "data": {
      "text/plain": [
       "<Figure size 504x1224 with 0 Axes>"
      ]
     },
     "metadata": {},
     "output_type": "display_data"
    },
    {
     "data": {
      "text/plain": [
       "<Figure size 504x1224 with 0 Axes>"
      ]
     },
     "metadata": {},
     "output_type": "display_data"
    },
    {
     "data": {
      "text/plain": [
       "<Figure size 504x1224 with 0 Axes>"
      ]
     },
     "metadata": {},
     "output_type": "display_data"
    },
    {
     "data": {
      "text/plain": [
       "<Figure size 504x1224 with 0 Axes>"
      ]
     },
     "metadata": {},
     "output_type": "display_data"
    },
    {
     "data": {
      "text/plain": [
       "<Figure size 504x1224 with 0 Axes>"
      ]
     },
     "metadata": {},
     "output_type": "display_data"
    },
    {
     "data": {
      "text/plain": [
       "<Figure size 504x1224 with 0 Axes>"
      ]
     },
     "metadata": {},
     "output_type": "display_data"
    },
    {
     "data": {
      "text/plain": [
       "<Figure size 504x1224 with 0 Axes>"
      ]
     },
     "metadata": {},
     "output_type": "display_data"
    },
    {
     "data": {
      "text/plain": [
       "<Figure size 504x1224 with 0 Axes>"
      ]
     },
     "metadata": {},
     "output_type": "display_data"
    },
    {
     "data": {
      "text/plain": [
       "<Figure size 504x1224 with 0 Axes>"
      ]
     },
     "metadata": {},
     "output_type": "display_data"
    },
    {
     "data": {
      "text/plain": [
       "<Figure size 504x1224 with 0 Axes>"
      ]
     },
     "metadata": {},
     "output_type": "display_data"
    },
    {
     "data": {
      "text/plain": [
       "<Figure size 504x1224 with 0 Axes>"
      ]
     },
     "metadata": {},
     "output_type": "display_data"
    },
    {
     "data": {
      "text/plain": [
       "<Figure size 504x1224 with 0 Axes>"
      ]
     },
     "metadata": {},
     "output_type": "display_data"
    },
    {
     "data": {
      "text/plain": [
       "<Figure size 504x1224 with 0 Axes>"
      ]
     },
     "metadata": {},
     "output_type": "display_data"
    },
    {
     "data": {
      "text/plain": [
       "<Figure size 504x1224 with 0 Axes>"
      ]
     },
     "metadata": {},
     "output_type": "display_data"
    },
    {
     "data": {
      "text/plain": [
       "<Figure size 504x1224 with 0 Axes>"
      ]
     },
     "metadata": {},
     "output_type": "display_data"
    },
    {
     "data": {
      "text/plain": [
       "<Figure size 504x1224 with 0 Axes>"
      ]
     },
     "metadata": {},
     "output_type": "display_data"
    },
    {
     "data": {
      "text/plain": [
       "<Figure size 504x1224 with 0 Axes>"
      ]
     },
     "metadata": {},
     "output_type": "display_data"
    },
    {
     "data": {
      "text/plain": [
       "<Figure size 504x1224 with 0 Axes>"
      ]
     },
     "metadata": {},
     "output_type": "display_data"
    },
    {
     "data": {
      "text/plain": [
       "<Figure size 504x1224 with 0 Axes>"
      ]
     },
     "metadata": {},
     "output_type": "display_data"
    },
    {
     "data": {
      "text/plain": [
       "<Figure size 504x1224 with 0 Axes>"
      ]
     },
     "metadata": {},
     "output_type": "display_data"
    },
    {
     "data": {
      "text/plain": [
       "<Figure size 504x1224 with 0 Axes>"
      ]
     },
     "metadata": {},
     "output_type": "display_data"
    },
    {
     "data": {
      "text/plain": [
       "<Figure size 504x1224 with 0 Axes>"
      ]
     },
     "metadata": {},
     "output_type": "display_data"
    },
    {
     "data": {
      "text/plain": [
       "<Figure size 504x1224 with 0 Axes>"
      ]
     },
     "metadata": {},
     "output_type": "display_data"
    },
    {
     "data": {
      "text/plain": [
       "<Figure size 504x1224 with 0 Axes>"
      ]
     },
     "metadata": {},
     "output_type": "display_data"
    },
    {
     "data": {
      "text/plain": [
       "<Figure size 504x1224 with 0 Axes>"
      ]
     },
     "metadata": {},
     "output_type": "display_data"
    },
    {
     "data": {
      "text/plain": [
       "<Figure size 504x1224 with 0 Axes>"
      ]
     },
     "metadata": {},
     "output_type": "display_data"
    },
    {
     "data": {
      "text/plain": [
       "<Figure size 504x1224 with 0 Axes>"
      ]
     },
     "metadata": {},
     "output_type": "display_data"
    },
    {
     "data": {
      "text/plain": [
       "<Figure size 504x1224 with 0 Axes>"
      ]
     },
     "metadata": {},
     "output_type": "display_data"
    },
    {
     "data": {
      "text/plain": [
       "<Figure size 504x1224 with 0 Axes>"
      ]
     },
     "metadata": {},
     "output_type": "display_data"
    },
    {
     "data": {
      "text/plain": [
       "<Figure size 504x1224 with 0 Axes>"
      ]
     },
     "metadata": {},
     "output_type": "display_data"
    },
    {
     "data": {
      "text/plain": [
       "<Figure size 504x1224 with 0 Axes>"
      ]
     },
     "metadata": {},
     "output_type": "display_data"
    },
    {
     "data": {
      "text/plain": [
       "<Figure size 504x1224 with 0 Axes>"
      ]
     },
     "metadata": {},
     "output_type": "display_data"
    },
    {
     "data": {
      "text/plain": [
       "<Figure size 504x1224 with 0 Axes>"
      ]
     },
     "metadata": {},
     "output_type": "display_data"
    },
    {
     "data": {
      "text/plain": [
       "<Figure size 504x1224 with 0 Axes>"
      ]
     },
     "metadata": {},
     "output_type": "display_data"
    },
    {
     "data": {
      "text/plain": [
       "<Figure size 504x1224 with 0 Axes>"
      ]
     },
     "metadata": {},
     "output_type": "display_data"
    },
    {
     "data": {
      "text/plain": [
       "<Figure size 504x1224 with 0 Axes>"
      ]
     },
     "metadata": {},
     "output_type": "display_data"
    },
    {
     "data": {
      "text/plain": [
       "<Figure size 504x1224 with 0 Axes>"
      ]
     },
     "metadata": {},
     "output_type": "display_data"
    },
    {
     "data": {
      "text/plain": [
       "<Figure size 504x1224 with 0 Axes>"
      ]
     },
     "metadata": {},
     "output_type": "display_data"
    },
    {
     "data": {
      "text/plain": [
       "<Figure size 504x1224 with 0 Axes>"
      ]
     },
     "metadata": {},
     "output_type": "display_data"
    },
    {
     "data": {
      "text/plain": [
       "<Figure size 504x1224 with 0 Axes>"
      ]
     },
     "metadata": {},
     "output_type": "display_data"
    },
    {
     "data": {
      "text/plain": [
       "<Figure size 504x1224 with 0 Axes>"
      ]
     },
     "metadata": {},
     "output_type": "display_data"
    }
   ],
   "source": [
    "feats = ['log mass1_ratio', 'log mass2_ratio', 'max e', 'sd e', 'cv pericenter']\n",
    "\n",
    "\n",
    "xs = []\n",
    "\n",
    "for f in range(len(sys[1][1]['max e'])):\n",
    "    xs.append(f * 13.689)    \n",
    "    \n",
    "    \n",
    "pbar = tqdm(total = 100)\n",
    "fil = PdfPages('time stamping 1.pdf')\n",
    "\n",
    "\n",
    "for s in range(1,101):    \n",
    "    fig, axs = plt.subplots(5, 1, figsize=(7,17), sharex=True)\n",
    "    plt.suptitle('System ' + str(s), fontweight='bold')\n",
    "\n",
    "    for f in range(len(feats)):\n",
    "        for p in range(1,11):\n",
    "            col = 'white'\n",
    "            \n",
    "            if sys[s][p]['fate'] == 'remaining':\n",
    "                col = 'green'\n",
    "            else:\n",
    "                col = 'lightsteelblue'\n",
    "            \n",
    "            try:\n",
    "                axs[f].plot(xs, sys[s][p][feats[f]], color = col)\n",
    "            except:\n",
    "                xs2 = []\n",
    "                \n",
    "                for i in range(len(sys[s][p][feats[f]])):\n",
    "                    xs2.append(i * 13.689)\n",
    "                \n",
    "                axs[f].plot(xs2, sys[s][p][feats[f]], color = col)\n",
    "\n",
    "            \n",
    "        axs[0].set_ylabel('log mass1 ratio')\n",
    "        axs[1].set_ylabel('log mass2 ratio')\n",
    "        axs[2].set_ylabel('max e')\n",
    "        axs[3].set_ylabel('sd e')\n",
    "        axs[4].set_ylabel('cv pericenter')\n",
    "        \n",
    "\n",
    "    plt.tight_layout()\n",
    "    plt.subplots_adjust(top=0.96)\n",
    "    \n",
    "    fil.savefig()\n",
    "    plt.clf()\n",
    "    pbar.update()\n",
    "    \n",
    "fil.close()"
   ]
  },
  {
   "cell_type": "markdown",
   "metadata": {},
   "source": [
    "### attempt number 2"
   ]
  },
  {
   "cell_type": "code",
   "execution_count": 140,
   "metadata": {},
   "outputs": [],
   "source": [
    "data = dict()\n",
    "\n",
    "for rn in range(1,101):\n",
    "    data[rn] = dict()\n",
    "    for planetnum in range(1,11):\n",
    "        data[rn][planetnum] = dict()\n",
    "        pl = genfromtxt(r'/Users/neha/Documents/lanl/classifier/s. mordasini data/run'+str(rn)+'/PL'+str(planetnum)+'.el',skip_header=2,max_rows=20)\n",
    "        \n",
    "        for time in range(len(pl)):\n",
    "            data[rn][planetnum][time] = dict()\n",
    "            try:\n",
    "                data[rn][planetnum][time]['mass'] = pl[time][1]\n",
    "                data[rn][planetnum][time]['a'] = pl[time][2]\n",
    "                data[rn][planetnum][time]['e'] = pl[time][3]\n",
    "            except:\n",
    "                data[rn][planetnum][time]['mass'] = pl[1]\n",
    "                data[rn][planetnum][time]['a'] = pl[2]\n",
    "                data[rn][planetnum][time]['e'] = pl[3]"
   ]
  },
  {
   "cell_type": "code",
   "execution_count": 152,
   "metadata": {
    "scrolled": true
   },
   "outputs": [],
   "source": [
    "sys = dict()\n",
    "te = dict()\n",
    "\n",
    "\n",
    "for rn2 in range(1,101):\n",
    "    sys[rn2] = dict()\n",
    "    te[rn2] = dict()\n",
    "    \n",
    "    am = []\n",
    "    ps = []\n",
    "                \n",
    "    for p in range(1,11):\n",
    "        ps.append(p)\n",
    "        am.append(data[rn2][p][0]['mass'])                \n",
    "                \n",
    "    lm = ps[am.index(np.max(am))]\n",
    "                \n",
    "    am.remove(np.max(am))\n",
    "    ps.remove(lm)\n",
    "        \n",
    "    lm2 = ps[am.index(np.max(am))]\n",
    "    am.remove(np.max(am))\n",
    "    ps.remove(lm2)\n",
    "    \n",
    "    lm3 = ps[am.index(np.max(am))]\n",
    "    am.remove(np.max(am))\n",
    "    ps.remove(lm3)\n",
    "    \n",
    "    lm4 = ps[am.index(np.max(am))]\n",
    "    am.remove(np.max(am))\n",
    "    \n",
    "    \n",
    "    for planet in range (1,11):\n",
    "        sys[rn2][planet] = dict() \n",
    "        te[rn2][planet] = dict()\n",
    "        \n",
    "        te[rn2][planet]['a'] = []\n",
    "        te[rn2][planet]['e'] = []\n",
    "        te[rn2][planet]['pericenter'] = []\n",
    "        te[rn2][planet]['log mass1_ratio'] = []\n",
    "        te[rn2][planet]['log mass2_ratio'] = []\n",
    "\n",
    "    \n",
    "        for timestep in range(len(data[rn2][planet])):\n",
    "            te[rn2][planet]['a'].append(float(data[rn2][planet][timestep]['a']))\n",
    "            te[rn2][planet]['e'].append(float(np.log10(data[rn2][planet][timestep]['e'])))\n",
    "\n",
    "            massPL = float(data[rn2][planet][timestep]['mass'])\n",
    "            aPL = float(data[rn2][planet][timestep]['a'])\n",
    "            ePL = float(data[rn2][planet][timestep]['e'])\n",
    "                \n",
    "            try:    \n",
    "                if (planet == lm2):\n",
    "                    m1 = float(data[rn2][lm3][0]['mass'])\n",
    "                    a1 = float(data[rn2][lm3][timestep]['a'])\n",
    "\n",
    "                    m2 = float(data[rn2][lm4][0]['mass'])\n",
    "                    a2 = float(data[rn2][lm4][timestep]['a'])\n",
    "\n",
    "                elif (planet == lm3):\n",
    "                    m1 = float(data[rn2][lm2][0]['mass'])\n",
    "                    a1 = float(data[rn2][lm2][timestep]['a'])\n",
    "\n",
    "                    m2 = float(data[rn2][lm4][0]['mass'])\n",
    "                    a2 = float(data[rn2][lm4][timestep]['a'])\n",
    "\n",
    "                else:\n",
    "                    m1 = float(data[rn2][lm2][0]['mass'])\n",
    "                    a1 = float(data[rn2][lm2][timestep]['a'])\n",
    "\n",
    "                    m2 = float(data[rn2][lm3][0]['mass'])\n",
    "                    a2 = float(data[rn2][lm3][timestep]['a'])\n",
    "                    \n",
    "                te[rn2][planet]['log mass1_ratio'].append(float(np.log10(massPL/m1)))\n",
    "                te[rn2][planet]['log mass2_ratio'].append(float(np.log10(massPL/m2)))\n",
    "                te[rn2][planet]['pericenter'].append(aPL*(1-ePL))\n",
    "                \n",
    "                \n",
    "            except:\n",
    "                pass\n",
    "            \n",
    "\n",
    "            \n",
    "for rn2 in range(1,101):\n",
    "    for planet in range(1,11):\n",
    "        sys[rn2][planet]['sd e'] = []\n",
    "        sys[rn2][planet]['max e'] = []\n",
    "        sys[rn2][planet]['cv pericenter'] = []\n",
    "        sys[rn2][planet]['log mass1_ratio'] = []\n",
    "        sys[rn2][planet]['log mass2_ratio'] = []\n",
    "        \n",
    "        for i in range(0, 11):\n",
    "            sys[rn2][planet]['log mass1_ratio'].append(np.average(te[rn2][planet]['log mass1_ratio'][i:i+10]))\n",
    "            sys[rn2][planet]['log mass2_ratio'].append(np.average(te[rn2][planet]['log mass2_ratio'][i:i+10]))\n",
    "            sys[rn2][planet]['sd e'].append(np.std(te[rn2][planet]['e'][i:i+10]))\n",
    "            sys[rn2][planet]['cv pericenter'].append(np.std(te[rn2][planet]['pericenter'][i:i+10])/np.mean(te[rn2][planet]['pericenter'][i:i+10]))\n",
    "            \n",
    "            try:\n",
    "                for em in range(i, i+10):\n",
    "                    temp = []\n",
    "                    temp.append(te[rn2][planet]['e'][em])\n",
    "\n",
    "                sys[rn2][planet]['max e'].append(np.max(temp))\n",
    "            except:\n",
    "                pass\n",
    "                \n",
    "                \n",
    "for rn2 in range(1,101):\n",
    "    for planet in range(1,11):\n",
    "        sys[rn2][planet]['fate'] = 'remaining'\n",
    "    \n",
    "    with open('/Users/neha/Documents/lanl/classifier/s. mordasini data/run'+str(rn2)+'/info.out', 'r') as file:\n",
    "        lines = file.readlines()\n",
    "        for line in lines:\n",
    "            if \"PL\" in line:\n",
    "                cols = line.split()\n",
    "                plnt = int(cols[0].split('L')[-1])\n",
    "                plnt2 = cols[4].split('L')[-1]\n",
    "                \n",
    "                if \"ejected\" in line:\n",
    "                    sys[rn2][plnt]['fate'] = \"ejected\"\n",
    "                elif \"collided with the central body\" in line:\n",
    "                    sys[rn2][plnt]['fate'] = \"central body collision\"\n",
    "                elif \"was hit by\" in line:\n",
    "                    sys[rn2][int(plnt2)]['fate'] = \"planet-planet collision\""
   ]
  },
  {
   "cell_type": "code",
   "execution_count": 156,
   "metadata": {},
   "outputs": [
    {
     "data": {
      "application/vnd.jupyter.widget-view+json": {
       "model_id": "7684753845af4031b141351318e95bfa",
       "version_major": 2,
       "version_minor": 0
      },
      "text/plain": [
       "HBox(children=(FloatProgress(value=0.0), HTML(value='')))"
      ]
     },
     "metadata": {},
     "output_type": "display_data"
    },
    {
     "name": "stderr",
     "output_type": "stream",
     "text": [
      "<ipython-input-156-2e771c9fc05d>:15: RuntimeWarning: More than 20 figures have been opened. Figures created through the pyplot interface (`matplotlib.pyplot.figure`) are retained until explicitly closed and may consume too much memory. (To control this warning, see the rcParam `figure.max_open_warning`).\n",
      "  fig, axs = plt.subplots(5, 1, figsize=(7,17), sharex=True)\n"
     ]
    },
    {
     "data": {
      "text/plain": [
       "<Figure size 504x1224 with 0 Axes>"
      ]
     },
     "metadata": {},
     "output_type": "display_data"
    },
    {
     "data": {
      "text/plain": [
       "<Figure size 504x1224 with 0 Axes>"
      ]
     },
     "metadata": {},
     "output_type": "display_data"
    },
    {
     "data": {
      "text/plain": [
       "<Figure size 504x1224 with 0 Axes>"
      ]
     },
     "metadata": {},
     "output_type": "display_data"
    },
    {
     "data": {
      "text/plain": [
       "<Figure size 504x1224 with 0 Axes>"
      ]
     },
     "metadata": {},
     "output_type": "display_data"
    },
    {
     "data": {
      "text/plain": [
       "<Figure size 504x1224 with 0 Axes>"
      ]
     },
     "metadata": {},
     "output_type": "display_data"
    },
    {
     "data": {
      "text/plain": [
       "<Figure size 504x1224 with 0 Axes>"
      ]
     },
     "metadata": {},
     "output_type": "display_data"
    },
    {
     "data": {
      "text/plain": [
       "<Figure size 504x1224 with 0 Axes>"
      ]
     },
     "metadata": {},
     "output_type": "display_data"
    },
    {
     "data": {
      "text/plain": [
       "<Figure size 504x1224 with 0 Axes>"
      ]
     },
     "metadata": {},
     "output_type": "display_data"
    },
    {
     "data": {
      "text/plain": [
       "<Figure size 504x1224 with 0 Axes>"
      ]
     },
     "metadata": {},
     "output_type": "display_data"
    },
    {
     "data": {
      "text/plain": [
       "<Figure size 504x1224 with 0 Axes>"
      ]
     },
     "metadata": {},
     "output_type": "display_data"
    },
    {
     "data": {
      "text/plain": [
       "<Figure size 504x1224 with 0 Axes>"
      ]
     },
     "metadata": {},
     "output_type": "display_data"
    },
    {
     "data": {
      "text/plain": [
       "<Figure size 504x1224 with 0 Axes>"
      ]
     },
     "metadata": {},
     "output_type": "display_data"
    },
    {
     "data": {
      "text/plain": [
       "<Figure size 504x1224 with 0 Axes>"
      ]
     },
     "metadata": {},
     "output_type": "display_data"
    },
    {
     "data": {
      "text/plain": [
       "<Figure size 504x1224 with 0 Axes>"
      ]
     },
     "metadata": {},
     "output_type": "display_data"
    },
    {
     "data": {
      "text/plain": [
       "<Figure size 504x1224 with 0 Axes>"
      ]
     },
     "metadata": {},
     "output_type": "display_data"
    },
    {
     "data": {
      "text/plain": [
       "<Figure size 504x1224 with 0 Axes>"
      ]
     },
     "metadata": {},
     "output_type": "display_data"
    },
    {
     "data": {
      "text/plain": [
       "<Figure size 504x1224 with 0 Axes>"
      ]
     },
     "metadata": {},
     "output_type": "display_data"
    },
    {
     "data": {
      "text/plain": [
       "<Figure size 504x1224 with 0 Axes>"
      ]
     },
     "metadata": {},
     "output_type": "display_data"
    },
    {
     "data": {
      "text/plain": [
       "<Figure size 504x1224 with 0 Axes>"
      ]
     },
     "metadata": {},
     "output_type": "display_data"
    },
    {
     "data": {
      "text/plain": [
       "<Figure size 504x1224 with 0 Axes>"
      ]
     },
     "metadata": {},
     "output_type": "display_data"
    },
    {
     "data": {
      "text/plain": [
       "<Figure size 504x1224 with 0 Axes>"
      ]
     },
     "metadata": {},
     "output_type": "display_data"
    },
    {
     "data": {
      "text/plain": [
       "<Figure size 504x1224 with 0 Axes>"
      ]
     },
     "metadata": {},
     "output_type": "display_data"
    },
    {
     "data": {
      "text/plain": [
       "<Figure size 504x1224 with 0 Axes>"
      ]
     },
     "metadata": {},
     "output_type": "display_data"
    },
    {
     "data": {
      "text/plain": [
       "<Figure size 504x1224 with 0 Axes>"
      ]
     },
     "metadata": {},
     "output_type": "display_data"
    },
    {
     "data": {
      "text/plain": [
       "<Figure size 504x1224 with 0 Axes>"
      ]
     },
     "metadata": {},
     "output_type": "display_data"
    },
    {
     "data": {
      "text/plain": [
       "<Figure size 504x1224 with 0 Axes>"
      ]
     },
     "metadata": {},
     "output_type": "display_data"
    },
    {
     "data": {
      "text/plain": [
       "<Figure size 504x1224 with 0 Axes>"
      ]
     },
     "metadata": {},
     "output_type": "display_data"
    },
    {
     "data": {
      "text/plain": [
       "<Figure size 504x1224 with 0 Axes>"
      ]
     },
     "metadata": {},
     "output_type": "display_data"
    },
    {
     "data": {
      "text/plain": [
       "<Figure size 504x1224 with 0 Axes>"
      ]
     },
     "metadata": {},
     "output_type": "display_data"
    },
    {
     "data": {
      "text/plain": [
       "<Figure size 504x1224 with 0 Axes>"
      ]
     },
     "metadata": {},
     "output_type": "display_data"
    },
    {
     "data": {
      "text/plain": [
       "<Figure size 504x1224 with 0 Axes>"
      ]
     },
     "metadata": {},
     "output_type": "display_data"
    },
    {
     "data": {
      "text/plain": [
       "<Figure size 504x1224 with 0 Axes>"
      ]
     },
     "metadata": {},
     "output_type": "display_data"
    },
    {
     "data": {
      "text/plain": [
       "<Figure size 504x1224 with 0 Axes>"
      ]
     },
     "metadata": {},
     "output_type": "display_data"
    },
    {
     "data": {
      "text/plain": [
       "<Figure size 504x1224 with 0 Axes>"
      ]
     },
     "metadata": {},
     "output_type": "display_data"
    },
    {
     "data": {
      "text/plain": [
       "<Figure size 504x1224 with 0 Axes>"
      ]
     },
     "metadata": {},
     "output_type": "display_data"
    },
    {
     "data": {
      "text/plain": [
       "<Figure size 504x1224 with 0 Axes>"
      ]
     },
     "metadata": {},
     "output_type": "display_data"
    },
    {
     "data": {
      "text/plain": [
       "<Figure size 504x1224 with 0 Axes>"
      ]
     },
     "metadata": {},
     "output_type": "display_data"
    },
    {
     "data": {
      "text/plain": [
       "<Figure size 504x1224 with 0 Axes>"
      ]
     },
     "metadata": {},
     "output_type": "display_data"
    },
    {
     "data": {
      "text/plain": [
       "<Figure size 504x1224 with 0 Axes>"
      ]
     },
     "metadata": {},
     "output_type": "display_data"
    },
    {
     "data": {
      "text/plain": [
       "<Figure size 504x1224 with 0 Axes>"
      ]
     },
     "metadata": {},
     "output_type": "display_data"
    },
    {
     "data": {
      "text/plain": [
       "<Figure size 504x1224 with 0 Axes>"
      ]
     },
     "metadata": {},
     "output_type": "display_data"
    },
    {
     "data": {
      "text/plain": [
       "<Figure size 504x1224 with 0 Axes>"
      ]
     },
     "metadata": {},
     "output_type": "display_data"
    },
    {
     "data": {
      "text/plain": [
       "<Figure size 504x1224 with 0 Axes>"
      ]
     },
     "metadata": {},
     "output_type": "display_data"
    },
    {
     "data": {
      "text/plain": [
       "<Figure size 504x1224 with 0 Axes>"
      ]
     },
     "metadata": {},
     "output_type": "display_data"
    },
    {
     "data": {
      "text/plain": [
       "<Figure size 504x1224 with 0 Axes>"
      ]
     },
     "metadata": {},
     "output_type": "display_data"
    },
    {
     "data": {
      "text/plain": [
       "<Figure size 504x1224 with 0 Axes>"
      ]
     },
     "metadata": {},
     "output_type": "display_data"
    },
    {
     "data": {
      "text/plain": [
       "<Figure size 504x1224 with 0 Axes>"
      ]
     },
     "metadata": {},
     "output_type": "display_data"
    },
    {
     "data": {
      "text/plain": [
       "<Figure size 504x1224 with 0 Axes>"
      ]
     },
     "metadata": {},
     "output_type": "display_data"
    },
    {
     "data": {
      "text/plain": [
       "<Figure size 504x1224 with 0 Axes>"
      ]
     },
     "metadata": {},
     "output_type": "display_data"
    },
    {
     "data": {
      "text/plain": [
       "<Figure size 504x1224 with 0 Axes>"
      ]
     },
     "metadata": {},
     "output_type": "display_data"
    },
    {
     "data": {
      "text/plain": [
       "<Figure size 504x1224 with 0 Axes>"
      ]
     },
     "metadata": {},
     "output_type": "display_data"
    },
    {
     "data": {
      "text/plain": [
       "<Figure size 504x1224 with 0 Axes>"
      ]
     },
     "metadata": {},
     "output_type": "display_data"
    },
    {
     "data": {
      "text/plain": [
       "<Figure size 504x1224 with 0 Axes>"
      ]
     },
     "metadata": {},
     "output_type": "display_data"
    },
    {
     "data": {
      "text/plain": [
       "<Figure size 504x1224 with 0 Axes>"
      ]
     },
     "metadata": {},
     "output_type": "display_data"
    },
    {
     "data": {
      "text/plain": [
       "<Figure size 504x1224 with 0 Axes>"
      ]
     },
     "metadata": {},
     "output_type": "display_data"
    },
    {
     "data": {
      "text/plain": [
       "<Figure size 504x1224 with 0 Axes>"
      ]
     },
     "metadata": {},
     "output_type": "display_data"
    },
    {
     "data": {
      "text/plain": [
       "<Figure size 504x1224 with 0 Axes>"
      ]
     },
     "metadata": {},
     "output_type": "display_data"
    },
    {
     "data": {
      "text/plain": [
       "<Figure size 504x1224 with 0 Axes>"
      ]
     },
     "metadata": {},
     "output_type": "display_data"
    },
    {
     "data": {
      "text/plain": [
       "<Figure size 504x1224 with 0 Axes>"
      ]
     },
     "metadata": {},
     "output_type": "display_data"
    },
    {
     "data": {
      "text/plain": [
       "<Figure size 504x1224 with 0 Axes>"
      ]
     },
     "metadata": {},
     "output_type": "display_data"
    },
    {
     "data": {
      "text/plain": [
       "<Figure size 504x1224 with 0 Axes>"
      ]
     },
     "metadata": {},
     "output_type": "display_data"
    },
    {
     "data": {
      "text/plain": [
       "<Figure size 504x1224 with 0 Axes>"
      ]
     },
     "metadata": {},
     "output_type": "display_data"
    },
    {
     "data": {
      "text/plain": [
       "<Figure size 504x1224 with 0 Axes>"
      ]
     },
     "metadata": {},
     "output_type": "display_data"
    },
    {
     "data": {
      "text/plain": [
       "<Figure size 504x1224 with 0 Axes>"
      ]
     },
     "metadata": {},
     "output_type": "display_data"
    },
    {
     "data": {
      "text/plain": [
       "<Figure size 504x1224 with 0 Axes>"
      ]
     },
     "metadata": {},
     "output_type": "display_data"
    },
    {
     "data": {
      "text/plain": [
       "<Figure size 504x1224 with 0 Axes>"
      ]
     },
     "metadata": {},
     "output_type": "display_data"
    },
    {
     "data": {
      "text/plain": [
       "<Figure size 504x1224 with 0 Axes>"
      ]
     },
     "metadata": {},
     "output_type": "display_data"
    },
    {
     "data": {
      "text/plain": [
       "<Figure size 504x1224 with 0 Axes>"
      ]
     },
     "metadata": {},
     "output_type": "display_data"
    },
    {
     "data": {
      "text/plain": [
       "<Figure size 504x1224 with 0 Axes>"
      ]
     },
     "metadata": {},
     "output_type": "display_data"
    },
    {
     "data": {
      "text/plain": [
       "<Figure size 504x1224 with 0 Axes>"
      ]
     },
     "metadata": {},
     "output_type": "display_data"
    },
    {
     "data": {
      "text/plain": [
       "<Figure size 504x1224 with 0 Axes>"
      ]
     },
     "metadata": {},
     "output_type": "display_data"
    },
    {
     "data": {
      "text/plain": [
       "<Figure size 504x1224 with 0 Axes>"
      ]
     },
     "metadata": {},
     "output_type": "display_data"
    },
    {
     "data": {
      "text/plain": [
       "<Figure size 504x1224 with 0 Axes>"
      ]
     },
     "metadata": {},
     "output_type": "display_data"
    },
    {
     "data": {
      "text/plain": [
       "<Figure size 504x1224 with 0 Axes>"
      ]
     },
     "metadata": {},
     "output_type": "display_data"
    },
    {
     "data": {
      "text/plain": [
       "<Figure size 504x1224 with 0 Axes>"
      ]
     },
     "metadata": {},
     "output_type": "display_data"
    },
    {
     "data": {
      "text/plain": [
       "<Figure size 504x1224 with 0 Axes>"
      ]
     },
     "metadata": {},
     "output_type": "display_data"
    },
    {
     "data": {
      "text/plain": [
       "<Figure size 504x1224 with 0 Axes>"
      ]
     },
     "metadata": {},
     "output_type": "display_data"
    },
    {
     "data": {
      "text/plain": [
       "<Figure size 504x1224 with 0 Axes>"
      ]
     },
     "metadata": {},
     "output_type": "display_data"
    },
    {
     "data": {
      "text/plain": [
       "<Figure size 504x1224 with 0 Axes>"
      ]
     },
     "metadata": {},
     "output_type": "display_data"
    },
    {
     "data": {
      "text/plain": [
       "<Figure size 504x1224 with 0 Axes>"
      ]
     },
     "metadata": {},
     "output_type": "display_data"
    },
    {
     "data": {
      "text/plain": [
       "<Figure size 504x1224 with 0 Axes>"
      ]
     },
     "metadata": {},
     "output_type": "display_data"
    },
    {
     "data": {
      "text/plain": [
       "<Figure size 504x1224 with 0 Axes>"
      ]
     },
     "metadata": {},
     "output_type": "display_data"
    },
    {
     "data": {
      "text/plain": [
       "<Figure size 504x1224 with 0 Axes>"
      ]
     },
     "metadata": {},
     "output_type": "display_data"
    },
    {
     "data": {
      "text/plain": [
       "<Figure size 504x1224 with 0 Axes>"
      ]
     },
     "metadata": {},
     "output_type": "display_data"
    },
    {
     "data": {
      "text/plain": [
       "<Figure size 504x1224 with 0 Axes>"
      ]
     },
     "metadata": {},
     "output_type": "display_data"
    },
    {
     "data": {
      "text/plain": [
       "<Figure size 504x1224 with 0 Axes>"
      ]
     },
     "metadata": {},
     "output_type": "display_data"
    },
    {
     "data": {
      "text/plain": [
       "<Figure size 504x1224 with 0 Axes>"
      ]
     },
     "metadata": {},
     "output_type": "display_data"
    },
    {
     "data": {
      "text/plain": [
       "<Figure size 504x1224 with 0 Axes>"
      ]
     },
     "metadata": {},
     "output_type": "display_data"
    },
    {
     "data": {
      "text/plain": [
       "<Figure size 504x1224 with 0 Axes>"
      ]
     },
     "metadata": {},
     "output_type": "display_data"
    },
    {
     "data": {
      "text/plain": [
       "<Figure size 504x1224 with 0 Axes>"
      ]
     },
     "metadata": {},
     "output_type": "display_data"
    },
    {
     "data": {
      "text/plain": [
       "<Figure size 504x1224 with 0 Axes>"
      ]
     },
     "metadata": {},
     "output_type": "display_data"
    },
    {
     "data": {
      "text/plain": [
       "<Figure size 504x1224 with 0 Axes>"
      ]
     },
     "metadata": {},
     "output_type": "display_data"
    },
    {
     "data": {
      "text/plain": [
       "<Figure size 504x1224 with 0 Axes>"
      ]
     },
     "metadata": {},
     "output_type": "display_data"
    },
    {
     "data": {
      "text/plain": [
       "<Figure size 504x1224 with 0 Axes>"
      ]
     },
     "metadata": {},
     "output_type": "display_data"
    },
    {
     "data": {
      "text/plain": [
       "<Figure size 504x1224 with 0 Axes>"
      ]
     },
     "metadata": {},
     "output_type": "display_data"
    },
    {
     "data": {
      "text/plain": [
       "<Figure size 504x1224 with 0 Axes>"
      ]
     },
     "metadata": {},
     "output_type": "display_data"
    },
    {
     "data": {
      "text/plain": [
       "<Figure size 504x1224 with 0 Axes>"
      ]
     },
     "metadata": {},
     "output_type": "display_data"
    },
    {
     "data": {
      "text/plain": [
       "<Figure size 504x1224 with 0 Axes>"
      ]
     },
     "metadata": {},
     "output_type": "display_data"
    },
    {
     "data": {
      "text/plain": [
       "<Figure size 504x1224 with 0 Axes>"
      ]
     },
     "metadata": {},
     "output_type": "display_data"
    },
    {
     "data": {
      "text/plain": [
       "<Figure size 504x1224 with 0 Axes>"
      ]
     },
     "metadata": {},
     "output_type": "display_data"
    }
   ],
   "source": [
    "feats = ['log mass1_ratio', 'log mass2_ratio', 'max e', 'sd e', 'cv pericenter']\n",
    "\n",
    "\n",
    "xs = []\n",
    "\n",
    "for f in range(len(sys[1][1]['max e'])):\n",
    "    xs.append(f * 13.689)    \n",
    "    \n",
    "    \n",
    "pbar = tqdm(total = 100)\n",
    "fil = PdfPages('time stamping 2.pdf')\n",
    "\n",
    "\n",
    "for s in range(1,101):    \n",
    "    fig, axs = plt.subplots(5, 1, figsize=(7,17), sharex=True)\n",
    "    plt.suptitle('System ' + str(s), fontweight='bold')\n",
    "\n",
    "    for f in range(len(feats)):\n",
    "        for p in range(1,11):\n",
    "            col = 'white'\n",
    "            \n",
    "            if sys[s][p]['fate'] == 'remaining':\n",
    "                col = 'green'\n",
    "            else:\n",
    "                col = 'lightsteelblue'\n",
    "            \n",
    "            try:\n",
    "                axs[f].plot(xs, sys[s][p][feats[f]], color = col)\n",
    "            except:\n",
    "                xs2 = []\n",
    "                \n",
    "                for i in range(len(sys[s][p][feats[f]])):\n",
    "                    xs2.append(i * 13.689)\n",
    "                \n",
    "                axs[f].plot(xs2, sys[s][p][feats[f]], color = col)\n",
    "\n",
    "            \n",
    "        axs[0].set_ylabel('log mass1 ratio')\n",
    "        axs[1].set_ylabel('log mass2 ratio')\n",
    "        axs[2].set_ylabel('max e')\n",
    "        axs[3].set_ylabel('sd e')\n",
    "        axs[4].set_ylabel('cv pericenter')\n",
    "        \n",
    "\n",
    "    plt.tight_layout()\n",
    "    plt.subplots_adjust(top=0.96)\n",
    "    \n",
    "    fil.savefig()\n",
    "    plt.clf()\n",
    "    pbar.update()\n",
    "    \n",
    "fil.close()"
   ]
  },
  {
   "cell_type": "markdown",
   "metadata": {},
   "source": [
    "## revised attempt number 2"
   ]
  },
  {
   "cell_type": "markdown",
   "metadata": {},
   "source": [
    "#### with lines colored by classification"
   ]
  },
  {
   "cell_type": "code",
   "execution_count": 156,
   "metadata": {},
   "outputs": [],
   "source": [
    "planets = pd.read_csv('2-3 mm.csv', skipinitialspace=True)\n",
    "\n",
    "fates = list(set(planets['fate']))\n",
    "\n",
    "types = {fates[i] : i for i in range(len(fates))}\n",
    "\n",
    "classes = []\n",
    "\n",
    "for i in range(len(planets['fate'])):\n",
    "    if planets['fate'][i] == \"remaining\":\n",
    "        classes += [0]\n",
    "    else:\n",
    "        classes += [1]\n",
    "        \n",
    "classes = np.array(classes)"
   ]
  },
  {
   "cell_type": "code",
   "execution_count": 161,
   "metadata": {},
   "outputs": [
    {
     "name": "stderr",
     "output_type": "stream",
     "text": [
      "/Users/neha/opt/anaconda3/lib/python3.8/site-packages/pandas/core/frame.py:4308: SettingWithCopyWarning: \n",
      "A value is trying to be set on a copy of a slice from a DataFrame\n",
      "\n",
      "See the caveats in the documentation: https://pandas.pydata.org/pandas-docs/stable/user_guide/indexing.html#returning-a-view-versus-a-copy\n",
      "  return super().drop(\n"
     ]
    }
   ],
   "source": [
    "features_train, features_test, classes_train, classes_test = train_test_split(planets, classes, test_size=0.3, random_state=1)\n",
    "\n",
    "ru = features_test['run'].to_numpy()\n",
    "p = features_test['planet'].to_numpy()\n",
    "e = features_test['end time'].to_numpy()\n",
    "fa = features_test['fate'].to_numpy()\n",
    "\n",
    "ru2 = features_train['run'].to_numpy()\n",
    "p2 = features_train['planet'].to_numpy()\n",
    "e2 = features_train['end time'].to_numpy()\n",
    "fa2 = features_train['fate'].to_numpy()\n",
    "\n",
    "d = ['run', 'planet', 'fate', 'end time', 'initial pericenter',\n",
    "       'final pericenter', 'mean pericenter', 'min pericenter',\n",
    "       'max pericenter', 'sd pericenter', 'initial jacobi', 'final jacobi',\n",
    "       'mean jacobi', 'min jacobi', 'max jacobi', 'sd jacobi', 'final log mass1_ratio',\n",
    "       'mean log mass1_ratio', 'min log mass1_ratio', 'max log mass1_ratio',\n",
    "       'sd log mass1_ratio', 'final log mass2_ratio', \n",
    "       'mean log mass2_ratio', 'min log mass2_ratio',\n",
    "       'max log mass2_ratio', 'sd log mass2_ratio']\n",
    "\n",
    "\n",
    "e = ['e']\n",
    "mhr1 = ['mhr1']\n",
    "mhr2 = ['mhr2']\n",
    "a2 = ['log a2_ratio']\n",
    "\n",
    "a1 = ['log a1_ratio']\n",
    "o = ['i', 'a']\n",
    "\n",
    "for v in mhr1:\n",
    "    d.append('initial ' + str(v))\n",
    "    d.append('final ' + str(v))\n",
    "    d.append('mean ' + str(v))\n",
    "    d.append('min ' + str(v))\n",
    "#     d.append('max ' + str(v))\n",
    "#     d.append('sd ' + str(v))\n",
    "\n",
    "for v in mhr2:\n",
    "    d.append('initial ' + str(v))\n",
    "    d.append('final ' + str(v))\n",
    "    d.append('mean ' + str(v))\n",
    "    d.append('min ' + str(v))\n",
    "    d.append('max ' + str(v))\n",
    "#     d.append('sd ' + str(v))\n",
    "\n",
    "for v in e:\n",
    "    d.append('initial ' + str(v))\n",
    "    d.append('final ' + str(v))\n",
    "    d.append('mean ' + str(v))\n",
    "#     d.append('min ' + str(v))\n",
    "#     d.append('max ' + str(v))\n",
    "#     d.append('sd ' + str(v))\n",
    "    d.append('cv ' + str(v))\n",
    "    \n",
    "for v in a2:\n",
    "    d.append('initial ' + str(v))\n",
    "    d.append('final ' + str(v))\n",
    "    d.append('mean ' + str(v))\n",
    "    d.append('min ' + str(v))\n",
    "    d.append('max ' + str(v))\n",
    "    d.append('sd ' + str(v))\n",
    "\n",
    "for v in a1:\n",
    "    d.append('initial ' + str(v))\n",
    "    d.append('final ' + str(v))\n",
    "#     d.append('mean ' + str(v))\n",
    "#     d.append('min ' + str(v))\n",
    "    d.append('max ' + str(v))\n",
    "#     d.append('sd ' + str(v))\n",
    "\n",
    "for v in o:\n",
    "    if v == 'i':\n",
    "        d.append('initial ' + str(v))\n",
    "        d.append('final ' + str(v))\n",
    "        d.append('mean ' + str(v))\n",
    "        d.append('min ' + str(v))\n",
    "        d.append('max ' + str(v))\n",
    "#         d.append('sd ' + str(v))\n",
    "#         d.append('cv ' + str(v))\n",
    "    else:\n",
    "        d.append('cv ' + str(v))\n",
    "            \n",
    "      \n",
    "ids_train = features_train['planet'].to_numpy()\n",
    "features_train.drop(d, axis=1, inplace=True)\n",
    "\n",
    "cols = features_train.columns\n",
    "features_train = features_train.to_numpy()\n",
    "\n",
    "ids_test = features_test['planet'].to_numpy()\n",
    "features_test.drop(d, axis=1, inplace=True)\n",
    "features_test = features_test.to_numpy()"
   ]
  },
  {
   "cell_type": "code",
   "execution_count": 162,
   "metadata": {},
   "outputs": [],
   "source": [
    "classifier = GradientBoostingClassifier(random_state=1)\n",
    "\n",
    "classifier.fit(features_train, classes_train)\n",
    "\n",
    "score = classifier.decision_function(features_test)\n",
    "classes_predict = classifier.predict(features_test)"
   ]
  },
  {
   "cell_type": "code",
   "execution_count": 163,
   "metadata": {},
   "outputs": [],
   "source": [
    "pred = cross_val_predict(classifier, features_train, classes_train, cv=10)\n",
    "\n",
    "fate = []\n",
    "\n",
    "for i in range(len(fa)):\n",
    "    if (fa[i] == 'remaining'):\n",
    "        fate.append(0)\n",
    "    else:\n",
    "        fate.append(1)\n",
    "        \n",
    "        \n",
    "        \n",
    "test_tup = [(ru[i], p[i]) for i in range (len(ru))]\n",
    "all_dict = {}\n",
    "for i in range(len(ru)):\n",
    "    tt = test_tup[i]\n",
    "    all_dict[tt] = {}\n",
    "    all_dict[tt]['outcome'] = classes_test[i]\n",
    "    all_dict[tt]['predict'] = classes_predict[i]\n",
    "    all_dict[tt]['type'] = 'test'\n",
    "    \n",
    "    \n",
    "test_tup = [(ru2[i], p2[i]) for i in range (len(ru2))]    \n",
    "for i in range(len(ru2)):\n",
    "    tt = test_tup[i]\n",
    "    all_dict[tt] = {}\n",
    "    all_dict[tt]['outcome'] = classes_train[i]\n",
    "    all_dict[tt]['predict'] = pred[i]\n",
    "    all_dict[tt]['type'] = 'train'"
   ]
  },
  {
   "cell_type": "markdown",
   "metadata": {},
   "source": [
    "#### graphing"
   ]
  },
  {
   "cell_type": "code",
   "execution_count": null,
   "metadata": {},
   "outputs": [],
   "source": [
    "feats = ['log mass1_ratio', 'log mass2_ratio', 'max e', 'sd e', 'cv pericenter']\n",
    "\n",
    "\n",
    "pbar = tqdm(total = 100)\n",
    "fil = PdfPages('time stamping revised all feats.pdf')\n",
    "\n",
    "for rn in range(1,101):\n",
    "    data = dict()\n",
    "    \n",
    "    for planetnum in range(1,11):\n",
    "        data[planetnum] = dict()\n",
    "        pl = genfromtxt(r'/Users/neha/Documents/lanl/classifier/s. mordasini data/run'+str(rn)+'/PL'+str(planetnum)+'.el',skip_header=2,max_rows=36561)\n",
    "        \n",
    "        for time in range(len(pl)):\n",
    "            data[planetnum][time] = dict()\n",
    "            \n",
    "            try:\n",
    "                data[planetnum][time]['mass'] = pl[time][1]\n",
    "                data[planetnum][time]['a'] = pl[time][2]\n",
    "                data[planetnum][time]['e'] = pl[time][3]\n",
    "            except:\n",
    "                data[planetnum][time]['mass'] = pl[1]\n",
    "                data[planetnum][time]['a'] = pl[2]\n",
    "                data[planetnum][time]['e'] = pl[3]\n",
    "                \n",
    "      \n",
    "    sys = dict()\n",
    "    te = dict()\n",
    "    \n",
    "    am = []\n",
    "    ps = []\n",
    "\n",
    "    for p in range(1,11):\n",
    "        ps.append(p)\n",
    "        am.append(data[p][0]['mass'])                \n",
    "\n",
    "    lm = ps[am.index(np.max(am))]\n",
    "\n",
    "    am.remove(np.max(am))\n",
    "    ps.remove(lm)\n",
    "\n",
    "    lm2 = ps[am.index(np.max(am))]\n",
    "    am.remove(np.max(am))\n",
    "    ps.remove(lm2)\n",
    "\n",
    "    lm3 = ps[am.index(np.max(am))]\n",
    "    am.remove(np.max(am))\n",
    "    ps.remove(lm3)\n",
    "\n",
    "    lm4 = ps[am.index(np.max(am))]\n",
    "    am.remove(np.max(am))\n",
    "    \n",
    "    \n",
    "    for planet in range (1,11):\n",
    "        sys[planet] = dict() \n",
    "        te[planet] = dict()\n",
    "\n",
    "        te[planet]['a'] = []\n",
    "        te[planet]['e'] = []\n",
    "        te[planet]['pericenter'] = []\n",
    "        te[planet]['log mass1_ratio'] = []\n",
    "        te[planet]['log mass2_ratio'] = []\n",
    "\n",
    "    \n",
    "        for timestep in range(len(data[planet])):\n",
    "            te[planet]['a'].append(float(data[planet][timestep]['a']))\n",
    "            te[planet]['e'].append(float(data[planet][timestep]['e']))\n",
    "\n",
    "            massPL = float(data[planet][timestep]['mass'])\n",
    "            aPL = float(data[planet][timestep]['a'])\n",
    "            ePL = float(data[planet][timestep]['e'])\n",
    "            te[planet]['pericenter'].append(aPL*(1-ePL))    \n",
    "                \n",
    "            try:    \n",
    "                if (planet == lm2):\n",
    "                    m1 = float(data[lm3][0]['mass'])\n",
    "                    a1 = float(data[lm3][timestep]['a'])\n",
    "\n",
    "                    m2 = float(data[lm4][0]['mass'])\n",
    "                    a2 = float(data[lm4][timestep]['a'])\n",
    "\n",
    "                elif (planet == lm3):\n",
    "                    m1 = float(data[lm2][0]['mass'])\n",
    "                    a1 = float(data[lm2][timestep]['a'])\n",
    "\n",
    "                    m2 = float(data[lm4][0]['mass'])\n",
    "                    a2 = float(data[lm4][timestep]['a'])\n",
    "\n",
    "                else:\n",
    "                    m1 = float(data[lm2][0]['mass'])\n",
    "                    a1 = float(data[lm2][timestep]['a'])\n",
    "\n",
    "                    m2 = float(data[lm3][0]['mass'])\n",
    "                    a2 = float(data[lm3][timestep]['a'])\n",
    "\n",
    "                te[planet]['log mass1_ratio'].append(float(np.log10(massPL/m1)))\n",
    "                te[planet]['log mass2_ratio'].append(float(np.log10(massPL/m2)))\n",
    "                \n",
    "                \n",
    "            except:\n",
    "                pass\n",
    "            \n",
    "\n",
    "    for planet in range(1,11):\n",
    "        sys[planet]['sd e'] = []\n",
    "        sys[planet]['max e'] = []\n",
    "        sys[planet]['cv pericenter'] = []\n",
    "        sys[planet]['log mass1_ratio'] = []\n",
    "        sys[planet]['log mass2_ratio'] = []\n",
    "        \n",
    "        temp = []\n",
    "        for i in range(len(data[planet])-10):\n",
    "            sys[planet]['sd e'].append(np.std(te[planet]['e'][i:i+10]))\n",
    "            sys[planet]['cv pericenter'].append(np.std(te[planet]['pericenter'][i:i+10])/np.mean(te[planet]['pericenter'][i:i+10]))\n",
    "            \n",
    "            temp.append(te[planet]['e'][i])\n",
    "            sys[planet]['max e'].append(np.max(temp))\n",
    "            \n",
    "            try:\n",
    "                sys[planet]['log mass1_ratio'].append(np.average(te[planet]['log mass1_ratio'][i:i+10]))\n",
    "                sys[planet]['log mass2_ratio'].append(np.average(te[planet]['log mass2_ratio'][i:i+10]))\n",
    "            except:\n",
    "                pass\n",
    "                \n",
    "                \n",
    "    for planet in range(1,11):\n",
    "        sys[planet]['fate'] = 'remaining'\n",
    "\n",
    "        with open('/Users/neha/Documents/lanl/classifier/s. mordasini data/run'+str(rn)+'/info.out', 'r') as file:\n",
    "            lines = file.readlines()\n",
    "            for line in lines:\n",
    "                if \"PL\" in line:\n",
    "                    cols = line.split()\n",
    "                    plnt = int(cols[0].split('L')[-1])\n",
    "                    plnt2 = cols[4].split('L')[-1]\n",
    "\n",
    "                    if \"ejected\" in line:\n",
    "                        sys[plnt]['fate'] = \"ejected\"\n",
    "                    elif \"collided with the central body\" in line:\n",
    "                        sys[plnt]['fate'] = \"central body collision\"\n",
    "                    elif \"was hit by\" in line:\n",
    "                        sys[int(plnt2)]['fate'] = \"planet-planet collision\"\n",
    "                    \n",
    "                    \n",
    "                 \n",
    "    fig, axs = plt.subplots(5, 2, figsize=(22,17))#, sharey='row'\n",
    "    plt.suptitle('System ' + str(rn), fontweight='bold')\n",
    "\n",
    "    for f in range(len(feats)):\n",
    "        for p in range(1,11):\n",
    "            col = 'white'\n",
    "            zord = 1\n",
    "            alp = 1\n",
    "            lw = 1.25\n",
    "\n",
    "            if (all_dict[rn, p]['outcome'] == all_dict[rn, p]['predict']):\n",
    "                if (all_dict[rn, p]['outcome'] == 1): # unstable\n",
    "                    col = 'lightsteelblue'\n",
    "                else:\n",
    "                    col = 'darkgoldenrod'  \n",
    "            else:\n",
    "                zord = 3\n",
    "                if (all_dict[rn, p]['outcome'] == 1): # true unstable, predicted stable\n",
    "                    col = 'mediumseagreen'\n",
    "                else:\n",
    "                    col = 'coral'\n",
    "                    \n",
    "            if (all_dict[rn, p]['type'] == 'train'):\n",
    "                alp = 0.7\n",
    "            \n",
    "            \n",
    "            xs2 = []\n",
    "\n",
    "            for i in range(len(sys[p][feats[f]])):\n",
    "                xs2.append(i * 13.689)\n",
    "\n",
    "                \n",
    "            if (feats[f] == 'log mass2_ratio' or feats[f] == 'log mass1_ratio'):\n",
    "                lw = 2\n",
    "                \n",
    "            axs[f, 0].plot(xs2, sys[p][feats[f]], color = col, zorder = zord, alpha = alp, linewidth = lw)\n",
    "            axs[f, 1].plot(xs2, sys[p][feats[f]], color = col, zorder = zord, alpha = alp, linewidth = lw)\n",
    "                \n",
    "    \n",
    "    for i in range(len(feats)):\n",
    "        axs[i, 0].set_xlim(-2, 125)\n",
    "\n",
    "    for i in range(len(feats)):\n",
    "        axs[i, 1].set_xlim(-2, 500000)\n",
    "        \n",
    "    axs[0, 0].set_ylabel('log mass1 ratio')\n",
    "    axs[1, 0].set_ylabel('log mass2 ratio')\n",
    "    axs[2, 0].set_ylabel('max e')\n",
    "    axs[3, 0].set_ylabel('sd e')\n",
    "    axs[4, 0].set_ylabel('cv pericenter')\n",
    "\n",
    "\n",
    "    plt.tight_layout()\n",
    "    plt.subplots_adjust(top=0.96)\n",
    "    \n",
    "    fil.savefig()\n",
    "    plt.clf()\n",
    "    pbar.update()\n",
    "    \n",
    "fil.close()"
   ]
  },
  {
   "cell_type": "code",
   "execution_count": 203,
   "metadata": {},
   "outputs": [
    {
     "data": {
      "application/vnd.jupyter.widget-view+json": {
       "model_id": "92bab81f2aaa4c8f86f6bc26f183b8ff",
       "version_major": 2,
       "version_minor": 0
      },
      "text/plain": [
       "HBox(children=(FloatProgress(value=0.0), HTML(value='')))"
      ]
     },
     "metadata": {},
     "output_type": "display_data"
    }
   ],
   "source": [
    "pbar = tqdm(total = 100)\n",
    "\n",
    "data = dict()\n",
    "\n",
    "for rn in range(1,101):\n",
    "    data[rn] = dict()\n",
    "    \n",
    "    for planetnum in range(1,11):\n",
    "        data[rn][planetnum] = dict()\n",
    "        pl = genfromtxt(r'/Users/neha/Documents/lanl/classifier/s. mordasini data/run'+str(rn)+'/PL'+str(planetnum)+'.el',skip_header=2,max_rows=36561)\n",
    "        \n",
    "        for time in range(len(pl)):\n",
    "            data[rn][planetnum][time] = dict()\n",
    "            \n",
    "            try:\n",
    "                data[rn][planetnum][time]['mass'] = pl[time][1]\n",
    "                data[rn][planetnum][time]['a'] = pl[time][2]\n",
    "                data[rn][planetnum][time]['e'] = pl[time][3]\n",
    "            except:\n",
    "                data[rn][planetnum][time]['mass'] = pl[1]\n",
    "                data[rn][planetnum][time]['a'] = pl[2]\n",
    "                data[rn][planetnum][time]['e'] = pl[3]\n",
    "                \n",
    "    pbar.update()"
   ]
  },
  {
   "cell_type": "code",
   "execution_count": 205,
   "metadata": {},
   "outputs": [
    {
     "data": {
      "application/vnd.jupyter.widget-view+json": {
       "model_id": "1c9c89c662094587b2a4b5849514a09d",
       "version_major": 2,
       "version_minor": 0
      },
      "text/plain": [
       "HBox(children=(FloatProgress(value=0.0), HTML(value='')))"
      ]
     },
     "metadata": {},
     "output_type": "display_data"
    }
   ],
   "source": [
    "pbar = tqdm(total = 100)\n",
    "\n",
    "sys = dict()\n",
    "te = dict()\n",
    "    \n",
    "for rn in range(1,101):\n",
    "    sys[rn] = dict()\n",
    "    te[rn] = dict()\n",
    "    \n",
    "    am = []\n",
    "    ps = []\n",
    "\n",
    "    for p in range(1,11):\n",
    "        ps.append(p)\n",
    "        am.append(data[rn][p][0]['mass'])                \n",
    "\n",
    "    lm = ps[am.index(np.max(am))]\n",
    "\n",
    "    am.remove(np.max(am))\n",
    "    ps.remove(lm)\n",
    "\n",
    "    lm2 = ps[am.index(np.max(am))]\n",
    "    am.remove(np.max(am))\n",
    "    ps.remove(lm2)\n",
    "\n",
    "    lm3 = ps[am.index(np.max(am))]\n",
    "    am.remove(np.max(am))\n",
    "    ps.remove(lm3)\n",
    "\n",
    "    lm4 = ps[am.index(np.max(am))]\n",
    "    am.remove(np.max(am))\n",
    "    \n",
    "    \n",
    "    for planet in range (1,11):\n",
    "        sys[rn][planet] = dict() \n",
    "        te[rn][planet] = dict()\n",
    "\n",
    "        te[rn][planet]['a'] = []\n",
    "        te[rn][planet]['e'] = []\n",
    "        te[rn][planet]['pericenter'] = []\n",
    "        te[rn][planet]['log mass1_ratio'] = []\n",
    "        te[rn][planet]['log mass2_ratio'] = []\n",
    "\n",
    "    \n",
    "        for timestep in range(len(data[rn][planet])):\n",
    "            te[rn][planet]['a'].append(float(data[rn][planet][timestep]['a']))\n",
    "            te[rn][planet]['e'].append(float(data[rn][planet][timestep]['e']))\n",
    "\n",
    "            massPL = float(data[rn][planet][timestep]['mass'])\n",
    "            aPL = float(data[rn][planet][timestep]['a'])\n",
    "            ePL = float(data[rn][planet][timestep]['e'])\n",
    "            te[rn][planet]['pericenter'].append(aPL*(1-ePL))    \n",
    "                \n",
    "            try:    \n",
    "                if (planet == lm2):\n",
    "                    m1 = float(data[rn][lm3][0]['mass'])\n",
    "                    a1 = float(data[rn][lm3][timestep]['a'])\n",
    "\n",
    "                    m2 = float(data[rn][lm4][0]['mass'])\n",
    "                    a2 = float(data[rn][lm4][timestep]['a'])\n",
    "\n",
    "                elif (planet == lm3):\n",
    "                    m1 = float(data[rn][lm2][0]['mass'])\n",
    "                    a1 = float(data[rn][lm2][timestep]['a'])\n",
    "\n",
    "                    m2 = float(data[rn][lm4][0]['mass'])\n",
    "                    a2 = float(data[rn][lm4][timestep]['a'])\n",
    "\n",
    "                else:\n",
    "                    m1 = float(data[rn][lm2][0]['mass'])\n",
    "                    a1 = float(data[rn][lm2][timestep]['a'])\n",
    "\n",
    "                    m2 = float(data[rn][lm3][0]['mass'])\n",
    "                    a2 = float(data[rn][lm3][timestep]['a'])\n",
    "\n",
    "                te[rn][planet]['log mass1_ratio'].append(float(np.log10(massPL/m1)))\n",
    "                te[rn][planet]['log mass2_ratio'].append(float(np.log10(massPL/m2)))\n",
    "                \n",
    "                \n",
    "            except:\n",
    "                pass\n",
    "            \n",
    "    pbar.update()"
   ]
  },
  {
   "cell_type": "code",
   "execution_count": 224,
   "metadata": {},
   "outputs": [
    {
     "data": {
      "application/vnd.jupyter.widget-view+json": {
       "model_id": "5f4f028618074513ae172b824be38fcf",
       "version_major": 2,
       "version_minor": 0
      },
      "text/plain": [
       "HBox(children=(FloatProgress(value=0.0), HTML(value='')))"
      ]
     },
     "metadata": {},
     "output_type": "display_data"
    },
    {
     "name": "stderr",
     "output_type": "stream",
     "text": [
      "/Users/neha/opt/anaconda3/lib/python3.8/site-packages/numpy/lib/function_base.py:393: RuntimeWarning: Mean of empty slice.\n",
      "  avg = a.mean(axis)\n",
      "/Users/neha/opt/anaconda3/lib/python3.8/site-packages/numpy/core/_methods.py:161: RuntimeWarning: invalid value encountered in double_scalars\n",
      "  ret = ret.dtype.type(ret / rcount)\n"
     ]
    }
   ],
   "source": [
    "pbar = tqdm(total = 100)\n",
    "\n",
    "for rn in range(1,101):\n",
    "    for planet in range(1,11):\n",
    "        sys[rn][planet]['sd e'] = []\n",
    "        sys[rn][planet]['max e'] = []\n",
    "        sys[rn][planet]['cv pericenter'] = []\n",
    "        sys[rn][planet]['log mass1_ratio'] = []\n",
    "        sys[rn][planet]['log mass2_ratio'] = []\n",
    "        \n",
    "        temp = []\n",
    "        for i in range(len(data[rn][planet])-10):\n",
    "            sys[rn][planet]['sd e'].append(np.std(te[rn][planet]['e'][i:i+10]))\n",
    "            sys[rn][planet]['cv pericenter'].append(np.std(te[rn][planet]['pericenter'][i:i+10])/np.mean(te[rn][planet]['pericenter'][i:i+10]))\n",
    "            \n",
    "            temp.append(te[rn][planet]['e'][i])\n",
    "            sys[rn][planet]['max e'].append(np.max(temp))\n",
    "            \n",
    "            try:\n",
    "                sys[rn][planet]['log mass1_ratio'].append(np.average(te[rn][planet]['log mass1_ratio'][i:i+10]))\n",
    "                sys[rn][planet]['log mass2_ratio'].append(np.average(te[rn][planet]['log mass2_ratio'][i:i+10]))\n",
    "            except:\n",
    "                pass\n",
    "                \n",
    "                \n",
    "    for planet in range(1,11):\n",
    "        sys[rn][planet]['fate'] = 'remaining'\n",
    "\n",
    "        with open('/Users/neha/Documents/lanl/classifier/s. mordasini data/run'+str(rn)+'/info.out', 'r') as file:\n",
    "            lines = file.readlines()\n",
    "            for line in lines:\n",
    "                if \"PL\" in line:\n",
    "                    cols = line.split()\n",
    "                    plnt = int(cols[0].split('L')[-1])\n",
    "                    plnt2 = cols[4].split('L')[-1]\n",
    "\n",
    "                    if \"ejected\" in line:\n",
    "                        sys[plnt]['fate'] = \"ejected\"\n",
    "                    elif \"collided with the central body\" in line:\n",
    "                        sys[plnt]['fate'] = \"central body collision\"\n",
    "                    elif \"was hit by\" in line:\n",
    "                        sys[int(plnt2)]['fate'] = \"planet-planet collision\"\n",
    "                        \n",
    "    pbar.update()"
   ]
  },
  {
   "cell_type": "code",
   "execution_count": 231,
   "metadata": {},
   "outputs": [
    {
     "data": {
      "application/vnd.jupyter.widget-view+json": {
       "model_id": "9f3a03f1c562441a925b6f27187fb812",
       "version_major": 2,
       "version_minor": 0
      },
      "text/plain": [
       "HBox(children=(FloatProgress(value=0.0), HTML(value='')))"
      ]
     },
     "metadata": {},
     "output_type": "display_data"
    },
    {
     "name": "stderr",
     "output_type": "stream",
     "text": [
      "<ipython-input-231-26a30d625914>:7: RuntimeWarning: More than 20 figures have been opened. Figures created through the pyplot interface (`matplotlib.pyplot.figure`) are retained until explicitly closed and may consume too much memory. (To control this warning, see the rcParam `figure.max_open_warning`).\n",
      "  fig, axs = plt.subplots(5, 2, figsize=(22,17))#, sharey='row'\n"
     ]
    },
    {
     "data": {
      "text/plain": [
       "<Figure size 1584x1224 with 0 Axes>"
      ]
     },
     "metadata": {},
     "output_type": "display_data"
    },
    {
     "data": {
      "text/plain": [
       "<Figure size 1584x1224 with 0 Axes>"
      ]
     },
     "metadata": {},
     "output_type": "display_data"
    },
    {
     "data": {
      "text/plain": [
       "<Figure size 1584x1224 with 0 Axes>"
      ]
     },
     "metadata": {},
     "output_type": "display_data"
    },
    {
     "data": {
      "text/plain": [
       "<Figure size 1584x1224 with 0 Axes>"
      ]
     },
     "metadata": {},
     "output_type": "display_data"
    },
    {
     "data": {
      "text/plain": [
       "<Figure size 1584x1224 with 0 Axes>"
      ]
     },
     "metadata": {},
     "output_type": "display_data"
    },
    {
     "data": {
      "text/plain": [
       "<Figure size 1584x1224 with 0 Axes>"
      ]
     },
     "metadata": {},
     "output_type": "display_data"
    },
    {
     "data": {
      "text/plain": [
       "<Figure size 1584x1224 with 0 Axes>"
      ]
     },
     "metadata": {},
     "output_type": "display_data"
    },
    {
     "data": {
      "text/plain": [
       "<Figure size 1584x1224 with 0 Axes>"
      ]
     },
     "metadata": {},
     "output_type": "display_data"
    },
    {
     "data": {
      "text/plain": [
       "<Figure size 1584x1224 with 0 Axes>"
      ]
     },
     "metadata": {},
     "output_type": "display_data"
    },
    {
     "data": {
      "text/plain": [
       "<Figure size 1584x1224 with 0 Axes>"
      ]
     },
     "metadata": {},
     "output_type": "display_data"
    },
    {
     "data": {
      "text/plain": [
       "<Figure size 1584x1224 with 0 Axes>"
      ]
     },
     "metadata": {},
     "output_type": "display_data"
    },
    {
     "data": {
      "text/plain": [
       "<Figure size 1584x1224 with 0 Axes>"
      ]
     },
     "metadata": {},
     "output_type": "display_data"
    },
    {
     "data": {
      "text/plain": [
       "<Figure size 1584x1224 with 0 Axes>"
      ]
     },
     "metadata": {},
     "output_type": "display_data"
    },
    {
     "data": {
      "text/plain": [
       "<Figure size 1584x1224 with 0 Axes>"
      ]
     },
     "metadata": {},
     "output_type": "display_data"
    },
    {
     "data": {
      "text/plain": [
       "<Figure size 1584x1224 with 0 Axes>"
      ]
     },
     "metadata": {},
     "output_type": "display_data"
    },
    {
     "data": {
      "text/plain": [
       "<Figure size 1584x1224 with 0 Axes>"
      ]
     },
     "metadata": {},
     "output_type": "display_data"
    },
    {
     "data": {
      "text/plain": [
       "<Figure size 1584x1224 with 0 Axes>"
      ]
     },
     "metadata": {},
     "output_type": "display_data"
    },
    {
     "data": {
      "text/plain": [
       "<Figure size 1584x1224 with 0 Axes>"
      ]
     },
     "metadata": {},
     "output_type": "display_data"
    },
    {
     "data": {
      "text/plain": [
       "<Figure size 1584x1224 with 0 Axes>"
      ]
     },
     "metadata": {},
     "output_type": "display_data"
    },
    {
     "data": {
      "text/plain": [
       "<Figure size 1584x1224 with 0 Axes>"
      ]
     },
     "metadata": {},
     "output_type": "display_data"
    },
    {
     "data": {
      "text/plain": [
       "<Figure size 1584x1224 with 0 Axes>"
      ]
     },
     "metadata": {},
     "output_type": "display_data"
    },
    {
     "data": {
      "text/plain": [
       "<Figure size 1584x1224 with 0 Axes>"
      ]
     },
     "metadata": {},
     "output_type": "display_data"
    },
    {
     "data": {
      "text/plain": [
       "<Figure size 1584x1224 with 0 Axes>"
      ]
     },
     "metadata": {},
     "output_type": "display_data"
    },
    {
     "data": {
      "text/plain": [
       "<Figure size 1584x1224 with 0 Axes>"
      ]
     },
     "metadata": {},
     "output_type": "display_data"
    },
    {
     "data": {
      "text/plain": [
       "<Figure size 1584x1224 with 0 Axes>"
      ]
     },
     "metadata": {},
     "output_type": "display_data"
    },
    {
     "data": {
      "text/plain": [
       "<Figure size 1584x1224 with 0 Axes>"
      ]
     },
     "metadata": {},
     "output_type": "display_data"
    },
    {
     "data": {
      "text/plain": [
       "<Figure size 1584x1224 with 0 Axes>"
      ]
     },
     "metadata": {},
     "output_type": "display_data"
    },
    {
     "data": {
      "text/plain": [
       "<Figure size 1584x1224 with 0 Axes>"
      ]
     },
     "metadata": {},
     "output_type": "display_data"
    },
    {
     "data": {
      "text/plain": [
       "<Figure size 1584x1224 with 0 Axes>"
      ]
     },
     "metadata": {},
     "output_type": "display_data"
    },
    {
     "data": {
      "text/plain": [
       "<Figure size 1584x1224 with 0 Axes>"
      ]
     },
     "metadata": {},
     "output_type": "display_data"
    },
    {
     "data": {
      "text/plain": [
       "<Figure size 1584x1224 with 0 Axes>"
      ]
     },
     "metadata": {},
     "output_type": "display_data"
    },
    {
     "data": {
      "text/plain": [
       "<Figure size 1584x1224 with 0 Axes>"
      ]
     },
     "metadata": {},
     "output_type": "display_data"
    },
    {
     "data": {
      "text/plain": [
       "<Figure size 1584x1224 with 0 Axes>"
      ]
     },
     "metadata": {},
     "output_type": "display_data"
    },
    {
     "data": {
      "text/plain": [
       "<Figure size 1584x1224 with 0 Axes>"
      ]
     },
     "metadata": {},
     "output_type": "display_data"
    },
    {
     "data": {
      "text/plain": [
       "<Figure size 1584x1224 with 0 Axes>"
      ]
     },
     "metadata": {},
     "output_type": "display_data"
    },
    {
     "data": {
      "text/plain": [
       "<Figure size 1584x1224 with 0 Axes>"
      ]
     },
     "metadata": {},
     "output_type": "display_data"
    },
    {
     "data": {
      "text/plain": [
       "<Figure size 1584x1224 with 0 Axes>"
      ]
     },
     "metadata": {},
     "output_type": "display_data"
    },
    {
     "data": {
      "text/plain": [
       "<Figure size 1584x1224 with 0 Axes>"
      ]
     },
     "metadata": {},
     "output_type": "display_data"
    },
    {
     "data": {
      "text/plain": [
       "<Figure size 1584x1224 with 0 Axes>"
      ]
     },
     "metadata": {},
     "output_type": "display_data"
    },
    {
     "data": {
      "text/plain": [
       "<Figure size 1584x1224 with 0 Axes>"
      ]
     },
     "metadata": {},
     "output_type": "display_data"
    },
    {
     "data": {
      "text/plain": [
       "<Figure size 1584x1224 with 0 Axes>"
      ]
     },
     "metadata": {},
     "output_type": "display_data"
    },
    {
     "data": {
      "text/plain": [
       "<Figure size 1584x1224 with 0 Axes>"
      ]
     },
     "metadata": {},
     "output_type": "display_data"
    },
    {
     "data": {
      "text/plain": [
       "<Figure size 1584x1224 with 0 Axes>"
      ]
     },
     "metadata": {},
     "output_type": "display_data"
    },
    {
     "data": {
      "text/plain": [
       "<Figure size 1584x1224 with 0 Axes>"
      ]
     },
     "metadata": {},
     "output_type": "display_data"
    },
    {
     "data": {
      "text/plain": [
       "<Figure size 1584x1224 with 0 Axes>"
      ]
     },
     "metadata": {},
     "output_type": "display_data"
    },
    {
     "data": {
      "text/plain": [
       "<Figure size 1584x1224 with 0 Axes>"
      ]
     },
     "metadata": {},
     "output_type": "display_data"
    },
    {
     "data": {
      "text/plain": [
       "<Figure size 1584x1224 with 0 Axes>"
      ]
     },
     "metadata": {},
     "output_type": "display_data"
    },
    {
     "data": {
      "text/plain": [
       "<Figure size 1584x1224 with 0 Axes>"
      ]
     },
     "metadata": {},
     "output_type": "display_data"
    },
    {
     "data": {
      "text/plain": [
       "<Figure size 1584x1224 with 0 Axes>"
      ]
     },
     "metadata": {},
     "output_type": "display_data"
    },
    {
     "data": {
      "text/plain": [
       "<Figure size 1584x1224 with 0 Axes>"
      ]
     },
     "metadata": {},
     "output_type": "display_data"
    },
    {
     "data": {
      "text/plain": [
       "<Figure size 1584x1224 with 0 Axes>"
      ]
     },
     "metadata": {},
     "output_type": "display_data"
    },
    {
     "data": {
      "text/plain": [
       "<Figure size 1584x1224 with 0 Axes>"
      ]
     },
     "metadata": {},
     "output_type": "display_data"
    },
    {
     "data": {
      "text/plain": [
       "<Figure size 1584x1224 with 0 Axes>"
      ]
     },
     "metadata": {},
     "output_type": "display_data"
    },
    {
     "data": {
      "text/plain": [
       "<Figure size 1584x1224 with 0 Axes>"
      ]
     },
     "metadata": {},
     "output_type": "display_data"
    },
    {
     "data": {
      "text/plain": [
       "<Figure size 1584x1224 with 0 Axes>"
      ]
     },
     "metadata": {},
     "output_type": "display_data"
    },
    {
     "data": {
      "text/plain": [
       "<Figure size 1584x1224 with 0 Axes>"
      ]
     },
     "metadata": {},
     "output_type": "display_data"
    },
    {
     "data": {
      "text/plain": [
       "<Figure size 1584x1224 with 0 Axes>"
      ]
     },
     "metadata": {},
     "output_type": "display_data"
    },
    {
     "data": {
      "text/plain": [
       "<Figure size 1584x1224 with 0 Axes>"
      ]
     },
     "metadata": {},
     "output_type": "display_data"
    },
    {
     "data": {
      "text/plain": [
       "<Figure size 1584x1224 with 0 Axes>"
      ]
     },
     "metadata": {},
     "output_type": "display_data"
    },
    {
     "data": {
      "text/plain": [
       "<Figure size 1584x1224 with 0 Axes>"
      ]
     },
     "metadata": {},
     "output_type": "display_data"
    },
    {
     "data": {
      "text/plain": [
       "<Figure size 1584x1224 with 0 Axes>"
      ]
     },
     "metadata": {},
     "output_type": "display_data"
    },
    {
     "data": {
      "text/plain": [
       "<Figure size 1584x1224 with 0 Axes>"
      ]
     },
     "metadata": {},
     "output_type": "display_data"
    },
    {
     "data": {
      "text/plain": [
       "<Figure size 1584x1224 with 0 Axes>"
      ]
     },
     "metadata": {},
     "output_type": "display_data"
    },
    {
     "data": {
      "text/plain": [
       "<Figure size 1584x1224 with 0 Axes>"
      ]
     },
     "metadata": {},
     "output_type": "display_data"
    },
    {
     "data": {
      "text/plain": [
       "<Figure size 1584x1224 with 0 Axes>"
      ]
     },
     "metadata": {},
     "output_type": "display_data"
    },
    {
     "data": {
      "text/plain": [
       "<Figure size 1584x1224 with 0 Axes>"
      ]
     },
     "metadata": {},
     "output_type": "display_data"
    },
    {
     "data": {
      "text/plain": [
       "<Figure size 1584x1224 with 0 Axes>"
      ]
     },
     "metadata": {},
     "output_type": "display_data"
    },
    {
     "data": {
      "text/plain": [
       "<Figure size 1584x1224 with 0 Axes>"
      ]
     },
     "metadata": {},
     "output_type": "display_data"
    },
    {
     "data": {
      "text/plain": [
       "<Figure size 1584x1224 with 0 Axes>"
      ]
     },
     "metadata": {},
     "output_type": "display_data"
    },
    {
     "data": {
      "text/plain": [
       "<Figure size 1584x1224 with 0 Axes>"
      ]
     },
     "metadata": {},
     "output_type": "display_data"
    },
    {
     "data": {
      "text/plain": [
       "<Figure size 1584x1224 with 0 Axes>"
      ]
     },
     "metadata": {},
     "output_type": "display_data"
    },
    {
     "data": {
      "text/plain": [
       "<Figure size 1584x1224 with 0 Axes>"
      ]
     },
     "metadata": {},
     "output_type": "display_data"
    },
    {
     "data": {
      "text/plain": [
       "<Figure size 1584x1224 with 0 Axes>"
      ]
     },
     "metadata": {},
     "output_type": "display_data"
    },
    {
     "data": {
      "text/plain": [
       "<Figure size 1584x1224 with 0 Axes>"
      ]
     },
     "metadata": {},
     "output_type": "display_data"
    },
    {
     "data": {
      "text/plain": [
       "<Figure size 1584x1224 with 0 Axes>"
      ]
     },
     "metadata": {},
     "output_type": "display_data"
    },
    {
     "data": {
      "text/plain": [
       "<Figure size 1584x1224 with 0 Axes>"
      ]
     },
     "metadata": {},
     "output_type": "display_data"
    },
    {
     "data": {
      "text/plain": [
       "<Figure size 1584x1224 with 0 Axes>"
      ]
     },
     "metadata": {},
     "output_type": "display_data"
    },
    {
     "data": {
      "text/plain": [
       "<Figure size 1584x1224 with 0 Axes>"
      ]
     },
     "metadata": {},
     "output_type": "display_data"
    },
    {
     "data": {
      "text/plain": [
       "<Figure size 1584x1224 with 0 Axes>"
      ]
     },
     "metadata": {},
     "output_type": "display_data"
    },
    {
     "data": {
      "text/plain": [
       "<Figure size 1584x1224 with 0 Axes>"
      ]
     },
     "metadata": {},
     "output_type": "display_data"
    },
    {
     "data": {
      "text/plain": [
       "<Figure size 1584x1224 with 0 Axes>"
      ]
     },
     "metadata": {},
     "output_type": "display_data"
    },
    {
     "data": {
      "text/plain": [
       "<Figure size 1584x1224 with 0 Axes>"
      ]
     },
     "metadata": {},
     "output_type": "display_data"
    },
    {
     "data": {
      "text/plain": [
       "<Figure size 1584x1224 with 0 Axes>"
      ]
     },
     "metadata": {},
     "output_type": "display_data"
    },
    {
     "data": {
      "text/plain": [
       "<Figure size 1584x1224 with 0 Axes>"
      ]
     },
     "metadata": {},
     "output_type": "display_data"
    },
    {
     "data": {
      "text/plain": [
       "<Figure size 1584x1224 with 0 Axes>"
      ]
     },
     "metadata": {},
     "output_type": "display_data"
    },
    {
     "data": {
      "text/plain": [
       "<Figure size 1584x1224 with 0 Axes>"
      ]
     },
     "metadata": {},
     "output_type": "display_data"
    },
    {
     "data": {
      "text/plain": [
       "<Figure size 1584x1224 with 0 Axes>"
      ]
     },
     "metadata": {},
     "output_type": "display_data"
    },
    {
     "data": {
      "text/plain": [
       "<Figure size 1584x1224 with 0 Axes>"
      ]
     },
     "metadata": {},
     "output_type": "display_data"
    },
    {
     "data": {
      "text/plain": [
       "<Figure size 1584x1224 with 0 Axes>"
      ]
     },
     "metadata": {},
     "output_type": "display_data"
    },
    {
     "data": {
      "text/plain": [
       "<Figure size 1584x1224 with 0 Axes>"
      ]
     },
     "metadata": {},
     "output_type": "display_data"
    },
    {
     "data": {
      "text/plain": [
       "<Figure size 1584x1224 with 0 Axes>"
      ]
     },
     "metadata": {},
     "output_type": "display_data"
    },
    {
     "data": {
      "text/plain": [
       "<Figure size 1584x1224 with 0 Axes>"
      ]
     },
     "metadata": {},
     "output_type": "display_data"
    },
    {
     "data": {
      "text/plain": [
       "<Figure size 1584x1224 with 0 Axes>"
      ]
     },
     "metadata": {},
     "output_type": "display_data"
    },
    {
     "data": {
      "text/plain": [
       "<Figure size 1584x1224 with 0 Axes>"
      ]
     },
     "metadata": {},
     "output_type": "display_data"
    },
    {
     "data": {
      "text/plain": [
       "<Figure size 1584x1224 with 0 Axes>"
      ]
     },
     "metadata": {},
     "output_type": "display_data"
    },
    {
     "data": {
      "text/plain": [
       "<Figure size 1584x1224 with 0 Axes>"
      ]
     },
     "metadata": {},
     "output_type": "display_data"
    },
    {
     "data": {
      "text/plain": [
       "<Figure size 1584x1224 with 0 Axes>"
      ]
     },
     "metadata": {},
     "output_type": "display_data"
    },
    {
     "data": {
      "text/plain": [
       "<Figure size 1584x1224 with 0 Axes>"
      ]
     },
     "metadata": {},
     "output_type": "display_data"
    },
    {
     "data": {
      "text/plain": [
       "<Figure size 1584x1224 with 0 Axes>"
      ]
     },
     "metadata": {},
     "output_type": "display_data"
    },
    {
     "data": {
      "text/plain": [
       "<Figure size 1584x1224 with 0 Axes>"
      ]
     },
     "metadata": {},
     "output_type": "display_data"
    }
   ],
   "source": [
    "feats = ['log mass1_ratio', 'log mass2_ratio', 'max e', 'sd e', 'cv pericenter']\n",
    "\n",
    "pbar = tqdm(total = 100)\n",
    "fil = PdfPages('time stamping revised all feats.pdf')\n",
    "\n",
    "for rn in range(1,101):\n",
    "    fig, axs = plt.subplots(5, 2, figsize=(22,17))#, sharey='row'\n",
    "    plt.suptitle('System ' + str(rn), fontweight='bold')\n",
    "\n",
    "    for f in range(len(feats)):\n",
    "        for p in range(1,11):\n",
    "            col = 'white'\n",
    "            zord = 1\n",
    "            alp = 1\n",
    "            lw = 1.25\n",
    "\n",
    "            if (all_dict[rn, p]['outcome'] == all_dict[rn, p]['predict']):\n",
    "                if (all_dict[rn, p]['outcome'] == 1): # unstable\n",
    "                    col = 'thistle'\n",
    "                else:\n",
    "                    col = 'cornflowerblue'  \n",
    "            else:\n",
    "                zord = 3\n",
    "                if (all_dict[rn, p]['outcome'] == 1): # true unstable, predicted stable\n",
    "                    col = 'palevioletred'\n",
    "                else:\n",
    "                    col = 'mediumseagreen'\n",
    "                    \n",
    "            if (all_dict[rn, p]['type'] == 'train'):\n",
    "                alp = 0.7\n",
    "            \n",
    "            \n",
    "            xs2 = []\n",
    "\n",
    "            for i in range(len(sys[rn][p][feats[f]])):\n",
    "                xs2.append(i * 13.689)\n",
    "\n",
    "                \n",
    "            if (feats[f] == 'log mass2_ratio' or feats[f] == 'log mass1_ratio'):\n",
    "                lw = 2\n",
    "                \n",
    "            axs[f, 0].plot(xs2, sys[rn][p][feats[f]], color = col, zorder = zord, alpha = alp, linewidth = lw)\n",
    "            axs[f, 1].plot(xs2, sys[rn][p][feats[f]], color = col, zorder = zord, alpha = alp, linewidth = lw)\n",
    "                \n",
    "    \n",
    "    for i in range(len(feats)):\n",
    "        axs[i, 0].set_xlim(-2, 125)\n",
    "\n",
    "    for i in range(len(feats)):\n",
    "        axs[i, 1].set_xlim(-2, 500100)\n",
    "        \n",
    "    axs[0, 0].set_ylabel('log mass1 ratio')\n",
    "    axs[1, 0].set_ylabel('log mass2 ratio')\n",
    "    axs[2, 0].set_ylabel('max e')\n",
    "    axs[3, 0].set_ylabel('sd e')\n",
    "    axs[4, 0].set_ylabel('cv pericenter')\n",
    "\n",
    "\n",
    "    plt.tight_layout()\n",
    "    plt.subplots_adjust(top=0.96)\n",
    "    \n",
    "    fil.savefig()\n",
    "    plt.clf()\n",
    "    pbar.update()\n",
    "    \n",
    "fil.close()"
   ]
  },
  {
   "cell_type": "markdown",
   "metadata": {},
   "source": [
    "### without mass ratios *"
   ]
  },
  {
   "cell_type": "code",
   "execution_count": 221,
   "metadata": {},
   "outputs": [
    {
     "data": {
      "application/vnd.jupyter.widget-view+json": {
       "model_id": "c224c676df374e35bed17f5084fe6b79",
       "version_major": 2,
       "version_minor": 0
      },
      "text/plain": [
       "HBox(children=(FloatProgress(value=0.0), HTML(value='')))"
      ]
     },
     "metadata": {},
     "output_type": "display_data"
    },
    {
     "name": "stderr",
     "output_type": "stream",
     "text": [
      "<ipython-input-221-91a68eeb45a0>:8: RuntimeWarning: More than 20 figures have been opened. Figures created through the pyplot interface (`matplotlib.pyplot.figure`) are retained until explicitly closed and may consume too much memory. (To control this warning, see the rcParam `figure.max_open_warning`).\n",
      "  fig, axs = plt.subplots(3, 2, figsize=(22,17))#, sharey='row'\n"
     ]
    },
    {
     "data": {
      "text/plain": [
       "<Figure size 1584x1224 with 0 Axes>"
      ]
     },
     "metadata": {},
     "output_type": "display_data"
    },
    {
     "data": {
      "text/plain": [
       "<Figure size 1584x1224 with 0 Axes>"
      ]
     },
     "metadata": {},
     "output_type": "display_data"
    },
    {
     "data": {
      "text/plain": [
       "<Figure size 1584x1224 with 0 Axes>"
      ]
     },
     "metadata": {},
     "output_type": "display_data"
    },
    {
     "data": {
      "text/plain": [
       "<Figure size 1584x1224 with 0 Axes>"
      ]
     },
     "metadata": {},
     "output_type": "display_data"
    },
    {
     "data": {
      "text/plain": [
       "<Figure size 1584x1224 with 0 Axes>"
      ]
     },
     "metadata": {},
     "output_type": "display_data"
    },
    {
     "data": {
      "text/plain": [
       "<Figure size 1584x1224 with 0 Axes>"
      ]
     },
     "metadata": {},
     "output_type": "display_data"
    },
    {
     "data": {
      "text/plain": [
       "<Figure size 1584x1224 with 0 Axes>"
      ]
     },
     "metadata": {},
     "output_type": "display_data"
    },
    {
     "data": {
      "text/plain": [
       "<Figure size 1584x1224 with 0 Axes>"
      ]
     },
     "metadata": {},
     "output_type": "display_data"
    },
    {
     "data": {
      "text/plain": [
       "<Figure size 1584x1224 with 0 Axes>"
      ]
     },
     "metadata": {},
     "output_type": "display_data"
    },
    {
     "data": {
      "text/plain": [
       "<Figure size 1584x1224 with 0 Axes>"
      ]
     },
     "metadata": {},
     "output_type": "display_data"
    },
    {
     "data": {
      "text/plain": [
       "<Figure size 1584x1224 with 0 Axes>"
      ]
     },
     "metadata": {},
     "output_type": "display_data"
    },
    {
     "data": {
      "text/plain": [
       "<Figure size 1584x1224 with 0 Axes>"
      ]
     },
     "metadata": {},
     "output_type": "display_data"
    },
    {
     "data": {
      "text/plain": [
       "<Figure size 1584x1224 with 0 Axes>"
      ]
     },
     "metadata": {},
     "output_type": "display_data"
    },
    {
     "data": {
      "text/plain": [
       "<Figure size 1584x1224 with 0 Axes>"
      ]
     },
     "metadata": {},
     "output_type": "display_data"
    },
    {
     "data": {
      "text/plain": [
       "<Figure size 1584x1224 with 0 Axes>"
      ]
     },
     "metadata": {},
     "output_type": "display_data"
    },
    {
     "data": {
      "text/plain": [
       "<Figure size 1584x1224 with 0 Axes>"
      ]
     },
     "metadata": {},
     "output_type": "display_data"
    },
    {
     "data": {
      "text/plain": [
       "<Figure size 1584x1224 with 0 Axes>"
      ]
     },
     "metadata": {},
     "output_type": "display_data"
    },
    {
     "data": {
      "text/plain": [
       "<Figure size 1584x1224 with 0 Axes>"
      ]
     },
     "metadata": {},
     "output_type": "display_data"
    },
    {
     "data": {
      "text/plain": [
       "<Figure size 1584x1224 with 0 Axes>"
      ]
     },
     "metadata": {},
     "output_type": "display_data"
    },
    {
     "data": {
      "text/plain": [
       "<Figure size 1584x1224 with 0 Axes>"
      ]
     },
     "metadata": {},
     "output_type": "display_data"
    },
    {
     "data": {
      "text/plain": [
       "<Figure size 1584x1224 with 0 Axes>"
      ]
     },
     "metadata": {},
     "output_type": "display_data"
    },
    {
     "data": {
      "text/plain": [
       "<Figure size 1584x1224 with 0 Axes>"
      ]
     },
     "metadata": {},
     "output_type": "display_data"
    },
    {
     "data": {
      "text/plain": [
       "<Figure size 1584x1224 with 0 Axes>"
      ]
     },
     "metadata": {},
     "output_type": "display_data"
    },
    {
     "data": {
      "text/plain": [
       "<Figure size 1584x1224 with 0 Axes>"
      ]
     },
     "metadata": {},
     "output_type": "display_data"
    },
    {
     "data": {
      "text/plain": [
       "<Figure size 1584x1224 with 0 Axes>"
      ]
     },
     "metadata": {},
     "output_type": "display_data"
    },
    {
     "data": {
      "text/plain": [
       "<Figure size 1584x1224 with 0 Axes>"
      ]
     },
     "metadata": {},
     "output_type": "display_data"
    },
    {
     "data": {
      "text/plain": [
       "<Figure size 1584x1224 with 0 Axes>"
      ]
     },
     "metadata": {},
     "output_type": "display_data"
    },
    {
     "data": {
      "text/plain": [
       "<Figure size 1584x1224 with 0 Axes>"
      ]
     },
     "metadata": {},
     "output_type": "display_data"
    },
    {
     "data": {
      "text/plain": [
       "<Figure size 1584x1224 with 0 Axes>"
      ]
     },
     "metadata": {},
     "output_type": "display_data"
    },
    {
     "data": {
      "text/plain": [
       "<Figure size 1584x1224 with 0 Axes>"
      ]
     },
     "metadata": {},
     "output_type": "display_data"
    },
    {
     "data": {
      "text/plain": [
       "<Figure size 1584x1224 with 0 Axes>"
      ]
     },
     "metadata": {},
     "output_type": "display_data"
    },
    {
     "data": {
      "text/plain": [
       "<Figure size 1584x1224 with 0 Axes>"
      ]
     },
     "metadata": {},
     "output_type": "display_data"
    },
    {
     "data": {
      "text/plain": [
       "<Figure size 1584x1224 with 0 Axes>"
      ]
     },
     "metadata": {},
     "output_type": "display_data"
    },
    {
     "data": {
      "text/plain": [
       "<Figure size 1584x1224 with 0 Axes>"
      ]
     },
     "metadata": {},
     "output_type": "display_data"
    },
    {
     "data": {
      "text/plain": [
       "<Figure size 1584x1224 with 0 Axes>"
      ]
     },
     "metadata": {},
     "output_type": "display_data"
    },
    {
     "data": {
      "text/plain": [
       "<Figure size 1584x1224 with 0 Axes>"
      ]
     },
     "metadata": {},
     "output_type": "display_data"
    },
    {
     "data": {
      "text/plain": [
       "<Figure size 1584x1224 with 0 Axes>"
      ]
     },
     "metadata": {},
     "output_type": "display_data"
    },
    {
     "data": {
      "text/plain": [
       "<Figure size 1584x1224 with 0 Axes>"
      ]
     },
     "metadata": {},
     "output_type": "display_data"
    },
    {
     "data": {
      "text/plain": [
       "<Figure size 1584x1224 with 0 Axes>"
      ]
     },
     "metadata": {},
     "output_type": "display_data"
    },
    {
     "data": {
      "text/plain": [
       "<Figure size 1584x1224 with 0 Axes>"
      ]
     },
     "metadata": {},
     "output_type": "display_data"
    },
    {
     "data": {
      "text/plain": [
       "<Figure size 1584x1224 with 0 Axes>"
      ]
     },
     "metadata": {},
     "output_type": "display_data"
    },
    {
     "data": {
      "text/plain": [
       "<Figure size 1584x1224 with 0 Axes>"
      ]
     },
     "metadata": {},
     "output_type": "display_data"
    },
    {
     "data": {
      "text/plain": [
       "<Figure size 1584x1224 with 0 Axes>"
      ]
     },
     "metadata": {},
     "output_type": "display_data"
    },
    {
     "data": {
      "text/plain": [
       "<Figure size 1584x1224 with 0 Axes>"
      ]
     },
     "metadata": {},
     "output_type": "display_data"
    },
    {
     "data": {
      "text/plain": [
       "<Figure size 1584x1224 with 0 Axes>"
      ]
     },
     "metadata": {},
     "output_type": "display_data"
    },
    {
     "data": {
      "text/plain": [
       "<Figure size 1584x1224 with 0 Axes>"
      ]
     },
     "metadata": {},
     "output_type": "display_data"
    },
    {
     "data": {
      "text/plain": [
       "<Figure size 1584x1224 with 0 Axes>"
      ]
     },
     "metadata": {},
     "output_type": "display_data"
    },
    {
     "data": {
      "text/plain": [
       "<Figure size 1584x1224 with 0 Axes>"
      ]
     },
     "metadata": {},
     "output_type": "display_data"
    },
    {
     "data": {
      "text/plain": [
       "<Figure size 1584x1224 with 0 Axes>"
      ]
     },
     "metadata": {},
     "output_type": "display_data"
    },
    {
     "data": {
      "text/plain": [
       "<Figure size 1584x1224 with 0 Axes>"
      ]
     },
     "metadata": {},
     "output_type": "display_data"
    },
    {
     "data": {
      "text/plain": [
       "<Figure size 1584x1224 with 0 Axes>"
      ]
     },
     "metadata": {},
     "output_type": "display_data"
    },
    {
     "data": {
      "text/plain": [
       "<Figure size 1584x1224 with 0 Axes>"
      ]
     },
     "metadata": {},
     "output_type": "display_data"
    },
    {
     "data": {
      "text/plain": [
       "<Figure size 1584x1224 with 0 Axes>"
      ]
     },
     "metadata": {},
     "output_type": "display_data"
    },
    {
     "data": {
      "text/plain": [
       "<Figure size 1584x1224 with 0 Axes>"
      ]
     },
     "metadata": {},
     "output_type": "display_data"
    },
    {
     "data": {
      "text/plain": [
       "<Figure size 1584x1224 with 0 Axes>"
      ]
     },
     "metadata": {},
     "output_type": "display_data"
    },
    {
     "data": {
      "text/plain": [
       "<Figure size 1584x1224 with 0 Axes>"
      ]
     },
     "metadata": {},
     "output_type": "display_data"
    },
    {
     "data": {
      "text/plain": [
       "<Figure size 1584x1224 with 0 Axes>"
      ]
     },
     "metadata": {},
     "output_type": "display_data"
    },
    {
     "data": {
      "text/plain": [
       "<Figure size 1584x1224 with 0 Axes>"
      ]
     },
     "metadata": {},
     "output_type": "display_data"
    },
    {
     "data": {
      "text/plain": [
       "<Figure size 1584x1224 with 0 Axes>"
      ]
     },
     "metadata": {},
     "output_type": "display_data"
    },
    {
     "data": {
      "text/plain": [
       "<Figure size 1584x1224 with 0 Axes>"
      ]
     },
     "metadata": {},
     "output_type": "display_data"
    },
    {
     "data": {
      "text/plain": [
       "<Figure size 1584x1224 with 0 Axes>"
      ]
     },
     "metadata": {},
     "output_type": "display_data"
    },
    {
     "data": {
      "text/plain": [
       "<Figure size 1584x1224 with 0 Axes>"
      ]
     },
     "metadata": {},
     "output_type": "display_data"
    },
    {
     "data": {
      "text/plain": [
       "<Figure size 1584x1224 with 0 Axes>"
      ]
     },
     "metadata": {},
     "output_type": "display_data"
    },
    {
     "data": {
      "text/plain": [
       "<Figure size 1584x1224 with 0 Axes>"
      ]
     },
     "metadata": {},
     "output_type": "display_data"
    },
    {
     "data": {
      "text/plain": [
       "<Figure size 1584x1224 with 0 Axes>"
      ]
     },
     "metadata": {},
     "output_type": "display_data"
    },
    {
     "data": {
      "text/plain": [
       "<Figure size 1584x1224 with 0 Axes>"
      ]
     },
     "metadata": {},
     "output_type": "display_data"
    },
    {
     "data": {
      "text/plain": [
       "<Figure size 1584x1224 with 0 Axes>"
      ]
     },
     "metadata": {},
     "output_type": "display_data"
    },
    {
     "data": {
      "text/plain": [
       "<Figure size 1584x1224 with 0 Axes>"
      ]
     },
     "metadata": {},
     "output_type": "display_data"
    },
    {
     "data": {
      "text/plain": [
       "<Figure size 1584x1224 with 0 Axes>"
      ]
     },
     "metadata": {},
     "output_type": "display_data"
    },
    {
     "data": {
      "text/plain": [
       "<Figure size 1584x1224 with 0 Axes>"
      ]
     },
     "metadata": {},
     "output_type": "display_data"
    },
    {
     "data": {
      "text/plain": [
       "<Figure size 1584x1224 with 0 Axes>"
      ]
     },
     "metadata": {},
     "output_type": "display_data"
    },
    {
     "data": {
      "text/plain": [
       "<Figure size 1584x1224 with 0 Axes>"
      ]
     },
     "metadata": {},
     "output_type": "display_data"
    },
    {
     "data": {
      "text/plain": [
       "<Figure size 1584x1224 with 0 Axes>"
      ]
     },
     "metadata": {},
     "output_type": "display_data"
    },
    {
     "data": {
      "text/plain": [
       "<Figure size 1584x1224 with 0 Axes>"
      ]
     },
     "metadata": {},
     "output_type": "display_data"
    },
    {
     "data": {
      "text/plain": [
       "<Figure size 1584x1224 with 0 Axes>"
      ]
     },
     "metadata": {},
     "output_type": "display_data"
    },
    {
     "data": {
      "text/plain": [
       "<Figure size 1584x1224 with 0 Axes>"
      ]
     },
     "metadata": {},
     "output_type": "display_data"
    },
    {
     "data": {
      "text/plain": [
       "<Figure size 1584x1224 with 0 Axes>"
      ]
     },
     "metadata": {},
     "output_type": "display_data"
    },
    {
     "data": {
      "text/plain": [
       "<Figure size 1584x1224 with 0 Axes>"
      ]
     },
     "metadata": {},
     "output_type": "display_data"
    },
    {
     "data": {
      "text/plain": [
       "<Figure size 1584x1224 with 0 Axes>"
      ]
     },
     "metadata": {},
     "output_type": "display_data"
    },
    {
     "data": {
      "text/plain": [
       "<Figure size 1584x1224 with 0 Axes>"
      ]
     },
     "metadata": {},
     "output_type": "display_data"
    },
    {
     "data": {
      "text/plain": [
       "<Figure size 1584x1224 with 0 Axes>"
      ]
     },
     "metadata": {},
     "output_type": "display_data"
    },
    {
     "data": {
      "text/plain": [
       "<Figure size 1584x1224 with 0 Axes>"
      ]
     },
     "metadata": {},
     "output_type": "display_data"
    },
    {
     "data": {
      "text/plain": [
       "<Figure size 1584x1224 with 0 Axes>"
      ]
     },
     "metadata": {},
     "output_type": "display_data"
    },
    {
     "data": {
      "text/plain": [
       "<Figure size 1584x1224 with 0 Axes>"
      ]
     },
     "metadata": {},
     "output_type": "display_data"
    },
    {
     "data": {
      "text/plain": [
       "<Figure size 1584x1224 with 0 Axes>"
      ]
     },
     "metadata": {},
     "output_type": "display_data"
    },
    {
     "data": {
      "text/plain": [
       "<Figure size 1584x1224 with 0 Axes>"
      ]
     },
     "metadata": {},
     "output_type": "display_data"
    },
    {
     "data": {
      "text/plain": [
       "<Figure size 1584x1224 with 0 Axes>"
      ]
     },
     "metadata": {},
     "output_type": "display_data"
    },
    {
     "data": {
      "text/plain": [
       "<Figure size 1584x1224 with 0 Axes>"
      ]
     },
     "metadata": {},
     "output_type": "display_data"
    },
    {
     "data": {
      "text/plain": [
       "<Figure size 1584x1224 with 0 Axes>"
      ]
     },
     "metadata": {},
     "output_type": "display_data"
    },
    {
     "data": {
      "text/plain": [
       "<Figure size 1584x1224 with 0 Axes>"
      ]
     },
     "metadata": {},
     "output_type": "display_data"
    },
    {
     "data": {
      "text/plain": [
       "<Figure size 1584x1224 with 0 Axes>"
      ]
     },
     "metadata": {},
     "output_type": "display_data"
    },
    {
     "data": {
      "text/plain": [
       "<Figure size 1584x1224 with 0 Axes>"
      ]
     },
     "metadata": {},
     "output_type": "display_data"
    },
    {
     "data": {
      "text/plain": [
       "<Figure size 1584x1224 with 0 Axes>"
      ]
     },
     "metadata": {},
     "output_type": "display_data"
    },
    {
     "data": {
      "text/plain": [
       "<Figure size 1584x1224 with 0 Axes>"
      ]
     },
     "metadata": {},
     "output_type": "display_data"
    },
    {
     "data": {
      "text/plain": [
       "<Figure size 1584x1224 with 0 Axes>"
      ]
     },
     "metadata": {},
     "output_type": "display_data"
    },
    {
     "data": {
      "text/plain": [
       "<Figure size 1584x1224 with 0 Axes>"
      ]
     },
     "metadata": {},
     "output_type": "display_data"
    },
    {
     "data": {
      "text/plain": [
       "<Figure size 1584x1224 with 0 Axes>"
      ]
     },
     "metadata": {},
     "output_type": "display_data"
    },
    {
     "data": {
      "text/plain": [
       "<Figure size 1584x1224 with 0 Axes>"
      ]
     },
     "metadata": {},
     "output_type": "display_data"
    },
    {
     "data": {
      "text/plain": [
       "<Figure size 1584x1224 with 0 Axes>"
      ]
     },
     "metadata": {},
     "output_type": "display_data"
    },
    {
     "data": {
      "text/plain": [
       "<Figure size 1584x1224 with 0 Axes>"
      ]
     },
     "metadata": {},
     "output_type": "display_data"
    }
   ],
   "source": [
    "feats = ['max e', 'sd e', 'cv pericenter']\n",
    "\n",
    "\n",
    "pbar = tqdm(total = 100)\n",
    "fil = PdfPages('time stamping revised no mass ratios.pdf')\n",
    "\n",
    "for rn in range(1,101):\n",
    "    fig, axs = plt.subplots(3, 2, figsize=(22,17))#, sharey='row'\n",
    "    plt.suptitle('System ' + str(rn), fontweight='bold')\n",
    "\n",
    "    for f in range(len(feats)):\n",
    "        for p in range(1,11):\n",
    "            col = 'white'\n",
    "            zord = 1\n",
    "            alp = 1\n",
    "            lw = 1.25\n",
    "\n",
    "            if (all_dict[rn, p]['outcome'] == all_dict[rn, p]['predict']):\n",
    "                if (all_dict[rn, p]['outcome'] == 1): # unstable\n",
    "                    col = 'lightsteelblue'\n",
    "                else:\n",
    "                    col = 'darkgoldenrod'  \n",
    "                    zord = 3\n",
    "            else:\n",
    "                zord = 5\n",
    "                if (all_dict[rn, p]['outcome'] == 1): # true unstable, predicted stable\n",
    "                    col = 'mediumseagreen'\n",
    "                else:\n",
    "                    col = 'coral'\n",
    "                    \n",
    "            if (all_dict[rn, p]['type'] == 'train'):\n",
    "                alp = 0.7\n",
    "            \n",
    "            \n",
    "            xs2 = []\n",
    "\n",
    "            for i in range(len(sys[rn][p][feats[f]])):\n",
    "                xs2.append(i * 13.689)\n",
    "\n",
    "                \n",
    "            axs[f, 0].plot(xs2, sys[rn][p][feats[f]], color = col, zorder = zord, alpha = alp, linewidth = lw)\n",
    "            axs[f, 1].plot(xs2, sys[rn][p][feats[f]], color = col, zorder = zord, alpha = alp, linewidth = lw)\n",
    "                \n",
    "    \n",
    "    for i in range(len(feats)):\n",
    "        axs[i, 0].set_xlim(-2, 125)\n",
    "\n",
    "    for i in range(len(feats)):\n",
    "        axs[i, 1].set_xlim(-2, 500000)\n",
    "        \n",
    "    axs[0, 0].set_ylabel('max e')\n",
    "    axs[1, 0].set_ylabel('sd e')\n",
    "    axs[2, 0].set_ylabel('cv pericenter')\n",
    "\n",
    "\n",
    "    plt.tight_layout()\n",
    "    plt.subplots_adjust(top=0.96)\n",
    "    \n",
    "    fil.savefig()\n",
    "    plt.clf()\n",
    "    pbar.update()\n",
    "    \n",
    "fil.close()"
   ]
  }
 ],
 "metadata": {
  "kernelspec": {
   "display_name": "Python 3",
   "language": "python",
   "name": "python3"
  },
  "language_info": {
   "codemirror_mode": {
    "name": "ipython",
    "version": 3
   },
   "file_extension": ".py",
   "mimetype": "text/x-python",
   "name": "python",
   "nbconvert_exporter": "python",
   "pygments_lexer": "ipython3",
   "version": "3.8.3"
  }
 },
 "nbformat": 4,
 "nbformat_minor": 4
}

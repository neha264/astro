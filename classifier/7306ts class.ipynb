{
 "cells": [
  {
   "cell_type": "markdown",
   "metadata": {},
   "source": [
    "### Classifier using three timesteps \n",
    "#### rows 0-2, ~27.4 years"
   ]
  },
  {
   "cell_type": "code",
   "execution_count": 1,
   "metadata": {},
   "outputs": [],
   "source": [
    "import numpy as np\n",
    "import pandas as pd\n",
    "\n",
    "from sklearn.metrics import accuracy_score\n",
    "from sklearn.model_selection import train_test_split\n",
    "\n",
    "from sklearn.ensemble import GradientBoostingClassifier"
   ]
  },
  {
   "cell_type": "code",
   "execution_count": 2,
   "metadata": {},
   "outputs": [
    {
     "name": "stdout",
     "output_type": "stream",
     "text": [
      "Index(['run', 'planet', 'initial e', 'final e', 'mean e', 'min e', 'max e',\n",
      "       'sd e', 'initial pericenter', 'final pericenter', 'mean pericenter',\n",
      "       'min pericenter', 'max pericenter', 'sd pericenter', 'initial jacobi',\n",
      "       'final jacobi', 'mean jacobi', 'min jacobi', 'max jacobi', 'sd jacobi',\n",
      "       'initial mhr1', 'final mhr1', 'mean mhr1', 'min mhr1', 'max mhr1',\n",
      "       'sd mhr1', 'initial mhr2', 'final mhr2', 'mean mhr2', 'min mhr2',\n",
      "       'max mhr2', 'sd mhr2', 'initial a1_ratio', 'final a1_ratio',\n",
      "       'mean a1_ratio', 'min a1_ratio', 'max a1_ratio', 'sd a1_ratio',\n",
      "       'initial a2_ratio', 'final a2_ratio', 'mean a2_ratio', 'min a2_ratio',\n",
      "       'max a2_ratio', 'sd a2_ratio', 'initial mass1_ratio',\n",
      "       'final mass1_ratio', 'mean mass1_ratio', 'min mass1_ratio',\n",
      "       'max mass1_ratio', 'sd mass1_ratio', 'initial mass2_ratio',\n",
      "       'final mass2_ratio', 'mean mass2_ratio', 'min mass2_ratio',\n",
      "       'max mass2_ratio', 'sd mass2_ratio', 'end time', 'fate'],\n",
      "      dtype='object')\n"
     ]
    }
   ],
   "source": [
    "planets = pd.read_csv('7306ts.csv', skipinitialspace=True)\n",
    "print(planets.columns)"
   ]
  },
  {
   "cell_type": "markdown",
   "metadata": {},
   "source": [
    "###### Classifies as type of instability (ejection, remaining, planet-planet collision, central body collision).\n",
    "\n",
    "> Is currently ~74.66% accurate"
   ]
  },
  {
   "cell_type": "code",
   "execution_count": 7,
   "metadata": {},
   "outputs": [],
   "source": [
    "fates = list(set(planets['fate']))\n",
    "types = {fates[i] : i for i in range(len(fates))}\n",
    "int_dict = {i : fates[i] for i in range(len(fates))}\n",
    "classes = planets['fate'].map(types)"
   ]
  },
  {
   "cell_type": "markdown",
   "metadata": {},
   "source": [
    "###### Classifies as either stable or unstable.\n",
    "> Is currently 88% accurate\n",
    "\n",
    "Second cell is the hard coded version"
   ]
  },
  {
   "cell_type": "code",
   "execution_count": null,
   "metadata": {},
   "outputs": [],
   "source": [
    "fates = np.sort(list(set(planets['fate']))) [::-1]\n",
    "\n",
    "types = {fates[i] : i for i in range(len(fates))}\n",
    "\n",
    "classes = planets['fate'].map(types)\n",
    "\n",
    "for i in range(len(classes)):\n",
    "    if classes[i] == 0:\n",
    "        pass\n",
    "    else:\n",
    "        classes[i] = 1"
   ]
  },
  {
   "cell_type": "code",
   "execution_count": 14,
   "metadata": {},
   "outputs": [],
   "source": [
    "fates = list(set(planets['fate']))\n",
    "\n",
    "types = {fates[i] : i for i in range(len(fates))}\n",
    "\n",
    "classes = []\n",
    "\n",
    "for i in range(len(planets['fate'])):\n",
    "    if planets['fate'][i] == \"remaining\":\n",
    "        classes += [0]\n",
    "    else:\n",
    "        classes += [1]\n",
    "        \n",
    "classes = np.array(classes)"
   ]
  },
  {
   "cell_type": "markdown",
   "metadata": {},
   "source": [
    "###### Training"
   ]
  },
  {
   "cell_type": "code",
   "execution_count": 15,
   "metadata": {},
   "outputs": [
    {
     "name": "stderr",
     "output_type": "stream",
     "text": [
      "/Users/neha/opt/anaconda3/lib/python3.8/site-packages/pandas/core/frame.py:3990: SettingWithCopyWarning: \n",
      "A value is trying to be set on a copy of a slice from a DataFrame\n",
      "\n",
      "See the caveats in the documentation: https://pandas.pydata.org/pandas-docs/stable/user_guide/indexing.html#returning-a-view-versus-a-copy\n",
      "  return super().drop(\n"
     ]
    }
   ],
   "source": [
    "features_train, features_test, classes_train, classes_test = train_test_split(planets, classes, test_size=0.3, random_state=7)\n",
    "\n",
    "ids_train = features_train['planet'].to_numpy()\n",
    "features_train.drop(['run', 'planet', 'fate', 'end time'], axis=1, inplace=True)\n",
    "\n",
    "cols = features_train.columns\n",
    "features_train = features_train.to_numpy()\n",
    "\n",
    "ids_test = features_test['planet'].to_numpy()\n",
    "features_test.drop(['run', 'planet', 'fate', 'end time'], axis=1, inplace=True)\n",
    "features_test = features_test.to_numpy()"
   ]
  },
  {
   "cell_type": "code",
   "execution_count": 16,
   "metadata": {},
   "outputs": [
    {
     "data": {
      "text/plain": [
       "GradientBoostingClassifier(random_state=7)"
      ]
     },
     "execution_count": 16,
     "metadata": {},
     "output_type": "execute_result"
    }
   ],
   "source": [
    "classifier = GradientBoostingClassifier(random_state=7)\n",
    "classifier.fit(features_train, classes_train)"
   ]
  },
  {
   "cell_type": "code",
   "execution_count": 17,
   "metadata": {},
   "outputs": [
    {
     "name": "stdout",
     "output_type": "stream",
     "text": [
      "Classifier is  88.0 % accurate on testing set\n"
     ]
    }
   ],
   "source": [
    "classes_predict = classifier.predict( features_test )\n",
    "print('Classifier is ', accuracy_score(classes_test, classes_predict) * 100, '% accurate on testing set' )"
   ]
  },
  {
   "cell_type": "markdown",
   "metadata": {},
   "source": [
    "###### Feature importance"
   ]
  },
  {
   "cell_type": "code",
   "execution_count": 12,
   "metadata": {},
   "outputs": [
    {
     "name": "stdout",
     "output_type": "stream",
     "text": [
      "max jacobi 0.18893716730625884\n",
      "initial a2_ratio 0.09634790433321441\n",
      "sd e 0.08919577030724143\n",
      "final jacobi 0.078658790011065\n",
      "max e 0.07372281959808041\n",
      "final e 0.07145607266541582\n",
      "final pericenter 0.04292184389332521\n",
      "initial a1_ratio 0.03319920279738483\n",
      "initial jacobi 0.03264608889006935\n",
      "min jacobi 0.017827078602301497\n",
      "initial e 0.016327922319387716\n",
      "min e 0.015706850632450836\n",
      "max mhr2 0.015358718632842475\n",
      "mean a2_ratio 0.014641841076766401\n",
      "min pericenter 0.011781323084987859\n",
      "final mass2_ratio 0.010733025906130829\n",
      "min mhr2 0.010173543727710942\n",
      "mean jacobi 0.009288016639082668\n",
      "min mhr1 0.009184005842373477\n",
      "max mhr1 0.008510210606110695\n",
      "initial mhr1 0.008470641909045756\n",
      "final a1_ratio 0.00837191338527416\n",
      "sd jacobi 0.008342763674335577\n",
      "initial mass2_ratio 0.008171274786695165\n",
      "max a1_ratio 0.007954190859644035\n",
      "initial mhr2 0.0075365157939307\n",
      "sd pericenter 0.007043946592514759\n",
      "min a1_ratio 0.006412400577378033\n",
      "initial mass1_ratio 0.006232445176854792\n",
      "sd a1_ratio 0.0058667884087651575\n",
      "sd mhr2 0.005354504435708195\n",
      "final a2_ratio 0.005287175878436223\n",
      "max pericenter 0.004998983593833621\n",
      "mean pericenter 0.004887783582577735\n",
      "final mass1_ratio 0.004681783268526707\n",
      "initial pericenter 0.004642324594156296\n",
      "sd mhr1 0.004535062327283226\n",
      "max mass2_ratio 0.004530763820721775\n",
      "mean e 0.004424758129416039\n",
      "mean mass1_ratio 0.004318956080410965\n",
      "final mhr1 0.004219411559696037\n",
      "min a2_ratio 0.0036269283666038985\n",
      "max mass1_ratio 0.003500049427843864\n",
      "mean a1_ratio 0.003451300058155077\n",
      "sd mass2_ratio 0.002233832674262286\n",
      "sd a2_ratio 0.0022231859600890355\n",
      "mean mhr2 0.002197637528448262\n",
      "min mass1_ratio 0.0021651624613823056\n",
      "min mass2_ratio 0.0019482747340784467\n",
      "max a2_ratio 0.001795132063045488\n",
      "mean mhr1 0.0014458772283213368\n",
      "mean mass2_ratio 0.0012864506109307298\n",
      "sd mass1_ratio 0.000811964916679233\n",
      "final mhr2 0.0004116186627543205\n"
     ]
    }
   ],
   "source": [
    "feats=classifier.feature_importances_\n",
    "inds=np.argsort(feats)[::-1]\n",
    "\n",
    "for i in range(len(inds)):\n",
    "    print(cols[inds[i]], feats[inds[i]])"
   ]
  },
  {
   "cell_type": "code",
   "execution_count": 13,
   "metadata": {},
   "outputs": [
    {
     "data": {
      "image/png": "[encoded data removed]",
      "text/plain": [
       "<Figure size 1080x504 with 1 Axes>"
      ]
     },
     "metadata": {
      "needs_background": "light"
     },
     "output_type": "display_data"
    }
   ],
   "source": [
    "import matplotlib.pyplot as plt\n",
    "import numpy as np\n",
    "import pylab\n",
    "\n",
    "\n",
    "f=plt.figure(figsize=(15,7))\n",
    "\n",
    "for i in range(len(inds)):\n",
    "    plt.bar(cols[inds[i]], feats[inds[i]] * 100)\n",
    "    \n",
    "\n",
    " \n",
    "plt.ylabel('% Importance', size=16)\n",
    "plt.xlabel('Feature', size=16)\n",
    "plt.title('Feature importance', size=20)\n",
    "plt.xticks(rotation = 90)\n",
    "plt.show()"
   ]
  }
 ],
 "metadata": {
  "kernelspec": {
   "display_name": "Python 3",
   "language": "python",
   "name": "python3"
  },
  "language_info": {
   "codemirror_mode": {
    "name": "ipython",
    "version": 3
   },
   "file_extension": ".py",
   "mimetype": "text/x-python",
   "name": "python",
   "nbconvert_exporter": "python",
   "pygments_lexer": "ipython3",
   "version": "3.8.3"
  }
 },
 "nbformat": 4,
 "nbformat_minor": 4
}
